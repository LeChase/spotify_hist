{
 "cells": [
  {
   "cell_type": "code",
   "execution_count": 577,
   "metadata": {},
   "outputs": [],
   "source": [
    "import time\n",
    "\n",
    "import os, sys\n",
    "import pandas as pd, numpy as np"
   ]
  },
  {
   "cell_type": "code",
   "execution_count": 7,
   "metadata": {},
   "outputs": [],
   "source": [
    "__scrobbles__ = 'downloads/gps56-2.csv'"
   ]
  },
  {
   "cell_type": "code",
   "execution_count": 8,
   "metadata": {},
   "outputs": [],
   "source": [
    "pd.options.mode.chained_assignment = None"
   ]
  },
  {
   "cell_type": "code",
   "execution_count": 9,
   "metadata": {},
   "outputs": [],
   "source": [
    "weekday_map = {0: 'monday',\n",
    "              1: 'tuesday', \n",
    "              2: 'wednesday',\n",
    "              3: 'thursday', \n",
    "              4: 'friday', \n",
    "              5: 'saturday', \n",
    "              6: 'sunday'}"
   ]
  },
  {
   "cell_type": "code",
   "execution_count": null,
   "metadata": {},
   "outputs": [],
   "source": []
  },
  {
   "cell_type": "code",
   "execution_count": 10,
   "metadata": {},
   "outputs": [],
   "source": [
    "df = pd.read_csv(__scrobbles__, header = None, names = ['artist', 'album', 'song', 'datetime'])"
   ]
  },
  {
   "cell_type": "code",
   "execution_count": 11,
   "metadata": {},
   "outputs": [],
   "source": [
    "# remove where datetime is NaN (negligible)\n",
    "df = df[~df.datetime.isna()]"
   ]
  },
  {
   "cell_type": "code",
   "execution_count": 12,
   "metadata": {},
   "outputs": [],
   "source": [
    "# convert datetime column to acutal datetime objects\n",
    "# subtract 7 hours since original times are UTC\n",
    "df.datetime = pd.to_datetime(df.datetime) - pd.Timedelta(hours = 7)"
   ]
  },
  {
   "cell_type": "code",
   "execution_count": 13,
   "metadata": {},
   "outputs": [
    {
     "data": {
      "text/html": [
       "<div>\n",
       "<style scoped>\n",
       "    .dataframe tbody tr th:only-of-type {\n",
       "        vertical-align: middle;\n",
       "    }\n",
       "\n",
       "    .dataframe tbody tr th {\n",
       "        vertical-align: top;\n",
       "    }\n",
       "\n",
       "    .dataframe thead th {\n",
       "        text-align: right;\n",
       "    }\n",
       "</style>\n",
       "<table border=\"1\" class=\"dataframe\">\n",
       "  <thead>\n",
       "    <tr style=\"text-align: right;\">\n",
       "      <th></th>\n",
       "      <th>artist</th>\n",
       "      <th>album</th>\n",
       "      <th>song</th>\n",
       "      <th>datetime</th>\n",
       "    </tr>\n",
       "  </thead>\n",
       "  <tbody>\n",
       "    <tr>\n",
       "      <th>55538</th>\n",
       "      <td>Getter</td>\n",
       "      <td>Wat The Frick EP</td>\n",
       "      <td>Something New</td>\n",
       "      <td>2017-07-05 06:37:00</td>\n",
       "    </tr>\n",
       "    <tr>\n",
       "      <th>55539</th>\n",
       "      <td>Che Ecru</td>\n",
       "      <td>buries</td>\n",
       "      <td>2 AM</td>\n",
       "      <td>2017-07-05 06:34:00</td>\n",
       "    </tr>\n",
       "    <tr>\n",
       "      <th>55540</th>\n",
       "      <td>Deorro</td>\n",
       "      <td>Good Evening</td>\n",
       "      <td>Guide Me</td>\n",
       "      <td>2017-07-05 06:31:00</td>\n",
       "    </tr>\n",
       "    <tr>\n",
       "      <th>55541</th>\n",
       "      <td>BONJR</td>\n",
       "      <td>Hey Sego</td>\n",
       "      <td>hey sego</td>\n",
       "      <td>2017-07-05 06:28:00</td>\n",
       "    </tr>\n",
       "    <tr>\n",
       "      <th>55542</th>\n",
       "      <td>Oshi</td>\n",
       "      <td>oshi</td>\n",
       "      <td>state of flux</td>\n",
       "      <td>2017-07-05 06:24:00</td>\n",
       "    </tr>\n",
       "    <tr>\n",
       "      <th>55543</th>\n",
       "      <td>Young Thug</td>\n",
       "      <td>Slime Season 3</td>\n",
       "      <td>With Them</td>\n",
       "      <td>2017-07-05 06:20:00</td>\n",
       "    </tr>\n",
       "    <tr>\n",
       "      <th>55544</th>\n",
       "      <td>Hyper Potions</td>\n",
       "      <td>Adventures</td>\n",
       "      <td>Adventures</td>\n",
       "      <td>2017-07-04 20:53:00</td>\n",
       "    </tr>\n",
       "    <tr>\n",
       "      <th>55545</th>\n",
       "      <td>Young Thug</td>\n",
       "      <td>Beautiful Thugger Girls</td>\n",
       "      <td>Daddy's Birthday</td>\n",
       "      <td>2017-07-04 13:05:00</td>\n",
       "    </tr>\n",
       "    <tr>\n",
       "      <th>55546</th>\n",
       "      <td>Young Thug</td>\n",
       "      <td>Slime Season</td>\n",
       "      <td>Again</td>\n",
       "      <td>2017-07-04 13:01:00</td>\n",
       "    </tr>\n",
       "    <tr>\n",
       "      <th>55547</th>\n",
       "      <td>Young Thug</td>\n",
       "      <td>Slime Season</td>\n",
       "      <td>Overdosin</td>\n",
       "      <td>2017-07-04 12:50:00</td>\n",
       "    </tr>\n",
       "    <tr>\n",
       "      <th>55548</th>\n",
       "      <td>Nessly</td>\n",
       "      <td>Solo Boy Band</td>\n",
       "      <td>Catch A Vibe</td>\n",
       "      <td>2017-07-04 12:45:00</td>\n",
       "    </tr>\n",
       "    <tr>\n",
       "      <th>55549</th>\n",
       "      <td>Drake</td>\n",
       "      <td>Future Hip Hop &amp; RnB Hits Vol. 1</td>\n",
       "      <td>How Bout Now</td>\n",
       "      <td>2017-07-04 12:41:00</td>\n",
       "    </tr>\n",
       "    <tr>\n",
       "      <th>55550</th>\n",
       "      <td>Robotaki</td>\n",
       "      <td>Ghostboy (feat. Claire Ridgely)</td>\n",
       "      <td>Ghostboy</td>\n",
       "      <td>2017-07-04 12:36:00</td>\n",
       "    </tr>\n",
       "    <tr>\n",
       "      <th>55551</th>\n",
       "      <td>Che Ecru</td>\n",
       "      <td>buries</td>\n",
       "      <td>2 AM</td>\n",
       "      <td>2017-07-04 12:32:00</td>\n",
       "    </tr>\n",
       "    <tr>\n",
       "      <th>55552</th>\n",
       "      <td>DJ Khaled</td>\n",
       "      <td>Grateful</td>\n",
       "      <td>Iced Out My Arms</td>\n",
       "      <td>2017-07-04 12:28:00</td>\n",
       "    </tr>\n",
       "    <tr>\n",
       "      <th>55553</th>\n",
       "      <td>Madeintyo</td>\n",
       "      <td>Thank You Mr. Tokyo</td>\n",
       "      <td>Time Of Her Life</td>\n",
       "      <td>2017-07-04 12:26:00</td>\n",
       "    </tr>\n",
       "    <tr>\n",
       "      <th>55554</th>\n",
       "      <td>DJ Khaled</td>\n",
       "      <td>Grateful</td>\n",
       "      <td>Iced Out My Arms</td>\n",
       "      <td>2017-07-04 12:23:00</td>\n",
       "    </tr>\n",
       "    <tr>\n",
       "      <th>55555</th>\n",
       "      <td>Young Thug</td>\n",
       "      <td>Beautiful Thugger Girls</td>\n",
       "      <td>Daddy's Birthday</td>\n",
       "      <td>2017-07-01 14:33:00</td>\n",
       "    </tr>\n",
       "    <tr>\n",
       "      <th>55556</th>\n",
       "      <td>Lil Wayne</td>\n",
       "      <td>Tha Carter IV (Deluxe)</td>\n",
       "      <td>How to Love</td>\n",
       "      <td>2017-06-29 20:39:00</td>\n",
       "    </tr>\n",
       "    <tr>\n",
       "      <th>55557</th>\n",
       "      <td>2 Chainz</td>\n",
       "      <td>Pretty Girls Like Trap Music</td>\n",
       "      <td>It's A Vibe</td>\n",
       "      <td>2017-06-29 20:34:00</td>\n",
       "    </tr>\n",
       "  </tbody>\n",
       "</table>\n",
       "</div>"
      ],
      "text/plain": [
       "              artist                             album              song  \\\n",
       "55538         Getter                  Wat The Frick EP     Something New   \n",
       "55539       Che Ecru                            buries              2 AM   \n",
       "55540         Deorro                      Good Evening          Guide Me   \n",
       "55541          BONJR                          Hey Sego          hey sego   \n",
       "55542           Oshi                              oshi     state of flux   \n",
       "55543     Young Thug                    Slime Season 3         With Them   \n",
       "55544  Hyper Potions                        Adventures        Adventures   \n",
       "55545     Young Thug           Beautiful Thugger Girls  Daddy's Birthday   \n",
       "55546     Young Thug                      Slime Season             Again   \n",
       "55547     Young Thug                      Slime Season         Overdosin   \n",
       "55548         Nessly                     Solo Boy Band      Catch A Vibe   \n",
       "55549          Drake  Future Hip Hop & RnB Hits Vol. 1      How Bout Now   \n",
       "55550       Robotaki   Ghostboy (feat. Claire Ridgely)          Ghostboy   \n",
       "55551       Che Ecru                            buries              2 AM   \n",
       "55552      DJ Khaled                          Grateful  Iced Out My Arms   \n",
       "55553      Madeintyo               Thank You Mr. Tokyo  Time Of Her Life   \n",
       "55554      DJ Khaled                          Grateful  Iced Out My Arms   \n",
       "55555     Young Thug           Beautiful Thugger Girls  Daddy's Birthday   \n",
       "55556      Lil Wayne            Tha Carter IV (Deluxe)       How to Love   \n",
       "55557       2 Chainz      Pretty Girls Like Trap Music       It's A Vibe   \n",
       "\n",
       "                 datetime  \n",
       "55538 2017-07-05 06:37:00  \n",
       "55539 2017-07-05 06:34:00  \n",
       "55540 2017-07-05 06:31:00  \n",
       "55541 2017-07-05 06:28:00  \n",
       "55542 2017-07-05 06:24:00  \n",
       "55543 2017-07-05 06:20:00  \n",
       "55544 2017-07-04 20:53:00  \n",
       "55545 2017-07-04 13:05:00  \n",
       "55546 2017-07-04 13:01:00  \n",
       "55547 2017-07-04 12:50:00  \n",
       "55548 2017-07-04 12:45:00  \n",
       "55549 2017-07-04 12:41:00  \n",
       "55550 2017-07-04 12:36:00  \n",
       "55551 2017-07-04 12:32:00  \n",
       "55552 2017-07-04 12:28:00  \n",
       "55553 2017-07-04 12:26:00  \n",
       "55554 2017-07-04 12:23:00  \n",
       "55555 2017-07-01 14:33:00  \n",
       "55556 2017-06-29 20:39:00  \n",
       "55557 2017-06-29 20:34:00  "
      ]
     },
     "execution_count": 13,
     "metadata": {},
     "output_type": "execute_result"
    }
   ],
   "source": [
    "df.tail(20)"
   ]
  },
  {
   "cell_type": "code",
   "execution_count": null,
   "metadata": {},
   "outputs": [],
   "source": []
  },
  {
   "cell_type": "markdown",
   "metadata": {},
   "source": [
    "# Time Analysis"
   ]
  },
  {
   "cell_type": "code",
   "execution_count": 32,
   "metadata": {},
   "outputs": [
    {
     "data": {
      "text/plain": [
       "1       2020-05-04 17:34:00\n",
       "2       2020-05-04 15:07:00\n",
       "3       2020-05-04 15:05:00\n",
       "4       2020-05-04 15:05:00\n",
       "5       2020-05-04 14:58:00\n",
       "                ...        \n",
       "55553   2017-07-04 12:26:00\n",
       "55554   2017-07-04 12:23:00\n",
       "55555   2017-07-01 14:33:00\n",
       "55556   2017-06-29 20:39:00\n",
       "55557   2017-06-29 20:34:00\n",
       "Name: datetime, Length: 55281, dtype: datetime64[ns]"
      ]
     },
     "execution_count": 32,
     "metadata": {},
     "output_type": "execute_result"
    }
   ],
   "source": [
    "df.datetime"
   ]
  },
  {
   "cell_type": "code",
   "execution_count": 42,
   "metadata": {},
   "outputs": [
    {
     "data": {
      "text/plain": [
       "thursday     9829\n",
       "friday       9606\n",
       "tuesday      9445\n",
       "wednesday    7775\n",
       "monday       7201\n",
       "saturday     7029\n",
       "sunday       4396\n",
       "Name: datetime, dtype: int64"
      ]
     },
     "execution_count": 42,
     "metadata": {},
     "output_type": "execute_result"
    }
   ],
   "source": [
    "df.datetime.dt.weekday.map(weekday_map).value_counts()"
   ]
  },
  {
   "cell_type": "code",
   "execution_count": null,
   "metadata": {},
   "outputs": [],
   "source": []
  },
  {
   "cell_type": "code",
   "execution_count": null,
   "metadata": {},
   "outputs": [],
   "source": []
  },
  {
   "cell_type": "markdown",
   "metadata": {},
   "source": [
    "# Lyric Sentiment Analysis"
   ]
  }
 ],
 "metadata": {
  "kernelspec": {
   "display_name": "Python 3",
   "language": "python",
   "name": "python3"
  },
  "language_info": {
   "codemirror_mode": {
    "name": "ipython",
    "version": 3
   },
   "file_extension": ".py",
   "mimetype": "text/x-python",
   "name": "python",
   "nbconvert_exporter": "python",
   "pygments_lexer": "ipython3",
   "version": "3.7.4"
  }
 },
 "nbformat": 4,
 "nbformat_minor": 4
}
