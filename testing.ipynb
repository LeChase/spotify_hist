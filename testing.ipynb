{
 "cells": [
  {
   "cell_type": "code",
   "execution_count": 577,
   "metadata": {},
   "outputs": [],
   "source": [
    "import time\n",
    "\n",
    "import os, sys\n",
    "import pandas as pd, numpy as np"
   ]
  },
  {
   "cell_type": "code",
   "execution_count": 7,
   "metadata": {},
   "outputs": [],
   "source": [
    "__scrobbles__ = 'downloads/gps56-2.csv'"
   ]
  },
  {
   "cell_type": "code",
   "execution_count": 8,
   "metadata": {},
   "outputs": [],
   "source": [
    "pd.options.mode.chained_assignment = None"
   ]
  },
  {
   "cell_type": "code",
   "execution_count": 9,
   "metadata": {},
   "outputs": [],
   "source": [
    "weekday_map = {0: 'monday',\n",
    "              1: 'tuesday', \n",
    "              2: 'wednesday',\n",
    "              3: 'thursday', \n",
    "              4: 'friday', \n",
    "              5: 'saturday', \n",
    "              6: 'sunday'}"
   ]
  },
  {
   "cell_type": "code",
   "execution_count": null,
   "metadata": {},
   "outputs": [],
   "source": []
  },
  {
   "cell_type": "code",
   "execution_count": 10,
   "metadata": {},
   "outputs": [],
   "source": [
    "df = pd.read_csv(__scrobbles__, header = None, names = ['artist', 'album', 'song', 'datetime'])"
   ]
  },
  {
   "cell_type": "code",
   "execution_count": 11,
   "metadata": {},
   "outputs": [],
   "source": [
    "# remove where datetime is NaN (negligible)\n",
    "df = df[~df.datetime.isna()]"
   ]
  },
  {
   "cell_type": "code",
   "execution_count": 12,
   "metadata": {},
   "outputs": [],
   "source": [
    "# convert datetime column to acutal datetime objects\n",
    "# subtract 7 hours since original times are UTC\n",
    "df.datetime = pd.to_datetime(df.datetime) - pd.Timedelta(hours = 7)"
   ]
  },
  {
   "cell_type": "code",
   "execution_count": 13,
   "metadata": {},
   "outputs": [
    {
     "data": {
      "text/html": [
       "<div>\n",
       "<style scoped>\n",
       "    .dataframe tbody tr th:only-of-type {\n",
       "        vertical-align: middle;\n",
       "    }\n",
       "\n",
       "    .dataframe tbody tr th {\n",
       "        vertical-align: top;\n",
       "    }\n",
       "\n",
       "    .dataframe thead th {\n",
       "        text-align: right;\n",
       "    }\n",
       "</style>\n",
       "<table border=\"1\" class=\"dataframe\">\n",
       "  <thead>\n",
       "    <tr style=\"text-align: right;\">\n",
       "      <th></th>\n",
       "      <th>artist</th>\n",
       "      <th>album</th>\n",
       "      <th>song</th>\n",
       "      <th>datetime</th>\n",
       "    </tr>\n",
       "  </thead>\n",
       "  <tbody>\n",
       "    <tr>\n",
       "      <th>55538</th>\n",
       "      <td>Getter</td>\n",
       "      <td>Wat The Frick EP</td>\n",
       "      <td>Something New</td>\n",
       "      <td>2017-07-05 06:37:00</td>\n",
       "    </tr>\n",
       "    <tr>\n",
       "      <th>55539</th>\n",
       "      <td>Che Ecru</td>\n",
       "      <td>buries</td>\n",
       "      <td>2 AM</td>\n",
       "      <td>2017-07-05 06:34:00</td>\n",
       "    </tr>\n",
       "    <tr>\n",
       "      <th>55540</th>\n",
       "      <td>Deorro</td>\n",
       "      <td>Good Evening</td>\n",
       "      <td>Guide Me</td>\n",
       "      <td>2017-07-05 06:31:00</td>\n",
       "    </tr>\n",
       "    <tr>\n",
       "      <th>55541</th>\n",
       "      <td>BONJR</td>\n",
       "      <td>Hey Sego</td>\n",
       "      <td>hey sego</td>\n",
       "      <td>2017-07-05 06:28:00</td>\n",
       "    </tr>\n",
       "    <tr>\n",
       "      <th>55542</th>\n",
       "      <td>Oshi</td>\n",
       "      <td>oshi</td>\n",
       "      <td>state of flux</td>\n",
       "      <td>2017-07-05 06:24:00</td>\n",
       "    </tr>\n",
       "    <tr>\n",
       "      <th>55543</th>\n",
       "      <td>Young Thug</td>\n",
       "      <td>Slime Season 3</td>\n",
       "      <td>With Them</td>\n",
       "      <td>2017-07-05 06:20:00</td>\n",
       "    </tr>\n",
       "    <tr>\n",
       "      <th>55544</th>\n",
       "      <td>Hyper Potions</td>\n",
       "      <td>Adventures</td>\n",
       "      <td>Adventures</td>\n",
       "      <td>2017-07-04 20:53:00</td>\n",
       "    </tr>\n",
       "    <tr>\n",
       "      <th>55545</th>\n",
       "      <td>Young Thug</td>\n",
       "      <td>Beautiful Thugger Girls</td>\n",
       "      <td>Daddy's Birthday</td>\n",
       "      <td>2017-07-04 13:05:00</td>\n",
       "    </tr>\n",
       "    <tr>\n",
       "      <th>55546</th>\n",
       "      <td>Young Thug</td>\n",
       "      <td>Slime Season</td>\n",
       "      <td>Again</td>\n",
       "      <td>2017-07-04 13:01:00</td>\n",
       "    </tr>\n",
       "    <tr>\n",
       "      <th>55547</th>\n",
       "      <td>Young Thug</td>\n",
       "      <td>Slime Season</td>\n",
       "      <td>Overdosin</td>\n",
       "      <td>2017-07-04 12:50:00</td>\n",
       "    </tr>\n",
       "    <tr>\n",
       "      <th>55548</th>\n",
       "      <td>Nessly</td>\n",
       "      <td>Solo Boy Band</td>\n",
       "      <td>Catch A Vibe</td>\n",
       "      <td>2017-07-04 12:45:00</td>\n",
       "    </tr>\n",
       "    <tr>\n",
       "      <th>55549</th>\n",
       "      <td>Drake</td>\n",
       "      <td>Future Hip Hop &amp; RnB Hits Vol. 1</td>\n",
       "      <td>How Bout Now</td>\n",
       "      <td>2017-07-04 12:41:00</td>\n",
       "    </tr>\n",
       "    <tr>\n",
       "      <th>55550</th>\n",
       "      <td>Robotaki</td>\n",
       "      <td>Ghostboy (feat. Claire Ridgely)</td>\n",
       "      <td>Ghostboy</td>\n",
       "      <td>2017-07-04 12:36:00</td>\n",
       "    </tr>\n",
       "    <tr>\n",
       "      <th>55551</th>\n",
       "      <td>Che Ecru</td>\n",
       "      <td>buries</td>\n",
       "      <td>2 AM</td>\n",
       "      <td>2017-07-04 12:32:00</td>\n",
       "    </tr>\n",
       "    <tr>\n",
       "      <th>55552</th>\n",
       "      <td>DJ Khaled</td>\n",
       "      <td>Grateful</td>\n",
       "      <td>Iced Out My Arms</td>\n",
       "      <td>2017-07-04 12:28:00</td>\n",
       "    </tr>\n",
       "    <tr>\n",
       "      <th>55553</th>\n",
       "      <td>Madeintyo</td>\n",
       "      <td>Thank You Mr. Tokyo</td>\n",
       "      <td>Time Of Her Life</td>\n",
       "      <td>2017-07-04 12:26:00</td>\n",
       "    </tr>\n",
       "    <tr>\n",
       "      <th>55554</th>\n",
       "      <td>DJ Khaled</td>\n",
       "      <td>Grateful</td>\n",
       "      <td>Iced Out My Arms</td>\n",
       "      <td>2017-07-04 12:23:00</td>\n",
       "    </tr>\n",
       "    <tr>\n",
       "      <th>55555</th>\n",
       "      <td>Young Thug</td>\n",
       "      <td>Beautiful Thugger Girls</td>\n",
       "      <td>Daddy's Birthday</td>\n",
       "      <td>2017-07-01 14:33:00</td>\n",
       "    </tr>\n",
       "    <tr>\n",
       "      <th>55556</th>\n",
       "      <td>Lil Wayne</td>\n",
       "      <td>Tha Carter IV (Deluxe)</td>\n",
       "      <td>How to Love</td>\n",
       "      <td>2017-06-29 20:39:00</td>\n",
       "    </tr>\n",
       "    <tr>\n",
       "      <th>55557</th>\n",
       "      <td>2 Chainz</td>\n",
       "      <td>Pretty Girls Like Trap Music</td>\n",
       "      <td>It's A Vibe</td>\n",
       "      <td>2017-06-29 20:34:00</td>\n",
       "    </tr>\n",
       "  </tbody>\n",
       "</table>\n",
       "</div>"
      ],
      "text/plain": [
       "              artist                             album              song  \\\n",
       "55538         Getter                  Wat The Frick EP     Something New   \n",
       "55539       Che Ecru                            buries              2 AM   \n",
       "55540         Deorro                      Good Evening          Guide Me   \n",
       "55541          BONJR                          Hey Sego          hey sego   \n",
       "55542           Oshi                              oshi     state of flux   \n",
       "55543     Young Thug                    Slime Season 3         With Them   \n",
       "55544  Hyper Potions                        Adventures        Adventures   \n",
       "55545     Young Thug           Beautiful Thugger Girls  Daddy's Birthday   \n",
       "55546     Young Thug                      Slime Season             Again   \n",
       "55547     Young Thug                      Slime Season         Overdosin   \n",
       "55548         Nessly                     Solo Boy Band      Catch A Vibe   \n",
       "55549          Drake  Future Hip Hop & RnB Hits Vol. 1      How Bout Now   \n",
       "55550       Robotaki   Ghostboy (feat. Claire Ridgely)          Ghostboy   \n",
       "55551       Che Ecru                            buries              2 AM   \n",
       "55552      DJ Khaled                          Grateful  Iced Out My Arms   \n",
       "55553      Madeintyo               Thank You Mr. Tokyo  Time Of Her Life   \n",
       "55554      DJ Khaled                          Grateful  Iced Out My Arms   \n",
       "55555     Young Thug           Beautiful Thugger Girls  Daddy's Birthday   \n",
       "55556      Lil Wayne            Tha Carter IV (Deluxe)       How to Love   \n",
       "55557       2 Chainz      Pretty Girls Like Trap Music       It's A Vibe   \n",
       "\n",
       "                 datetime  \n",
       "55538 2017-07-05 06:37:00  \n",
       "55539 2017-07-05 06:34:00  \n",
       "55540 2017-07-05 06:31:00  \n",
       "55541 2017-07-05 06:28:00  \n",
       "55542 2017-07-05 06:24:00  \n",
       "55543 2017-07-05 06:20:00  \n",
       "55544 2017-07-04 20:53:00  \n",
       "55545 2017-07-04 13:05:00  \n",
       "55546 2017-07-04 13:01:00  \n",
       "55547 2017-07-04 12:50:00  \n",
       "55548 2017-07-04 12:45:00  \n",
       "55549 2017-07-04 12:41:00  \n",
       "55550 2017-07-04 12:36:00  \n",
       "55551 2017-07-04 12:32:00  \n",
       "55552 2017-07-04 12:28:00  \n",
       "55553 2017-07-04 12:26:00  \n",
       "55554 2017-07-04 12:23:00  \n",
       "55555 2017-07-01 14:33:00  \n",
       "55556 2017-06-29 20:39:00  \n",
       "55557 2017-06-29 20:34:00  "
      ]
     },
     "execution_count": 13,
     "metadata": {},
     "output_type": "execute_result"
    }
   ],
   "source": [
    "df.tail(20)"
   ]
  },
  {
   "cell_type": "code",
   "execution_count": null,
   "metadata": {},
   "outputs": [],
   "source": []
  },
  {
   "cell_type": "markdown",
   "metadata": {},
   "source": [
    "# Time Analysis"
   ]
  },
  {
   "cell_type": "code",
   "execution_count": 32,
   "metadata": {},
   "outputs": [
    {
     "data": {
      "text/plain": [
       "1       2020-05-04 17:34:00\n",
       "2       2020-05-04 15:07:00\n",
       "3       2020-05-04 15:05:00\n",
       "4       2020-05-04 15:05:00\n",
       "5       2020-05-04 14:58:00\n",
       "                ...        \n",
       "55553   2017-07-04 12:26:00\n",
       "55554   2017-07-04 12:23:00\n",
       "55555   2017-07-01 14:33:00\n",
       "55556   2017-06-29 20:39:00\n",
       "55557   2017-06-29 20:34:00\n",
       "Name: datetime, Length: 55281, dtype: datetime64[ns]"
      ]
     },
     "execution_count": 32,
     "metadata": {},
     "output_type": "execute_result"
    }
   ],
   "source": [
    "df.datetime"
   ]
  },
  {
   "cell_type": "code",
   "execution_count": 42,
   "metadata": {},
   "outputs": [
    {
     "data": {
      "text/plain": [
       "thursday     9829\n",
       "friday       9606\n",
       "tuesday      9445\n",
       "wednesday    7775\n",
       "monday       7201\n",
       "saturday     7029\n",
       "sunday       4396\n",
       "Name: datetime, dtype: int64"
      ]
     },
     "execution_count": 42,
     "metadata": {},
     "output_type": "execute_result"
    }
   ],
   "source": [
    "df.datetime.dt.weekday.map(weekday_map).value_counts()"
   ]
  },
  {
   "cell_type": "code",
   "execution_count": null,
   "metadata": {},
   "outputs": [],
   "source": []
  },
  {
   "cell_type": "code",
   "execution_count": null,
   "metadata": {},
   "outputs": [],
   "source": []
  },
  {
   "cell_type": "markdown",
   "metadata": {},
   "source": [
    "# Lyric Sentiment Analysis"
   ]
  },
  {
   "cell_type": "code",
   "execution_count": 44,
   "metadata": {},
   "outputs": [],
   "source": [
    "# for genius API\n",
    "# name           pysent\n",
    "# URL            https://github.com/LeChase/spotify_hist\n",
    "# client ID      lT9Ki6NGuPJC8bVLWtmNn0F2J5kYPiL0E7i9pHN8jHot6pnYb_x7rlFlbYAZepEV\n",
    "# client secret  bElRrQIVRVRZRA3h3iPvUm2iSk6mpeQzYU8H_GPMsMAAJWgSHgSF2j_sigwjJVrvhdJ8d-StiZISXxNKD5cbog\n",
    "# access token   UgvKlj9wHavgvBZScdTzfIKL2DKiIatIwPVV0M6JpEqm8YgIC_eJiQsYcsnmU2G-"
   ]
  },
  {
   "cell_type": "code",
   "execution_count": 14,
   "metadata": {},
   "outputs": [],
   "source": [
    "import lyricsgenius, json"
   ]
  },
  {
   "cell_type": "code",
   "execution_count": 69,
   "metadata": {},
   "outputs": [],
   "source": [
    "genius = lyricsgenius.Genius(\"UgvKlj9wHavgvBZScdTzfIKL2DKiIatIwPVV0M6JpEqm8YgIC_eJiQsYcsnmU2G-\", timeout = 60, sleep_time = 2)"
   ]
  },
  {
   "cell_type": "code",
   "execution_count": 71,
   "metadata": {},
   "outputs": [],
   "source": [
    "genius.verbose = False"
   ]
  },
  {
   "cell_type": "code",
   "execution_count": 17,
   "metadata": {},
   "outputs": [],
   "source": [
    "# artist = genius.search_artist(\"Drake\", max_songs=2,)"
   ]
  },
  {
   "cell_type": "code",
   "execution_count": null,
   "metadata": {},
   "outputs": [],
   "source": []
  },
  {
   "cell_type": "code",
   "execution_count": null,
   "metadata": {},
   "outputs": [],
   "source": []
  },
  {
   "cell_type": "code",
   "execution_count": 18,
   "metadata": {},
   "outputs": [],
   "source": [
    "# artist.save_lyrics()"
   ]
  },
  {
   "cell_type": "code",
   "execution_count": null,
   "metadata": {},
   "outputs": [],
   "source": []
  },
  {
   "cell_type": "code",
   "execution_count": 19,
   "metadata": {},
   "outputs": [],
   "source": [
    "# # Reading the json as a dict\n",
    "# with open('Lyrics_Drake.json') as json_data:\n",
    "#     data = json.load(json_data)"
   ]
  },
  {
   "cell_type": "code",
   "execution_count": 20,
   "metadata": {},
   "outputs": [],
   "source": [
    "# len(data['songs'])"
   ]
  },
  {
   "cell_type": "code",
   "execution_count": 22,
   "metadata": {},
   "outputs": [],
   "source": [
    "# song = genius.search_song(\"somethign new getter\")"
   ]
  },
  {
   "cell_type": "code",
   "execution_count": null,
   "metadata": {},
   "outputs": [],
   "source": []
  },
  {
   "cell_type": "code",
   "execution_count": null,
   "metadata": {},
   "outputs": [],
   "source": []
  },
  {
   "cell_type": "code",
   "execution_count": null,
   "metadata": {},
   "outputs": [],
   "source": []
  },
  {
   "cell_type": "code",
   "execution_count": 56,
   "metadata": {},
   "outputs": [],
   "source": [
    "def get_lyrics(row):\n",
    "    try:\n",
    "        song = genius.search_song(' - '.join((row.artist, row.song)))\n",
    "        return song.lyrics\n",
    "    except AttributeError:\n",
    "        return 'NOT FOUND'"
   ]
  },
  {
   "cell_type": "code",
   "execution_count": 26,
   "metadata": {},
   "outputs": [],
   "source": [
    "test = df.sample(20)"
   ]
  },
  {
   "cell_type": "code",
   "execution_count": 116,
   "metadata": {},
   "outputs": [
    {
     "name": "stdout",
     "output_type": "stream",
     "text": [
      "Searching for \"Still Here Drake\"...\n",
      "Done.\n",
      "Searching for \"Life is Good (feat. Drake) Future\"...\n",
      "Done.\n",
      "Searching for \"Big Amount 2 Chainz\"...\n",
      "Done.\n",
      "Searching for \"Fuck That Check Up (feat. Lil Uzi Vert) Meek Mill\"...\n",
      "Done.\n",
      "Searching for \"Shelter Porter Robinson\"...\n",
      "Done.\n",
      "Searching for \"Rebound aftertheparty\"...\n",
      "Done.\n",
      "Searching for \"Check the Rhime A Tribe Called Quest\"...\n",
      "Done.\n",
      "Searching for \"No Time (feat. Gunna) Playboi Carti\"...\n",
      "Done.\n",
      "Searching for \"Find My Way DaBaby\"...\n",
      "Done.\n",
      "Searching for \"Paramedic! SOB x RBE\"...\n",
      "Done.\n",
      "Searching for \"Pursuit of Happiness (Nightmare) Kid Cudi\"...\n",
      "Done.\n",
      "Searching for \"200 Future\"...\n",
      "Done.\n",
      "Searching for \"Armed and Dangerous Juice WRLD\"...\n",
      "Done.\n",
      "Searching for \"South Galimatias\"...\n",
      "Done.\n",
      "Searching for \"No Role Modelz J. Cole\"...\n",
      "Done.\n",
      "Searching for \"BoomTrap Protocol Logic\"...\n",
      "Done.\n",
      "Searching for \"No Heart 21 Savage\"...\n",
      "Done.\n",
      "Searching for \"Feed Me Dope Future\"...\n",
      "Done.\n",
      "Searching for \"Lil Arrogant (feat. Joey Bada$$ & Russ) IDK\"...\n",
      "Done.\n",
      "Searching for \"Starman - 2012 Remaster David Bowie\"...\n",
      "No results found for: 'Starman - 2012 Remaster David Bowie'\n"
     ]
    },
    {
     "name": "stderr",
     "output_type": "stream",
     "text": [
      "/Users/georgeschnaars/Desktop/Python/spotify_hist/test_env/lib/python3.7/site-packages/ipykernel_launcher.py:1: UserWarning: Pandas doesn't allow columns to be created via a new attribute name - see https://pandas.pydata.org/pandas-docs/stable/indexing.html#attribute-access\n",
      "  \"\"\"Entry point for launching an IPython kernel.\n"
     ]
    }
   ],
   "source": [
    "test.lyrics = test.apply(get_lyrics, axis = 1)"
   ]
  },
  {
   "cell_type": "code",
   "execution_count": 118,
   "metadata": {},
   "outputs": [
    {
     "data": {
      "text/plain": [
       "30513    [Intro]\\nDoin' well dog\\nYeah, me and all my\\n...\n",
       "7776     [Перевод песни \"Future - Life Is Good (feat. D...\n",
       "14649    [Intro: 2 Chainz]\\nI'ma tell you, I'ma tell yo...\n",
       "54424    [Intro: Meek Mill]\\nLil' fish, yeah\\nIf you ca...\n",
       "7591     [Intro: Amy Millan]\\nAyy, I will, ayy\\nAyy, I ...\n",
       "53000    [Pre-Chorus]\\nBaby I know you want someone\\nTo...\n",
       "16181    [Intro]\\nUh, uh, uh, uh\\nUh, uh, uh, check the...\n",
       "26555    [Intro: Playboi Carti]\\nCheck it out\\nWake up ...\n",
       "551      [Intro]\\nWait a minute, who are you? (Ayy, yo,...\n",
       "36624    [Intro: Zacari & Kendrick Lamar]\\nI am Killmon...\n",
       "14215    [Intro: Kid Cudi]\\nMmmm, ay-oh\\nHey...\\nRatata...\n",
       "6283     [Intro: Young Thug]\\nEverything right\\nEveryth...\n",
       "21353              \\n            Lyrics for this song h...\n",
       "41499    [Verse 1]\\nLook me in the eye I'ma take it slo...\n",
       "48604    [Produced by Phonix Beats and J. Cole]\\n\\n[Ver...\n",
       "44165    [Verse 1]\\nLet me get up in this bitch, like, ...\n",
       "45620    [Intro]\\nSouthside, Southside on the, Southsid...\n",
       "2700     [Intro]\\nReady for whatever\\nClever as it get\\...\n",
       "38946    [Verse 1: IDK]\\nThis is what you all been wait...\n",
       "8968                                             NOT FOUND\n",
       "dtype: object"
      ]
     },
     "execution_count": 118,
     "metadata": {},
     "output_type": "execute_result"
    }
   ],
   "source": [
    "test.lyrics"
   ]
  },
  {
   "cell_type": "code",
   "execution_count": 121,
   "metadata": {},
   "outputs": [],
   "source": [
    "test['lyrics'] = test.lyrics"
   ]
  },
  {
   "cell_type": "code",
   "execution_count": 122,
   "metadata": {},
   "outputs": [
    {
     "data": {
      "text/html": [
       "<div>\n",
       "<style scoped>\n",
       "    .dataframe tbody tr th:only-of-type {\n",
       "        vertical-align: middle;\n",
       "    }\n",
       "\n",
       "    .dataframe tbody tr th {\n",
       "        vertical-align: top;\n",
       "    }\n",
       "\n",
       "    .dataframe thead th {\n",
       "        text-align: right;\n",
       "    }\n",
       "</style>\n",
       "<table border=\"1\" class=\"dataframe\">\n",
       "  <thead>\n",
       "    <tr style=\"text-align: right;\">\n",
       "      <th></th>\n",
       "      <th>artist</th>\n",
       "      <th>album</th>\n",
       "      <th>song</th>\n",
       "      <th>datetime</th>\n",
       "      <th>lyrics</th>\n",
       "    </tr>\n",
       "  </thead>\n",
       "  <tbody>\n",
       "    <tr>\n",
       "      <th>30513</th>\n",
       "      <td>Drake</td>\n",
       "      <td>Views</td>\n",
       "      <td>Still Here</td>\n",
       "      <td>2019-01-29 00:58:00</td>\n",
       "      <td>[Intro]\\nDoin' well dog\\nYeah, me and all my\\n...</td>\n",
       "    </tr>\n",
       "    <tr>\n",
       "      <th>7776</th>\n",
       "      <td>Future</td>\n",
       "      <td>Life Is Good (feat. Drake)</td>\n",
       "      <td>Life is Good (feat. Drake)</td>\n",
       "      <td>2020-01-10 04:00:00</td>\n",
       "      <td>[Перевод песни \"Future - Life Is Good (feat. D...</td>\n",
       "    </tr>\n",
       "    <tr>\n",
       "      <th>14649</th>\n",
       "      <td>2 Chainz</td>\n",
       "      <td>Pretty Girls Like Trap Music</td>\n",
       "      <td>Big Amount</td>\n",
       "      <td>2019-10-10 13:41:00</td>\n",
       "      <td>[Intro: 2 Chainz]\\nI'ma tell you, I'ma tell yo...</td>\n",
       "    </tr>\n",
       "    <tr>\n",
       "      <th>54424</th>\n",
       "      <td>Meek Mill</td>\n",
       "      <td>Wins &amp; Losses</td>\n",
       "      <td>Fuck That Check Up (feat. Lil Uzi Vert)</td>\n",
       "      <td>2017-07-25 05:29:00</td>\n",
       "      <td>[Intro: Meek Mill]\\nLil' fish, yeah\\nIf you ca...</td>\n",
       "    </tr>\n",
       "    <tr>\n",
       "      <th>7591</th>\n",
       "      <td>Porter Robinson</td>\n",
       "      <td>Shelter</td>\n",
       "      <td>Shelter</td>\n",
       "      <td>2020-01-13 06:15:00</td>\n",
       "      <td>[Intro: Amy Millan]\\nAyy, I will, ayy\\nAyy, I ...</td>\n",
       "    </tr>\n",
       "    <tr>\n",
       "      <th>53000</th>\n",
       "      <td>aftertheparty</td>\n",
       "      <td>?!</td>\n",
       "      <td>Rebound</td>\n",
       "      <td>2017-08-14 07:50:00</td>\n",
       "      <td>[Pre-Chorus]\\nBaby I know you want someone\\nTo...</td>\n",
       "    </tr>\n",
       "    <tr>\n",
       "      <th>16181</th>\n",
       "      <td>A Tribe Called Quest</td>\n",
       "      <td>The Low End Theory</td>\n",
       "      <td>Check the Rhime</td>\n",
       "      <td>2019-09-21 13:16:00</td>\n",
       "      <td>[Intro]\\nUh, uh, uh, uh\\nUh, uh, uh, check the...</td>\n",
       "    </tr>\n",
       "    <tr>\n",
       "      <th>26555</th>\n",
       "      <td>Playboi Carti</td>\n",
       "      <td>Die Lit</td>\n",
       "      <td>No Time (feat. Gunna)</td>\n",
       "      <td>2019-03-29 13:57:00</td>\n",
       "      <td>[Intro: Playboi Carti]\\nCheck it out\\nWake up ...</td>\n",
       "    </tr>\n",
       "    <tr>\n",
       "      <th>551</th>\n",
       "      <td>DaBaby</td>\n",
       "      <td>Find My Way</td>\n",
       "      <td>Find My Way</td>\n",
       "      <td>2020-04-24 04:53:00</td>\n",
       "      <td>[Intro]\\nWait a minute, who are you? (Ayy, yo,...</td>\n",
       "    </tr>\n",
       "    <tr>\n",
       "      <th>36624</th>\n",
       "      <td>SOB x RBE</td>\n",
       "      <td>Black Panther the Album Music From and Inspire...</td>\n",
       "      <td>Paramedic!</td>\n",
       "      <td>2018-10-04 08:30:00</td>\n",
       "      <td>[Intro: Zacari &amp; Kendrick Lamar]\\nI am Killmon...</td>\n",
       "    </tr>\n",
       "    <tr>\n",
       "      <th>14215</th>\n",
       "      <td>Kid Cudi</td>\n",
       "      <td>Man on the Moon: The End of Day</td>\n",
       "      <td>Pursuit of Happiness (Nightmare)</td>\n",
       "      <td>2019-10-15 14:32:00</td>\n",
       "      <td>[Intro: Kid Cudi]\\nMmmm, ay-oh\\nHey...\\nRatata...</td>\n",
       "    </tr>\n",
       "    <tr>\n",
       "      <th>6283</th>\n",
       "      <td>Future</td>\n",
       "      <td>SUPER SLIMEY</td>\n",
       "      <td>200</td>\n",
       "      <td>2020-01-31 17:37:00</td>\n",
       "      <td>[Intro: Young Thug]\\nEverything right\\nEveryth...</td>\n",
       "    </tr>\n",
       "    <tr>\n",
       "      <th>21353</th>\n",
       "      <td>Juice WRLD</td>\n",
       "      <td>Goodbye &amp; Good Riddance</td>\n",
       "      <td>Armed and Dangerous</td>\n",
       "      <td>2019-07-03 09:03:00</td>\n",
       "      <td>\\n            Lyrics for this song h...</td>\n",
       "    </tr>\n",
       "    <tr>\n",
       "      <th>41499</th>\n",
       "      <td>Galimatias</td>\n",
       "      <td>South</td>\n",
       "      <td>South</td>\n",
       "      <td>2018-06-17 23:46:00</td>\n",
       "      <td>[Verse 1]\\nLook me in the eye I'ma take it slo...</td>\n",
       "    </tr>\n",
       "    <tr>\n",
       "      <th>48604</th>\n",
       "      <td>J. Cole</td>\n",
       "      <td>2014 Forest Hills Drive</td>\n",
       "      <td>No Role Modelz</td>\n",
       "      <td>2017-11-10 21:11:00</td>\n",
       "      <td>[Produced by Phonix Beats and J. Cole]\\n\\n[Ver...</td>\n",
       "    </tr>\n",
       "    <tr>\n",
       "      <th>44165</th>\n",
       "      <td>Logic</td>\n",
       "      <td>Bobby Tarantino II</td>\n",
       "      <td>BoomTrap Protocol</td>\n",
       "      <td>2018-03-09 05:18:00</td>\n",
       "      <td>[Verse 1]\\nLet me get up in this bitch, like, ...</td>\n",
       "    </tr>\n",
       "    <tr>\n",
       "      <th>45620</th>\n",
       "      <td>21 Savage</td>\n",
       "      <td>Savage Mode</td>\n",
       "      <td>No Heart</td>\n",
       "      <td>2018-01-31 16:54:00</td>\n",
       "      <td>[Intro]\\nSouthside, Southside on the, Southsid...</td>\n",
       "    </tr>\n",
       "    <tr>\n",
       "      <th>2700</th>\n",
       "      <td>Future</td>\n",
       "      <td>SUPER SLIMEY</td>\n",
       "      <td>Feed Me Dope</td>\n",
       "      <td>2020-03-19 13:03:00</td>\n",
       "      <td>[Intro]\\nReady for whatever\\nClever as it get\\...</td>\n",
       "    </tr>\n",
       "    <tr>\n",
       "      <th>38946</th>\n",
       "      <td>IDK</td>\n",
       "      <td>Lil Arrogant (feat. Joey Bada$$ &amp; Russ)</td>\n",
       "      <td>Lil Arrogant (feat. Joey Bada$$ &amp; Russ)</td>\n",
       "      <td>2018-08-16 08:24:00</td>\n",
       "      <td>[Verse 1: IDK]\\nThis is what you all been wait...</td>\n",
       "    </tr>\n",
       "    <tr>\n",
       "      <th>8968</th>\n",
       "      <td>David Bowie</td>\n",
       "      <td>The Rise And Fall Of Ziggy Stardust And The Sp...</td>\n",
       "      <td>Starman - 2012 Remaster</td>\n",
       "      <td>2019-12-20 13:49:00</td>\n",
       "      <td>NOT FOUND</td>\n",
       "    </tr>\n",
       "  </tbody>\n",
       "</table>\n",
       "</div>"
      ],
      "text/plain": [
       "                     artist  \\\n",
       "30513                 Drake   \n",
       "7776                 Future   \n",
       "14649              2 Chainz   \n",
       "54424             Meek Mill   \n",
       "7591        Porter Robinson   \n",
       "53000         aftertheparty   \n",
       "16181  A Tribe Called Quest   \n",
       "26555         Playboi Carti   \n",
       "551                  DaBaby   \n",
       "36624             SOB x RBE   \n",
       "14215              Kid Cudi   \n",
       "6283                 Future   \n",
       "21353            Juice WRLD   \n",
       "41499            Galimatias   \n",
       "48604               J. Cole   \n",
       "44165                 Logic   \n",
       "45620             21 Savage   \n",
       "2700                 Future   \n",
       "38946                   IDK   \n",
       "8968            David Bowie   \n",
       "\n",
       "                                                   album  \\\n",
       "30513                                              Views   \n",
       "7776                          Life Is Good (feat. Drake)   \n",
       "14649                       Pretty Girls Like Trap Music   \n",
       "54424                                      Wins & Losses   \n",
       "7591                                             Shelter   \n",
       "53000                                                 ?!   \n",
       "16181                                 The Low End Theory   \n",
       "26555                                            Die Lit   \n",
       "551                                          Find My Way   \n",
       "36624  Black Panther the Album Music From and Inspire...   \n",
       "14215                    Man on the Moon: The End of Day   \n",
       "6283                                        SUPER SLIMEY   \n",
       "21353                            Goodbye & Good Riddance   \n",
       "41499                                              South   \n",
       "48604                            2014 Forest Hills Drive   \n",
       "44165                                 Bobby Tarantino II   \n",
       "45620                                        Savage Mode   \n",
       "2700                                        SUPER SLIMEY   \n",
       "38946            Lil Arrogant (feat. Joey Bada$$ & Russ)   \n",
       "8968   The Rise And Fall Of Ziggy Stardust And The Sp...   \n",
       "\n",
       "                                          song            datetime  \\\n",
       "30513                               Still Here 2019-01-29 00:58:00   \n",
       "7776                Life is Good (feat. Drake) 2020-01-10 04:00:00   \n",
       "14649                               Big Amount 2019-10-10 13:41:00   \n",
       "54424  Fuck That Check Up (feat. Lil Uzi Vert) 2017-07-25 05:29:00   \n",
       "7591                                   Shelter 2020-01-13 06:15:00   \n",
       "53000                                  Rebound 2017-08-14 07:50:00   \n",
       "16181                          Check the Rhime 2019-09-21 13:16:00   \n",
       "26555                    No Time (feat. Gunna) 2019-03-29 13:57:00   \n",
       "551                                Find My Way 2020-04-24 04:53:00   \n",
       "36624                               Paramedic! 2018-10-04 08:30:00   \n",
       "14215         Pursuit of Happiness (Nightmare) 2019-10-15 14:32:00   \n",
       "6283                                       200 2020-01-31 17:37:00   \n",
       "21353                      Armed and Dangerous 2019-07-03 09:03:00   \n",
       "41499                                    South 2018-06-17 23:46:00   \n",
       "48604                           No Role Modelz 2017-11-10 21:11:00   \n",
       "44165                        BoomTrap Protocol 2018-03-09 05:18:00   \n",
       "45620                                 No Heart 2018-01-31 16:54:00   \n",
       "2700                              Feed Me Dope 2020-03-19 13:03:00   \n",
       "38946  Lil Arrogant (feat. Joey Bada$$ & Russ) 2018-08-16 08:24:00   \n",
       "8968                   Starman - 2012 Remaster 2019-12-20 13:49:00   \n",
       "\n",
       "                                                  lyrics  \n",
       "30513  [Intro]\\nDoin' well dog\\nYeah, me and all my\\n...  \n",
       "7776   [Перевод песни \"Future - Life Is Good (feat. D...  \n",
       "14649  [Intro: 2 Chainz]\\nI'ma tell you, I'ma tell yo...  \n",
       "54424  [Intro: Meek Mill]\\nLil' fish, yeah\\nIf you ca...  \n",
       "7591   [Intro: Amy Millan]\\nAyy, I will, ayy\\nAyy, I ...  \n",
       "53000  [Pre-Chorus]\\nBaby I know you want someone\\nTo...  \n",
       "16181  [Intro]\\nUh, uh, uh, uh\\nUh, uh, uh, check the...  \n",
       "26555  [Intro: Playboi Carti]\\nCheck it out\\nWake up ...  \n",
       "551    [Intro]\\nWait a minute, who are you? (Ayy, yo,...  \n",
       "36624  [Intro: Zacari & Kendrick Lamar]\\nI am Killmon...  \n",
       "14215  [Intro: Kid Cudi]\\nMmmm, ay-oh\\nHey...\\nRatata...  \n",
       "6283   [Intro: Young Thug]\\nEverything right\\nEveryth...  \n",
       "21353            \\n            Lyrics for this song h...  \n",
       "41499  [Verse 1]\\nLook me in the eye I'ma take it slo...  \n",
       "48604  [Produced by Phonix Beats and J. Cole]\\n\\n[Ver...  \n",
       "44165  [Verse 1]\\nLet me get up in this bitch, like, ...  \n",
       "45620  [Intro]\\nSouthside, Southside on the, Southsid...  \n",
       "2700   [Intro]\\nReady for whatever\\nClever as it get\\...  \n",
       "38946  [Verse 1: IDK]\\nThis is what you all been wait...  \n",
       "8968                                           NOT FOUND  "
      ]
     },
     "execution_count": 122,
     "metadata": {},
     "output_type": "execute_result"
    }
   ],
   "source": [
    "test"
   ]
  },
  {
   "cell_type": "code",
   "execution_count": 157,
   "metadata": {},
   "outputs": [
    {
     "name": "stdout",
     "output_type": "stream",
     "text": [
      "Searching for \"Drake Still Here\"...\n",
      "Done.\n",
      "Searching for \"Drake Still Here\"...\n",
      "Done.\n",
      "2.1 s ± 0 ns per loop (mean ± std. dev. of 1 run, 1 loop each)\n"
     ]
    }
   ],
   "source": [
    "%%timeit -r1\n",
    "get_lyrics(test.iloc[0])"
   ]
  },
  {
   "cell_type": "code",
   "execution_count": null,
   "metadata": {},
   "outputs": [],
   "source": []
  },
  {
   "cell_type": "code",
   "execution_count": 34,
   "metadata": {},
   "outputs": [],
   "source": [
    "test_lyrics = get_lyrics(test.iloc[0])"
   ]
  },
  {
   "cell_type": "code",
   "execution_count": 35,
   "metadata": {},
   "outputs": [
    {
     "data": {
      "text/plain": [
       "3966"
      ]
     },
     "execution_count": 35,
     "metadata": {},
     "output_type": "execute_result"
    }
   ],
   "source": [
    "len(test_lyrics)"
   ]
  },
  {
   "cell_type": "code",
   "execution_count": null,
   "metadata": {},
   "outputs": [],
   "source": []
  },
  {
   "cell_type": "code",
   "execution_count": 167,
   "metadata": {},
   "outputs": [
    {
     "data": {
      "text/plain": [
       "4180"
      ]
     },
     "execution_count": 167,
     "metadata": {},
     "output_type": "execute_result"
    }
   ],
   "source": [
    "sys.getsizeof(test_lyrics)"
   ]
  },
  {
   "cell_type": "code",
   "execution_count": 169,
   "metadata": {},
   "outputs": [],
   "source": [
    "test['bytes'] = test.lyrics.apply(sys.getsizeof)"
   ]
  },
  {
   "cell_type": "code",
   "execution_count": 174,
   "metadata": {},
   "outputs": [
    {
     "name": "stdout",
     "output_type": "stream",
     "text": [
      "28.959085599999998 MB total\n"
     ]
    }
   ],
   "source": [
    "print(test.bytes.mean()*len(dupes)/1000000, 'MB total')"
   ]
  },
  {
   "cell_type": "code",
   "execution_count": 178,
   "metadata": {},
   "outputs": [
    {
     "name": "stdout",
     "output_type": "stream",
     "text": [
      "4.6096111111111115 hrs to scrape\n"
     ]
    }
   ],
   "source": [
    "print(2.2 * len(dupes)/60/60, 'hrs to scrape')"
   ]
  },
  {
   "cell_type": "code",
   "execution_count": 1,
   "metadata": {},
   "outputs": [],
   "source": [
    "import util"
   ]
  },
  {
   "cell_type": "code",
   "execution_count": 2,
   "metadata": {},
   "outputs": [
    {
     "name": "stdout",
     "output_type": "stream",
     "text": [
      "Help on module util:\n",
      "\n",
      "NAME\n",
      "    util - util module\n",
      "\n",
      "FUNCTIONS\n",
      "    suppress_stdout(func)\n",
      "        decorator to redirect print output to null\n",
      "\n",
      "FILE\n",
      "    /Users/georgeschnaars/Desktop/Python/spotify_hist/util.py\n",
      "\n",
      "\n"
     ]
    }
   ],
   "source": [
    "help(util)"
   ]
  },
  {
   "cell_type": "code",
   "execution_count": 3,
   "metadata": {},
   "outputs": [
    {
     "name": "stdout",
     "output_type": "stream",
     "text": [
      "Help on function suppress_stdout in module util:\n",
      "\n",
      "suppress_stdout(func)\n",
      "    decorator to redirect print output to null\n",
      "\n"
     ]
    }
   ],
   "source": [
    "help(util.suppress_stdout)"
   ]
  },
  {
   "cell_type": "code",
   "execution_count": 189,
   "metadata": {},
   "outputs": [],
   "source": []
  },
  {
   "cell_type": "code",
   "execution_count": 44,
   "metadata": {},
   "outputs": [],
   "source": [
    "uniques = df.drop_duplicates(['artist', 'song'])[['artist', 'song']]"
   ]
  },
  {
   "cell_type": "code",
   "execution_count": 398,
   "metadata": {},
   "outputs": [],
   "source": [
    "# print('starting:', time.ctime())\n",
    "# uniques['lyrics'] = uniques.apply(get_lyrics, axis = 1)\n",
    "# print('ending:', time.ctime())"
   ]
  },
  {
   "cell_type": "code",
   "execution_count": null,
   "metadata": {},
   "outputs": [],
   "source": []
  },
  {
   "cell_type": "code",
   "execution_count": 110,
   "metadata": {},
   "outputs": [],
   "source": [
    "test = uniques.groupby('artist')['song'].apply(list).reset_index(name = 'songs')"
   ]
  },
  {
   "cell_type": "code",
   "execution_count": 234,
   "metadata": {},
   "outputs": [
    {
     "data": {
      "text/html": [
       "<div>\n",
       "<style scoped>\n",
       "    .dataframe tbody tr th:only-of-type {\n",
       "        vertical-align: middle;\n",
       "    }\n",
       "\n",
       "    .dataframe tbody tr th {\n",
       "        vertical-align: top;\n",
       "    }\n",
       "\n",
       "    .dataframe thead th {\n",
       "        text-align: right;\n",
       "    }\n",
       "</style>\n",
       "<table border=\"1\" class=\"dataframe\">\n",
       "  <thead>\n",
       "    <tr style=\"text-align: right;\">\n",
       "      <th></th>\n",
       "      <th>artist</th>\n",
       "      <th>songs</th>\n",
       "    </tr>\n",
       "  </thead>\n",
       "  <tbody>\n",
       "    <tr>\n",
       "      <th>0</th>\n",
       "      <td>!!!</td>\n",
       "      <td>[Even When the Water's Cold]</td>\n",
       "    </tr>\n",
       "    <tr>\n",
       "      <th>1</th>\n",
       "      <td>$uicideboy$</td>\n",
       "      <td>[Either Hated Or Ignored, PARIS, REIGN IN BLOO...</td>\n",
       "    </tr>\n",
       "    <tr>\n",
       "      <th>2</th>\n",
       "      <td>03 Greedo</td>\n",
       "      <td>[Maria, Disco Shit, Beg Your Pardon, Soul Food...</td>\n",
       "    </tr>\n",
       "    <tr>\n",
       "      <th>3</th>\n",
       "      <td>070 Shake</td>\n",
       "      <td>[Honey]</td>\n",
       "    </tr>\n",
       "    <tr>\n",
       "      <th>4</th>\n",
       "      <td>1-800 GIRLS</td>\n",
       "      <td>[All Day All Night]</td>\n",
       "    </tr>\n",
       "    <tr>\n",
       "      <th>...</th>\n",
       "      <td>...</td>\n",
       "      <td>...</td>\n",
       "    </tr>\n",
       "    <tr>\n",
       "      <th>2039</th>\n",
       "      <td>wasiu</td>\n",
       "      <td>[Cigarettes &amp; Poutine]</td>\n",
       "    </tr>\n",
       "    <tr>\n",
       "      <th>2040</th>\n",
       "      <td>yugi boi</td>\n",
       "      <td>[Peach Tea, The End, No Problem]</td>\n",
       "    </tr>\n",
       "    <tr>\n",
       "      <th>2041</th>\n",
       "      <td>yuzu blur</td>\n",
       "      <td>[Sky Blush]</td>\n",
       "    </tr>\n",
       "    <tr>\n",
       "      <th>2042</th>\n",
       "      <td>ÊMIA</td>\n",
       "      <td>[Psychic]</td>\n",
       "    </tr>\n",
       "    <tr>\n",
       "      <th>2043</th>\n",
       "      <td>âme</td>\n",
       "      <td>[No War - Rampa Remix]</td>\n",
       "    </tr>\n",
       "  </tbody>\n",
       "</table>\n",
       "<p>2044 rows × 2 columns</p>\n",
       "</div>"
      ],
      "text/plain": [
       "           artist                                              songs\n",
       "0             !!!                       [Even When the Water's Cold]\n",
       "1     $uicideboy$  [Either Hated Or Ignored, PARIS, REIGN IN BLOO...\n",
       "2       03 Greedo  [Maria, Disco Shit, Beg Your Pardon, Soul Food...\n",
       "3       070 Shake                                            [Honey]\n",
       "4     1-800 GIRLS                                [All Day All Night]\n",
       "...           ...                                                ...\n",
       "2039        wasiu                             [Cigarettes & Poutine]\n",
       "2040     yugi boi                   [Peach Tea, The End, No Problem]\n",
       "2041    yuzu blur                                        [Sky Blush]\n",
       "2042         ÊMIA                                          [Psychic]\n",
       "2043          âme                             [No War - Rampa Remix]\n",
       "\n",
       "[2044 rows x 2 columns]"
      ]
     },
     "execution_count": 234,
     "metadata": {},
     "output_type": "execute_result"
    }
   ],
   "source": [
    "test"
   ]
  },
  {
   "cell_type": "code",
   "execution_count": 235,
   "metadata": {},
   "outputs": [],
   "source": [
    "d = test.to_dict('records')"
   ]
  },
  {
   "cell_type": "code",
   "execution_count": 237,
   "metadata": {},
   "outputs": [],
   "source": [
    "# d"
   ]
  },
  {
   "cell_type": "code",
   "execution_count": 130,
   "metadata": {},
   "outputs": [],
   "source": [
    "d = {item['artist']: item['songs'] for item in d}"
   ]
  },
  {
   "cell_type": "code",
   "execution_count": 132,
   "metadata": {},
   "outputs": [
    {
     "data": {
      "text/plain": [
       "2044"
      ]
     },
     "execution_count": 132,
     "metadata": {},
     "output_type": "execute_result"
    }
   ],
   "source": [
    "len(d)"
   ]
  },
  {
   "cell_type": "code",
   "execution_count": 136,
   "metadata": {},
   "outputs": [],
   "source": [
    "# for artist, songs in d.items():\n",
    "#     for song in songs:\n",
    "#         print(artist, song)"
   ]
  },
  {
   "cell_type": "code",
   "execution_count": 137,
   "metadata": {},
   "outputs": [],
   "source": [
    "import json"
   ]
  },
  {
   "cell_type": "code",
   "execution_count": 143,
   "metadata": {},
   "outputs": [],
   "source": [
    "with open('uniques.json', 'w') as f:\n",
    "    json.dump(d, f)"
   ]
  },
  {
   "cell_type": "code",
   "execution_count": 224,
   "metadata": {},
   "outputs": [],
   "source": [
    "import collections"
   ]
  },
  {
   "cell_type": "code",
   "execution_count": 244,
   "metadata": {},
   "outputs": [],
   "source": [
    "with open('uniques.json') as f:\n",
    "    my_dict = json.load(f)"
   ]
  },
  {
   "cell_type": "code",
   "execution_count": 247,
   "metadata": {},
   "outputs": [
    {
     "data": {
      "text/plain": [
       "''"
      ]
     },
     "execution_count": 247,
     "metadata": {},
     "output_type": "execute_result"
    }
   ],
   "source": [
    "''"
   ]
  },
  {
   "cell_type": "code",
   "execution_count": null,
   "metadata": {},
   "outputs": [],
   "source": []
  },
  {
   "cell_type": "code",
   "execution_count": 147,
   "metadata": {},
   "outputs": [],
   "source": [
    "my_dict['TEST'] = ['hello']"
   ]
  },
  {
   "cell_type": "code",
   "execution_count": 179,
   "metadata": {},
   "outputs": [],
   "source": [
    "my_dict['Drake'].append('tes5')"
   ]
  },
  {
   "cell_type": "code",
   "execution_count": 254,
   "metadata": {},
   "outputs": [],
   "source": [
    "def dict_diff(dict_old, dict_new):\n",
    "    # returns the items present in dict_b that are NOT present in dict_a\n",
    "    return unflatten_dict(set(flatten_dict(dict_new)) - set(flatten_dict(dict_old)))"
   ]
  },
  {
   "cell_type": "code",
   "execution_count": 255,
   "metadata": {},
   "outputs": [
    {
     "ename": "AttributeError",
     "evalue": "'list' object has no attribute 'items'",
     "output_type": "error",
     "traceback": [
      "\u001b[0;31m---------------------------------------------------------------------------\u001b[0m",
      "\u001b[0;31mAttributeError\u001b[0m                            Traceback (most recent call last)",
      "\u001b[0;32m<ipython-input-255-174965cb3b0a>\u001b[0m in \u001b[0;36m<module>\u001b[0;34m\u001b[0m\n\u001b[0;32m----> 1\u001b[0;31m \u001b[0mdiff\u001b[0m \u001b[0;34m=\u001b[0m \u001b[0mdict_diff\u001b[0m\u001b[0;34m(\u001b[0m\u001b[0md\u001b[0m\u001b[0;34m,\u001b[0m \u001b[0mmy_dict\u001b[0m\u001b[0;34m)\u001b[0m\u001b[0;34m\u001b[0m\u001b[0;34m\u001b[0m\u001b[0m\n\u001b[0m",
      "\u001b[0;32m<ipython-input-254-f4f73aed0722>\u001b[0m in \u001b[0;36mdict_diff\u001b[0;34m(dict_old, dict_new)\u001b[0m\n\u001b[1;32m      1\u001b[0m \u001b[0;32mdef\u001b[0m \u001b[0mdict_diff\u001b[0m\u001b[0;34m(\u001b[0m\u001b[0mdict_old\u001b[0m\u001b[0;34m,\u001b[0m \u001b[0mdict_new\u001b[0m\u001b[0;34m)\u001b[0m\u001b[0;34m:\u001b[0m\u001b[0;34m\u001b[0m\u001b[0;34m\u001b[0m\u001b[0m\n\u001b[1;32m      2\u001b[0m     \u001b[0;31m# returns the items present in dict_b that are NOT present in dict_a\u001b[0m\u001b[0;34m\u001b[0m\u001b[0;34m\u001b[0m\u001b[0;34m\u001b[0m\u001b[0m\n\u001b[0;32m----> 3\u001b[0;31m     \u001b[0;32mreturn\u001b[0m \u001b[0munflatten_dict\u001b[0m\u001b[0;34m(\u001b[0m\u001b[0mset\u001b[0m\u001b[0;34m(\u001b[0m\u001b[0mflatten_dict\u001b[0m\u001b[0;34m(\u001b[0m\u001b[0mdict_new\u001b[0m\u001b[0;34m)\u001b[0m\u001b[0;34m)\u001b[0m \u001b[0;34m-\u001b[0m \u001b[0mset\u001b[0m\u001b[0;34m(\u001b[0m\u001b[0mflatten_dict\u001b[0m\u001b[0;34m(\u001b[0m\u001b[0mdict_old\u001b[0m\u001b[0;34m)\u001b[0m\u001b[0;34m)\u001b[0m\u001b[0;34m)\u001b[0m\u001b[0;34m\u001b[0m\u001b[0;34m\u001b[0m\u001b[0m\n\u001b[0m",
      "\u001b[0;32m<ipython-input-230-a9c79ae9b65b>\u001b[0m in \u001b[0;36mflatten_dict\u001b[0;34m(d)\u001b[0m\n\u001b[1;32m      1\u001b[0m \u001b[0;32mdef\u001b[0m \u001b[0mflatten_dict\u001b[0m\u001b[0;34m(\u001b[0m\u001b[0md\u001b[0m\u001b[0;34m)\u001b[0m\u001b[0;34m:\u001b[0m\u001b[0;34m\u001b[0m\u001b[0;34m\u001b[0m\u001b[0m\n\u001b[1;32m      2\u001b[0m     \u001b[0;31m# ungroups keys\u001b[0m\u001b[0;34m\u001b[0m\u001b[0;34m\u001b[0m\u001b[0;34m\u001b[0m\u001b[0m\n\u001b[0;32m----> 3\u001b[0;31m     \u001b[0;32mreturn\u001b[0m \u001b[0;34m[\u001b[0m\u001b[0;34m(\u001b[0m\u001b[0mkey\u001b[0m\u001b[0;34m,\u001b[0m \u001b[0mvalue\u001b[0m\u001b[0;34m)\u001b[0m \u001b[0;32mfor\u001b[0m \u001b[0mkey\u001b[0m\u001b[0;34m,\u001b[0m \u001b[0mvalues\u001b[0m \u001b[0;32min\u001b[0m \u001b[0md\u001b[0m\u001b[0;34m.\u001b[0m\u001b[0mitems\u001b[0m\u001b[0;34m(\u001b[0m\u001b[0;34m)\u001b[0m \u001b[0;32mfor\u001b[0m \u001b[0mvalue\u001b[0m \u001b[0;32min\u001b[0m \u001b[0mvalues\u001b[0m\u001b[0;34m]\u001b[0m\u001b[0;34m\u001b[0m\u001b[0;34m\u001b[0m\u001b[0m\n\u001b[0m",
      "\u001b[0;31mAttributeError\u001b[0m: 'list' object has no attribute 'items'"
     ]
    }
   ],
   "source": [
    "diff = dict_diff(d, my_dict)"
   ]
  },
  {
   "cell_type": "code",
   "execution_count": 256,
   "metadata": {},
   "outputs": [
    {
     "data": {
      "text/plain": [
       "{('Drake', 'tes5'), ('Drake', 'test'), ('TEST', 'hello')}"
      ]
     },
     "execution_count": 256,
     "metadata": {},
     "output_type": "execute_result"
    }
   ],
   "source": [
    "diff"
   ]
  },
  {
   "cell_type": "code",
   "execution_count": 217,
   "metadata": {},
   "outputs": [],
   "source": [
    "d = defaultdict(list)"
   ]
  },
  {
   "cell_type": "code",
   "execution_count": 218,
   "metadata": {},
   "outputs": [],
   "source": [
    "for artist, song in diff:\n",
    "    d[artist].append(song)"
   ]
  },
  {
   "cell_type": "code",
   "execution_count": 228,
   "metadata": {},
   "outputs": [
    {
     "data": {
      "text/plain": [
       "defaultdict(list, {'TEST': ['hello'], 'Drake': ['test', 'tes5']})"
      ]
     },
     "execution_count": 228,
     "metadata": {},
     "output_type": "execute_result"
    }
   ],
   "source": [
    "unflatten_dict(flatten_dict(d))"
   ]
  },
  {
   "cell_type": "code",
   "execution_count": 243,
   "metadata": {},
   "outputs": [
    {
     "data": {
      "text/plain": [
       "{'TEST': ['hello'], 'Drake': ['test', 'tes5']}"
      ]
     },
     "execution_count": 243,
     "metadata": {},
     "output_type": "execute_result"
    }
   ],
   "source": [
    "unflatten_dict(diff)"
   ]
  },
  {
   "cell_type": "code",
   "execution_count": null,
   "metadata": {},
   "outputs": [],
   "source": []
  },
  {
   "cell_type": "code",
   "execution_count": null,
   "metadata": {},
   "outputs": [],
   "source": []
  },
  {
   "cell_type": "code",
   "execution_count": null,
   "metadata": {},
   "outputs": [],
   "source": []
  },
  {
   "cell_type": "code",
   "execution_count": 230,
   "metadata": {},
   "outputs": [],
   "source": [
    "def flatten_dict(d):\n",
    "    # ungroups keys\n",
    "    return [(key, value) for key, values in d.items() for value in values]"
   ]
  },
  {
   "cell_type": "code",
   "execution_count": 242,
   "metadata": {},
   "outputs": [],
   "source": [
    "def unflatten_dict(list_tups):\n",
    "    # groups keys\n",
    "    d = collections.defaultdict(list)\n",
    "    for key, val in list_tups:\n",
    "        d[key].append(val)\n",
    "    return dict(d)"
   ]
  },
  {
   "cell_type": "code",
   "execution_count": 275,
   "metadata": {},
   "outputs": [],
   "source": [
    "a = {1: ['efwgewg'], 2: ['ewrgerwg'], 5: ['iupup']}\n",
    "b = {3: ['gewgweg'], 5: ['test']}"
   ]
  },
  {
   "cell_type": "code",
   "execution_count": 276,
   "metadata": {},
   "outputs": [
    {
     "data": {
      "text/plain": [
       "{1: ['efwgewg'], 2: ['ewrgerwg'], 5: ['test'], 3: ['gewgweg']}"
      ]
     },
     "execution_count": 276,
     "metadata": {},
     "output_type": "execute_result"
    }
   ],
   "source": [
    "{**a, **b}"
   ]
  },
  {
   "cell_type": "code",
   "execution_count": 277,
   "metadata": {},
   "outputs": [
    {
     "data": {
      "text/plain": [
       "{3: ['gewgweg'], 5: ['iupup'], 1: ['efwgewg'], 2: ['ewrgerwg']}"
      ]
     },
     "execution_count": 277,
     "metadata": {},
     "output_type": "execute_result"
    }
   ],
   "source": [
    "{**b, **a}"
   ]
  },
  {
   "cell_type": "code",
   "execution_count": 388,
   "metadata": {},
   "outputs": [],
   "source": [
    "c = {'artist1': {'song1': '', 'song2': 'lyric'}, 'artist2': {'song1': 'lyric lyric'}, 'artist3': {'song1': 'lyric', 'song2': '', 'song3': 'howdy'}}"
   ]
  },
  {
   "cell_type": "code",
   "execution_count": 389,
   "metadata": {},
   "outputs": [
    {
     "data": {
      "text/plain": [
       "{'artist1': {'song1': '', 'song2': 'lyric'},\n",
       " 'artist2': {'song1': 'lyric lyric'},\n",
       " 'artist3': {'song1': 'lyric', 'song2': '', 'song3': 'howdy'}}"
      ]
     },
     "execution_count": 389,
     "metadata": {},
     "output_type": "execute_result"
    }
   ],
   "source": [
    "c"
   ]
  },
  {
   "cell_type": "code",
   "execution_count": 376,
   "metadata": {},
   "outputs": [],
   "source": [
    "def get_empties(d):\n",
    "    empties = defaultdict(dict)\n",
    "    for key, sub_d in d.items():\n",
    "        for sub_key, sub_val in sub_d.items():\n",
    "            if not sub_val:\n",
    "                empties[key][sub_key] = d[key][sub_key]\n",
    "    return empties"
   ]
  },
  {
   "cell_type": "code",
   "execution_count": 377,
   "metadata": {},
   "outputs": [],
   "source": [
    "def split_empties(d):\n",
    "    empties = defaultdict(dict)\n",
    "    filled = dict(d)\n",
    "    for key, sub_d in d.items():\n",
    "        print(key)\n",
    "        for sub_key, sub_val in sub_d.items():\n",
    "            print(sub_key)\n",
    "            if not sub_val:\n",
    "                empties[key][sub_key] = filled[key].pop(sub_key)\n",
    "            print('done')\n",
    "    return empties, d"
   ]
  },
  {
   "cell_type": "code",
   "execution_count": 378,
   "metadata": {},
   "outputs": [
    {
     "name": "stdout",
     "output_type": "stream",
     "text": [
      "artist1\n",
      "song1\n",
      "done\n"
     ]
    },
    {
     "ename": "RuntimeError",
     "evalue": "dictionary changed size during iteration",
     "output_type": "error",
     "traceback": [
      "\u001b[0;31m---------------------------------------------------------------------------\u001b[0m",
      "\u001b[0;31mRuntimeError\u001b[0m                              Traceback (most recent call last)",
      "\u001b[0;32m<ipython-input-378-f4fc7c2640c6>\u001b[0m in \u001b[0;36m<module>\u001b[0;34m\u001b[0m\n\u001b[0;32m----> 1\u001b[0;31m \u001b[0msplit_empties\u001b[0m\u001b[0;34m(\u001b[0m\u001b[0mc\u001b[0m\u001b[0;34m)\u001b[0m\u001b[0;34m\u001b[0m\u001b[0;34m\u001b[0m\u001b[0m\n\u001b[0m",
      "\u001b[0;32m<ipython-input-377-547775b22976>\u001b[0m in \u001b[0;36msplit_empties\u001b[0;34m(d)\u001b[0m\n\u001b[1;32m      4\u001b[0m     \u001b[0;32mfor\u001b[0m \u001b[0mkey\u001b[0m\u001b[0;34m,\u001b[0m \u001b[0msub_d\u001b[0m \u001b[0;32min\u001b[0m \u001b[0md\u001b[0m\u001b[0;34m.\u001b[0m\u001b[0mitems\u001b[0m\u001b[0;34m(\u001b[0m\u001b[0;34m)\u001b[0m\u001b[0;34m:\u001b[0m\u001b[0;34m\u001b[0m\u001b[0;34m\u001b[0m\u001b[0m\n\u001b[1;32m      5\u001b[0m         \u001b[0mprint\u001b[0m\u001b[0;34m(\u001b[0m\u001b[0mkey\u001b[0m\u001b[0;34m)\u001b[0m\u001b[0;34m\u001b[0m\u001b[0;34m\u001b[0m\u001b[0m\n\u001b[0;32m----> 6\u001b[0;31m         \u001b[0;32mfor\u001b[0m \u001b[0msub_key\u001b[0m\u001b[0;34m,\u001b[0m \u001b[0msub_val\u001b[0m \u001b[0;32min\u001b[0m \u001b[0msub_d\u001b[0m\u001b[0;34m.\u001b[0m\u001b[0mitems\u001b[0m\u001b[0;34m(\u001b[0m\u001b[0;34m)\u001b[0m\u001b[0;34m:\u001b[0m\u001b[0;34m\u001b[0m\u001b[0;34m\u001b[0m\u001b[0m\n\u001b[0m\u001b[1;32m      7\u001b[0m             \u001b[0mprint\u001b[0m\u001b[0;34m(\u001b[0m\u001b[0msub_key\u001b[0m\u001b[0;34m)\u001b[0m\u001b[0;34m\u001b[0m\u001b[0;34m\u001b[0m\u001b[0m\n\u001b[1;32m      8\u001b[0m             \u001b[0;32mif\u001b[0m \u001b[0;32mnot\u001b[0m \u001b[0msub_val\u001b[0m\u001b[0;34m:\u001b[0m\u001b[0;34m\u001b[0m\u001b[0;34m\u001b[0m\u001b[0m\n",
      "\u001b[0;31mRuntimeError\u001b[0m: dictionary changed size during iteration"
     ]
    }
   ],
   "source": [
    "split_empties(c)"
   ]
  },
  {
   "cell_type": "code",
   "execution_count": 392,
   "metadata": {},
   "outputs": [],
   "source": [
    "filled = dict(c)"
   ]
  },
  {
   "cell_type": "code",
   "execution_count": 393,
   "metadata": {},
   "outputs": [
    {
     "data": {
      "text/plain": [
       "{'artist1': {'song1': '', 'song2': 'lyric'},\n",
       " 'artist2': {'song1': 'lyric lyric'},\n",
       " 'artist3': {'song1': 'lyric', 'song2': '', 'song3': 'howdy'}}"
      ]
     },
     "execution_count": 393,
     "metadata": {},
     "output_type": "execute_result"
    }
   ],
   "source": [
    "filled"
   ]
  },
  {
   "cell_type": "code",
   "execution_count": 395,
   "metadata": {},
   "outputs": [
    {
     "data": {
      "text/plain": [
       "''"
      ]
     },
     "execution_count": 395,
     "metadata": {},
     "output_type": "execute_result"
    }
   ],
   "source": [
    "filled['artist1'].pop('song1')"
   ]
  },
  {
   "cell_type": "code",
   "execution_count": 396,
   "metadata": {},
   "outputs": [
    {
     "data": {
      "text/plain": [
       "{'artist1': {'song2': 'lyric'},\n",
       " 'artist2': {'song1': 'lyric lyric'},\n",
       " 'artist3': {'song1': 'lyric', 'song2': '', 'song3': 'howdy'}}"
      ]
     },
     "execution_count": 396,
     "metadata": {},
     "output_type": "execute_result"
    }
   ],
   "source": [
    "filled"
   ]
  },
  {
   "cell_type": "code",
   "execution_count": 397,
   "metadata": {},
   "outputs": [
    {
     "data": {
      "text/plain": [
       "{'artist1': {'song2': 'lyric'},\n",
       " 'artist2': {'song1': 'lyric lyric'},\n",
       " 'artist3': {'song1': 'lyric', 'song2': '', 'song3': 'howdy'}}"
      ]
     },
     "execution_count": 397,
     "metadata": {},
     "output_type": "execute_result"
    }
   ],
   "source": [
    "c"
   ]
  },
  {
   "cell_type": "code",
   "execution_count": null,
   "metadata": {},
   "outputs": [],
   "source": []
  },
  {
   "cell_type": "code",
   "execution_count": 399,
   "metadata": {},
   "outputs": [],
   "source": [
    "import uniques"
   ]
  },
  {
   "cell_type": "code",
   "execution_count": 400,
   "metadata": {},
   "outputs": [],
   "source": [
    "import pandas as pd"
   ]
  },
  {
   "cell_type": "code",
   "execution_count": 405,
   "metadata": {},
   "outputs": [],
   "source": [
    "# json = pd.read_json(\"output/unique.json\")\n",
    "import json"
   ]
  },
  {
   "cell_type": "code",
   "execution_count": 612,
   "metadata": {},
   "outputs": [],
   "source": [
    "with open(\"output/lyrics/unique_lyrics.json\") as f:\n",
    "    d = json.load(f)\n",
    "    \n",
    "with open(\"output/spotify/unique_spotify.json\") as f_spot:\n",
    "    d_spot = json.load(f_spot)"
   ]
  },
  {
   "cell_type": "code",
   "execution_count": 613,
   "metadata": {},
   "outputs": [],
   "source": [
    "d_flat = uniques.Unique.flatten_dict(d)\n",
    "d_spot_flat = uniques.Unique.flatten_dict(d_spot)"
   ]
  },
  {
   "cell_type": "code",
   "execution_count": 599,
   "metadata": {},
   "outputs": [],
   "source": [
    "# d_spot_flat"
   ]
  },
  {
   "cell_type": "code",
   "execution_count": null,
   "metadata": {},
   "outputs": [],
   "source": []
  },
  {
   "cell_type": "code",
   "execution_count": 676,
   "metadata": {},
   "outputs": [],
   "source": [
    "df_lyrics = pd.DataFrame(d_flat, columns = ['artist', 'song', 'lyrics'])"
   ]
  },
  {
   "cell_type": "code",
   "execution_count": 648,
   "metadata": {},
   "outputs": [],
   "source": [
    "df_spot = pd.DataFrame(d_spot_flat, columns = ['artist', 'song', 'features'])"
   ]
  },
  {
   "cell_type": "code",
   "execution_count": 649,
   "metadata": {},
   "outputs": [],
   "source": [
    "# remove from list\n",
    "df_spot.features = df_spot.features.apply(lambda x: x[0] if x!='' else '')"
   ]
  },
  {
   "cell_type": "code",
   "execution_count": 650,
   "metadata": {},
   "outputs": [],
   "source": [
    "# groupby artist and song\n",
    "df_spot = df_spot.groupby(['artist', 'song']).max()"
   ]
  },
  {
   "cell_type": "code",
   "execution_count": 651,
   "metadata": {},
   "outputs": [],
   "source": [
    "# separate the data into 3 dataframes: filled with info, unable to be filled, and those yet to be checked\n",
    "df_spot_filled = df_spot[df_spot.features.apply(type) == dict]\n",
    "df_spot_unable = df_spot[df_spot.features.isna()]\n",
    "df_spot_yet = df_spot[df_spot.features == ''].replace('', np.nan)"
   ]
  },
  {
   "cell_type": "code",
   "execution_count": 652,
   "metadata": {},
   "outputs": [
    {
     "data": {
      "text/plain": [
       "True"
      ]
     },
     "execution_count": 652,
     "metadata": {},
     "output_type": "execute_result"
    }
   ],
   "source": [
    "# confirm conservation of rows\n",
    "len(df_spot) == len(df_spot_filled) + len(df_spot_unable) + len(df_spot_yet)"
   ]
  },
  {
   "cell_type": "code",
   "execution_count": 657,
   "metadata": {},
   "outputs": [],
   "source": [
    "# # for completed rows\n",
    "# # convert dictionaries into columns\n",
    "df_spot_filled = pd.DataFrame(df_spot_filled.features.tolist(), index = df_spot_filled.index)\n",
    "df_spot_filled.columns = [item + '_spotify' for item in df_spot_filled.columns]"
   ]
  },
  {
   "cell_type": "code",
   "execution_count": 660,
   "metadata": {},
   "outputs": [],
   "source": [
    "# save completed data to json\n",
    "df_spot_filled.to_json(\"output/spotify/completed.json\", orient = 'table')"
   ]
  },
  {
   "cell_type": "code",
   "execution_count": 673,
   "metadata": {},
   "outputs": [],
   "source": [
    "df_spot_unable.to_json(\"output/spotify/failed.json\", orient = 'table')"
   ]
  },
  {
   "cell_type": "code",
   "execution_count": 674,
   "metadata": {},
   "outputs": [],
   "source": [
    "df_spot_yet.to_json(\"output/spotify/yet.json\", orient = 'table')"
   ]
  },
  {
   "cell_type": "code",
   "execution_count": null,
   "metadata": {},
   "outputs": [],
   "source": []
  },
  {
   "cell_type": "code",
   "execution_count": null,
   "metadata": {},
   "outputs": [],
   "source": []
  },
  {
   "cell_type": "code",
   "execution_count": 565,
   "metadata": {},
   "outputs": [
    {
     "data": {
      "text/plain": [
       "artist        song                                    \n",
       "!!!           Even When the Water's Cold                     artist: !!!, track: Even When the Water's Cold\n",
       "$uicideboy$   #1 STUNNA                                               artist: $uicideboy$, track: #1 STUNNA\n",
       "              2ND HAND                                                 artist: $uicideboy$, track: 2ND HAND\n",
       "              AM / PM                                                   artist: $uicideboy$, track: AM / PM\n",
       "              Champion Of Death                               artist: $uicideboy$, track: Champion Of Death\n",
       "                                                                                ...                        \n",
       "Skrillex      HUMBLE. - SKRILLEX REMIX                    artist: Skrillex, track: HUMBLE. - SKRILLEX REMIX\n",
       "              Purple Lamborghini (with Rick Ross)         artist: Skrillex, track: Purple Lamborghini (w...\n",
       "              Scary Monsters and Nice Sprites             artist: Skrillex, track: Scary Monsters and Ni...\n",
       "Slander       Slow Motion                                               artist: Slander, track: Slow Motion\n",
       "Sleepy Brown  If You Want It (Sleepy Brown feat. Scar)    artist: Sleepy Brown, track: If You Want It (S...\n",
       "Length: 5063, dtype: object"
      ]
     },
     "execution_count": 565,
     "metadata": {},
     "output_type": "execute_result"
    }
   ],
   "source": [
    "read_output.apply(lambda x: 'artist: {}, track: {}'.format(*x.name), axis = 1)"
   ]
  },
  {
   "cell_type": "code",
   "execution_count": null,
   "metadata": {},
   "outputs": [],
   "source": []
  },
  {
   "cell_type": "code",
   "execution_count": null,
   "metadata": {},
   "outputs": [],
   "source": []
  },
  {
   "cell_type": "code",
   "execution_count": 682,
   "metadata": {},
   "outputs": [
    {
     "data": {
      "text/html": [
       "<div>\n",
       "<style scoped>\n",
       "    .dataframe tbody tr th:only-of-type {\n",
       "        vertical-align: middle;\n",
       "    }\n",
       "\n",
       "    .dataframe tbody tr th {\n",
       "        vertical-align: top;\n",
       "    }\n",
       "\n",
       "    .dataframe thead th {\n",
       "        text-align: right;\n",
       "    }\n",
       "</style>\n",
       "<table border=\"1\" class=\"dataframe\">\n",
       "  <thead>\n",
       "    <tr style=\"text-align: right;\">\n",
       "      <th></th>\n",
       "      <th>artist</th>\n",
       "      <th>song</th>\n",
       "      <th>lyrics</th>\n",
       "    </tr>\n",
       "  </thead>\n",
       "  <tbody>\n",
       "    <tr>\n",
       "      <th>0</th>\n",
       "      <td>!!!</td>\n",
       "      <td>Even When the Water's Cold</td>\n",
       "      <td>Friends told her she was better off\\nAt the bo...</td>\n",
       "    </tr>\n",
       "    <tr>\n",
       "      <th>1</th>\n",
       "      <td>$uicideboy$</td>\n",
       "      <td>Either Hated Or Ignored</td>\n",
       "      <td>[Intro: $LICK $LOTH]\\nYah, yah, $carecrow, Rub...</td>\n",
       "    </tr>\n",
       "    <tr>\n",
       "      <th>2</th>\n",
       "      <td>$uicideboy$</td>\n",
       "      <td>PARIS</td>\n",
       "      <td>[Verse 1: $LICK $LOTH]\\nAyy, ayy, ayy, tell me...</td>\n",
       "    </tr>\n",
       "    <tr>\n",
       "      <th>3</th>\n",
       "      <td>$uicideboy$</td>\n",
       "      <td>REIGN IN BLOOD</td>\n",
       "      <td>[Intro: Triggerman]\\nDrag him from the river, ...</td>\n",
       "    </tr>\n",
       "    <tr>\n",
       "      <th>4</th>\n",
       "      <td>$uicideboy$</td>\n",
       "      <td>Magazine</td>\n",
       "      <td>[Intro: YUNG CHRIST]\\n$uicidal holocaust, for ...</td>\n",
       "    </tr>\n",
       "  </tbody>\n",
       "</table>\n",
       "</div>"
      ],
      "text/plain": [
       "        artist                        song  \\\n",
       "0          !!!  Even When the Water's Cold   \n",
       "1  $uicideboy$     Either Hated Or Ignored   \n",
       "2  $uicideboy$                       PARIS   \n",
       "3  $uicideboy$              REIGN IN BLOOD   \n",
       "4  $uicideboy$                    Magazine   \n",
       "\n",
       "                                              lyrics  \n",
       "0  Friends told her she was better off\\nAt the bo...  \n",
       "1  [Intro: $LICK $LOTH]\\nYah, yah, $carecrow, Rub...  \n",
       "2  [Verse 1: $LICK $LOTH]\\nAyy, ayy, ayy, tell me...  \n",
       "3  [Intro: Triggerman]\\nDrag him from the river, ...  \n",
       "4  [Intro: YUNG CHRIST]\\n$uicidal holocaust, for ...  "
      ]
     },
     "execution_count": 682,
     "metadata": {},
     "output_type": "execute_result"
    }
   ],
   "source": [
    "(df_lyrics.head())"
   ]
  },
  {
   "cell_type": "code",
   "execution_count": 683,
   "metadata": {},
   "outputs": [],
   "source": [
    "# groupby artist and song\n",
    "df_lyrics = df_lyrics.groupby(['artist', 'song']).max()"
   ]
  },
  {
   "cell_type": "code",
   "execution_count": 686,
   "metadata": {},
   "outputs": [
    {
     "data": {
      "text/plain": [
       "False    6735\n",
       "True      357\n",
       "Name: lyrics, dtype: int64"
      ]
     },
     "execution_count": 686,
     "metadata": {},
     "output_type": "execute_result"
    }
   ],
   "source": [
    "df_lyrics.lyrics.str.contains('NOT FOUND').value_counts()"
   ]
  },
  {
   "cell_type": "code",
   "execution_count": 695,
   "metadata": {},
   "outputs": [],
   "source": [
    "# separate the data into 3 dataframes: filled with info, unable to be filled, and those yet to be checked\n",
    "df_lyrics_filled = df_lyrics[~(df_lyrics.lyrics.str.contains('NOT FOUND') | (df_lyrics.lyrics == ''))]\n",
    "df_lyrics_unable = df_lyrics[df_lyrics.lyrics.str.contains('NOT FOUND')].replace('NOT FOUND - AttributeError', np.nan)\n",
    "df_lyrics_yet = df_lyrics[df_lyrics.lyrics == ''].replace('', np.nan)"
   ]
  },
  {
   "cell_type": "code",
   "execution_count": 696,
   "metadata": {},
   "outputs": [
    {
     "data": {
      "text/plain": [
       "True"
      ]
     },
     "execution_count": 696,
     "metadata": {},
     "output_type": "execute_result"
    }
   ],
   "source": [
    "# confirm conservation of rows\n",
    "len(df_lyrics) == len(df_lyrics_filled) + len(df_lyrics_unable) + len(df_lyrics_yet)"
   ]
  },
  {
   "cell_type": "code",
   "execution_count": 861,
   "metadata": {},
   "outputs": [
    {
     "data": {
      "text/html": [
       "<div>\n",
       "<style scoped>\n",
       "    .dataframe tbody tr th:only-of-type {\n",
       "        vertical-align: middle;\n",
       "    }\n",
       "\n",
       "    .dataframe tbody tr th {\n",
       "        vertical-align: top;\n",
       "    }\n",
       "\n",
       "    .dataframe thead th {\n",
       "        text-align: right;\n",
       "    }\n",
       "</style>\n",
       "<table border=\"1\" class=\"dataframe\">\n",
       "  <thead>\n",
       "    <tr style=\"text-align: right;\">\n",
       "      <th></th>\n",
       "      <th></th>\n",
       "      <th>lyrics</th>\n",
       "    </tr>\n",
       "    <tr>\n",
       "      <th>artist</th>\n",
       "      <th>song</th>\n",
       "      <th></th>\n",
       "    </tr>\n",
       "  </thead>\n",
       "  <tbody>\n",
       "    <tr>\n",
       "      <th rowspan=\"5\" valign=\"top\">Madeintyo</th>\n",
       "      <th>2 Flights</th>\n",
       "      <td>NaN</td>\n",
       "    </tr>\n",
       "    <tr>\n",
       "      <th>Cashing Out</th>\n",
       "      <td>NaN</td>\n",
       "    </tr>\n",
       "    <tr>\n",
       "      <th>Chucky Cheese</th>\n",
       "      <td>NaN</td>\n",
       "    </tr>\n",
       "    <tr>\n",
       "      <th>Good Gas</th>\n",
       "      <td>NaN</td>\n",
       "    </tr>\n",
       "    <tr>\n",
       "      <th>I Want (feat. 2 Chainz)</th>\n",
       "      <td>NaN</td>\n",
       "    </tr>\n",
       "    <tr>\n",
       "      <th>...</th>\n",
       "      <th>...</th>\n",
       "      <td>...</td>\n",
       "    </tr>\n",
       "    <tr>\n",
       "      <th rowspan=\"2\" valign=\"top\">yugi boi</th>\n",
       "      <th>Peach Tea</th>\n",
       "      <td>NaN</td>\n",
       "    </tr>\n",
       "    <tr>\n",
       "      <th>The End</th>\n",
       "      <td>NaN</td>\n",
       "    </tr>\n",
       "    <tr>\n",
       "      <th>yuzu blur</th>\n",
       "      <th>Sky Blush</th>\n",
       "      <td>NaN</td>\n",
       "    </tr>\n",
       "    <tr>\n",
       "      <th>ÊMIA</th>\n",
       "      <th>Psychic</th>\n",
       "      <td>NaN</td>\n",
       "    </tr>\n",
       "    <tr>\n",
       "      <th>âme</th>\n",
       "      <th>No War - Rampa Remix</th>\n",
       "      <td>NaN</td>\n",
       "    </tr>\n",
       "  </tbody>\n",
       "</table>\n",
       "<p>3001 rows × 1 columns</p>\n",
       "</div>"
      ],
      "text/plain": [
       "                                   lyrics\n",
       "artist    song                           \n",
       "Madeintyo 2 Flights                   NaN\n",
       "          Cashing Out                 NaN\n",
       "          Chucky Cheese               NaN\n",
       "          Good Gas                    NaN\n",
       "          I Want (feat. 2 Chainz)     NaN\n",
       "...                                   ...\n",
       "yugi boi  Peach Tea                   NaN\n",
       "          The End                     NaN\n",
       "yuzu blur Sky Blush                   NaN\n",
       "ÊMIA      Psychic                     NaN\n",
       "âme       No War - Rampa Remix        NaN\n",
       "\n",
       "[3001 rows x 1 columns]"
      ]
     },
     "execution_count": 861,
     "metadata": {},
     "output_type": "execute_result"
    }
   ],
   "source": [
    "df_lyrics_yet"
   ]
  },
  {
   "cell_type": "code",
   "execution_count": 698,
   "metadata": {},
   "outputs": [],
   "source": [
    "# save completed data to json\n",
    "df_lyrics_filled.to_json(\"output/lyrics/completed.json\", orient = 'table')"
   ]
  },
  {
   "cell_type": "code",
   "execution_count": 699,
   "metadata": {},
   "outputs": [],
   "source": [
    "# save completed data to json\n",
    "df_lyrics_unable.to_json(\"output/lyrics/failed.json\", orient = 'table')"
   ]
  },
  {
   "cell_type": "code",
   "execution_count": 700,
   "metadata": {},
   "outputs": [],
   "source": [
    "# save completed data to json\n",
    "df_lyrics_yet.to_json(\"output/lyrics/yet.json\", orient = 'table')"
   ]
  },
  {
   "cell_type": "code",
   "execution_count": null,
   "metadata": {},
   "outputs": [],
   "source": []
  },
  {
   "cell_type": "code",
   "execution_count": null,
   "metadata": {},
   "outputs": [],
   "source": []
  },
  {
   "cell_type": "code",
   "execution_count": 704,
   "metadata": {},
   "outputs": [],
   "source": [
    "scrobbles_df = pd.read_csv(__scrobbles__, header = None, names = ['artist', 'album', 'song', 'datetime'])"
   ]
  },
  {
   "cell_type": "code",
   "execution_count": 705,
   "metadata": {},
   "outputs": [
    {
     "data": {
      "text/html": [
       "<div>\n",
       "<style scoped>\n",
       "    .dataframe tbody tr th:only-of-type {\n",
       "        vertical-align: middle;\n",
       "    }\n",
       "\n",
       "    .dataframe tbody tr th {\n",
       "        vertical-align: top;\n",
       "    }\n",
       "\n",
       "    .dataframe thead th {\n",
       "        text-align: right;\n",
       "    }\n",
       "</style>\n",
       "<table border=\"1\" class=\"dataframe\">\n",
       "  <thead>\n",
       "    <tr style=\"text-align: right;\">\n",
       "      <th></th>\n",
       "      <th>artist</th>\n",
       "      <th>album</th>\n",
       "      <th>song</th>\n",
       "      <th>datetime</th>\n",
       "    </tr>\n",
       "  </thead>\n",
       "  <tbody>\n",
       "    <tr>\n",
       "      <th>0</th>\n",
       "      <td>Drake</td>\n",
       "      <td>Dark Lane Demo Tapes</td>\n",
       "      <td>Losses</td>\n",
       "      <td>NaN</td>\n",
       "    </tr>\n",
       "    <tr>\n",
       "      <th>1</th>\n",
       "      <td>Drake</td>\n",
       "      <td>Dark Lane Demo Tapes</td>\n",
       "      <td>Pain 1993 (with Playboi Carti)</td>\n",
       "      <td>05 May 2020 00:34</td>\n",
       "    </tr>\n",
       "    <tr>\n",
       "      <th>2</th>\n",
       "      <td>Juice WRLD</td>\n",
       "      <td>Death Race For Love</td>\n",
       "      <td>Empty</td>\n",
       "      <td>04 May 2020 22:07</td>\n",
       "    </tr>\n",
       "    <tr>\n",
       "      <th>3</th>\n",
       "      <td>Juice WRLD</td>\n",
       "      <td>Death Race For Love</td>\n",
       "      <td>Rider</td>\n",
       "      <td>04 May 2020 22:05</td>\n",
       "    </tr>\n",
       "    <tr>\n",
       "      <th>4</th>\n",
       "      <td>Juice WRLD</td>\n",
       "      <td>Death Race For Love</td>\n",
       "      <td>Make Believe</td>\n",
       "      <td>04 May 2020 22:05</td>\n",
       "    </tr>\n",
       "    <tr>\n",
       "      <th>...</th>\n",
       "      <td>...</td>\n",
       "      <td>...</td>\n",
       "      <td>...</td>\n",
       "      <td>...</td>\n",
       "    </tr>\n",
       "    <tr>\n",
       "      <th>55553</th>\n",
       "      <td>Madeintyo</td>\n",
       "      <td>Thank You Mr. Tokyo</td>\n",
       "      <td>Time Of Her Life</td>\n",
       "      <td>04 Jul 2017 19:26</td>\n",
       "    </tr>\n",
       "    <tr>\n",
       "      <th>55554</th>\n",
       "      <td>DJ Khaled</td>\n",
       "      <td>Grateful</td>\n",
       "      <td>Iced Out My Arms</td>\n",
       "      <td>04 Jul 2017 19:23</td>\n",
       "    </tr>\n",
       "    <tr>\n",
       "      <th>55555</th>\n",
       "      <td>Young Thug</td>\n",
       "      <td>Beautiful Thugger Girls</td>\n",
       "      <td>Daddy's Birthday</td>\n",
       "      <td>01 Jul 2017 21:33</td>\n",
       "    </tr>\n",
       "    <tr>\n",
       "      <th>55556</th>\n",
       "      <td>Lil Wayne</td>\n",
       "      <td>Tha Carter IV (Deluxe)</td>\n",
       "      <td>How to Love</td>\n",
       "      <td>30 Jun 2017 03:39</td>\n",
       "    </tr>\n",
       "    <tr>\n",
       "      <th>55557</th>\n",
       "      <td>2 Chainz</td>\n",
       "      <td>Pretty Girls Like Trap Music</td>\n",
       "      <td>It's A Vibe</td>\n",
       "      <td>30 Jun 2017 03:34</td>\n",
       "    </tr>\n",
       "  </tbody>\n",
       "</table>\n",
       "<p>55558 rows × 4 columns</p>\n",
       "</div>"
      ],
      "text/plain": [
       "           artist                         album  \\\n",
       "0           Drake          Dark Lane Demo Tapes   \n",
       "1           Drake          Dark Lane Demo Tapes   \n",
       "2      Juice WRLD           Death Race For Love   \n",
       "3      Juice WRLD           Death Race For Love   \n",
       "4      Juice WRLD           Death Race For Love   \n",
       "...           ...                           ...   \n",
       "55553   Madeintyo           Thank You Mr. Tokyo   \n",
       "55554   DJ Khaled                      Grateful   \n",
       "55555  Young Thug       Beautiful Thugger Girls   \n",
       "55556   Lil Wayne        Tha Carter IV (Deluxe)   \n",
       "55557    2 Chainz  Pretty Girls Like Trap Music   \n",
       "\n",
       "                                 song           datetime  \n",
       "0                              Losses                NaN  \n",
       "1      Pain 1993 (with Playboi Carti)  05 May 2020 00:34  \n",
       "2                               Empty  04 May 2020 22:07  \n",
       "3                               Rider  04 May 2020 22:05  \n",
       "4                        Make Believe  04 May 2020 22:05  \n",
       "...                               ...                ...  \n",
       "55553                Time Of Her Life  04 Jul 2017 19:26  \n",
       "55554                Iced Out My Arms  04 Jul 2017 19:23  \n",
       "55555                Daddy's Birthday  01 Jul 2017 21:33  \n",
       "55556                     How to Love  30 Jun 2017 03:39  \n",
       "55557                     It's A Vibe  30 Jun 2017 03:34  \n",
       "\n",
       "[55558 rows x 4 columns]"
      ]
     },
     "execution_count": 705,
     "metadata": {},
     "output_type": "execute_result"
    }
   ],
   "source": [
    "scrobbles_df"
   ]
  },
  {
   "cell_type": "code",
   "execution_count": 706,
   "metadata": {},
   "outputs": [],
   "source": [
    "uniques_df = scrobbles_df.drop_duplicates(['artist', 'song'])[['artist', 'song']]"
   ]
  },
  {
   "cell_type": "code",
   "execution_count": null,
   "metadata": {},
   "outputs": [],
   "source": []
  },
  {
   "cell_type": "code",
   "execution_count": 718,
   "metadata": {},
   "outputs": [],
   "source": [
    "uniques_index = pd.MultiIndex.from_frame(uniques_df)"
   ]
  },
  {
   "cell_type": "code",
   "execution_count": 741,
   "metadata": {},
   "outputs": [],
   "source": [
    "diff = set(uniques_index) - set(df_lyrics_filled.index) - set(df_lyrics_unable.index) - set()"
   ]
  },
  {
   "cell_type": "code",
   "execution_count": 742,
   "metadata": {},
   "outputs": [
    {
     "data": {
      "text/plain": [
       "(3001, 7092, 3734, 357, 3001)"
      ]
     },
     "execution_count": 742,
     "metadata": {},
     "output_type": "execute_result"
    }
   ],
   "source": [
    "len(diff), len(uniques_index), len(df_lyrics_filled), len(df_lyrics_unable), len(df_lyrics_yet)"
   ]
  },
  {
   "cell_type": "code",
   "execution_count": 746,
   "metadata": {},
   "outputs": [],
   "source": [
    "# for artist, song in diff:\n",
    "#     print(artist)"
   ]
  },
  {
   "cell_type": "code",
   "execution_count": 772,
   "metadata": {},
   "outputs": [],
   "source": [
    "df = pd.DataFrame(index = diff)\n",
    "df.index = df.index.set_names(['artist', 'song'])"
   ]
  },
  {
   "cell_type": "code",
   "execution_count": 775,
   "metadata": {},
   "outputs": [],
   "source": [
    "df = df.sort_index()"
   ]
  },
  {
   "cell_type": "code",
   "execution_count": 819,
   "metadata": {},
   "outputs": [
    {
     "data": {
      "text/html": [
       "<div>\n",
       "<style scoped>\n",
       "    .dataframe tbody tr th:only-of-type {\n",
       "        vertical-align: middle;\n",
       "    }\n",
       "\n",
       "    .dataframe tbody tr th {\n",
       "        vertical-align: top;\n",
       "    }\n",
       "\n",
       "    .dataframe thead th {\n",
       "        text-align: right;\n",
       "    }\n",
       "</style>\n",
       "<table border=\"1\" class=\"dataframe\">\n",
       "  <thead>\n",
       "    <tr style=\"text-align: right;\">\n",
       "      <th></th>\n",
       "      <th></th>\n",
       "      <th>test</th>\n",
       "    </tr>\n",
       "    <tr>\n",
       "      <th>artist</th>\n",
       "      <th>song</th>\n",
       "      <th></th>\n",
       "    </tr>\n",
       "  </thead>\n",
       "  <tbody>\n",
       "    <tr>\n",
       "      <th rowspan=\"5\" valign=\"top\">Madeintyo</th>\n",
       "      <th>2 Flights</th>\n",
       "      <td>NaN</td>\n",
       "    </tr>\n",
       "    <tr>\n",
       "      <th>Cashing Out</th>\n",
       "      <td>NaN</td>\n",
       "    </tr>\n",
       "    <tr>\n",
       "      <th>Chucky Cheese</th>\n",
       "      <td>NaN</td>\n",
       "    </tr>\n",
       "    <tr>\n",
       "      <th>Good Gas</th>\n",
       "      <td>hello</td>\n",
       "    </tr>\n",
       "    <tr>\n",
       "      <th>I Want (feat. 2 Chainz)</th>\n",
       "      <td>NaN</td>\n",
       "    </tr>\n",
       "    <tr>\n",
       "      <th>...</th>\n",
       "      <th>...</th>\n",
       "      <td>...</td>\n",
       "    </tr>\n",
       "    <tr>\n",
       "      <th>yugi boi</th>\n",
       "      <th>The End</th>\n",
       "      <td>NaN</td>\n",
       "    </tr>\n",
       "    <tr>\n",
       "      <th>yuzu blur</th>\n",
       "      <th>Sky Blush</th>\n",
       "      <td>NaN</td>\n",
       "    </tr>\n",
       "    <tr>\n",
       "      <th>ÊMIA</th>\n",
       "      <th>Psychic</th>\n",
       "      <td>NaN</td>\n",
       "    </tr>\n",
       "    <tr>\n",
       "      <th>âme</th>\n",
       "      <th>No War - Rampa Remix</th>\n",
       "      <td>NaN</td>\n",
       "    </tr>\n",
       "    <tr>\n",
       "      <th>aaaa</th>\n",
       "      <th>Chucky</th>\n",
       "      <td>mewghywion</td>\n",
       "    </tr>\n",
       "  </tbody>\n",
       "</table>\n",
       "<p>3002 rows × 1 columns</p>\n",
       "</div>"
      ],
      "text/plain": [
       "                                         test\n",
       "artist    song                               \n",
       "Madeintyo 2 Flights                       NaN\n",
       "          Cashing Out                     NaN\n",
       "          Chucky Cheese                   NaN\n",
       "          Good Gas                      hello\n",
       "          I Want (feat. 2 Chainz)         NaN\n",
       "...                                       ...\n",
       "yugi boi  The End                         NaN\n",
       "yuzu blur Sky Blush                       NaN\n",
       "ÊMIA      Psychic                         NaN\n",
       "âme       No War - Rampa Remix            NaN\n",
       "aaaa      Chucky                   mewghywion\n",
       "\n",
       "[3002 rows x 1 columns]"
      ]
     },
     "execution_count": 819,
     "metadata": {},
     "output_type": "execute_result"
    }
   ],
   "source": [
    "df"
   ]
  },
  {
   "cell_type": "code",
   "execution_count": 829,
   "metadata": {},
   "outputs": [],
   "source": [
    "test = pd.DataFrame(index = pd.MultiIndex(levels = [[]]*2, codes = [[]]*2, names = ['artist', 'song']))"
   ]
  },
  {
   "cell_type": "code",
   "execution_count": 831,
   "metadata": {},
   "outputs": [
    {
     "data": {
      "text/plain": [
       "MultiIndex([], names=['artist', 'song'])"
      ]
     },
     "execution_count": 831,
     "metadata": {},
     "output_type": "execute_result"
    }
   ],
   "source": [
    "test.index"
   ]
  },
  {
   "cell_type": "code",
   "execution_count": 839,
   "metadata": {},
   "outputs": [],
   "source": [
    "# test.at[('aaaa', 'Chucky'), 'test'] = 'mewghywion'"
   ]
  },
  {
   "cell_type": "code",
   "execution_count": 805,
   "metadata": {},
   "outputs": [],
   "source": [
    "import importlib"
   ]
  },
  {
   "cell_type": "code",
   "execution_count": 809,
   "metadata": {},
   "outputs": [],
   "source": [
    "import lyrics"
   ]
  },
  {
   "cell_type": "code",
   "execution_count": 816,
   "metadata": {},
   "outputs": [
    {
     "data": {
      "text/plain": [
       "<module 'lyrics' from '/Users/georgeschnaars/Desktop/Python/spotify_hist/lyrics.py'>"
      ]
     },
     "execution_count": 816,
     "metadata": {},
     "output_type": "execute_result"
    }
   ],
   "source": [
    "importlib.reload(lyrics)"
   ]
  },
  {
   "cell_type": "code",
   "execution_count": 817,
   "metadata": {},
   "outputs": [
    {
     "ename": "NameError",
     "evalue": "name 'failed_result' is not defined",
     "output_type": "error",
     "traceback": [
      "\u001b[0;31m---------------------------------------------------------------------------\u001b[0m",
      "\u001b[0;31mNameError\u001b[0m                                 Traceback (most recent call last)",
      "\u001b[0;32m<ipython-input-817-8f1440f7542c>\u001b[0m in \u001b[0;36m<module>\u001b[0;34m\u001b[0m\n\u001b[0;32m----> 1\u001b[0;31m \u001b[0mlyrics\u001b[0m\u001b[0;34m.\u001b[0m\u001b[0mLyrics\u001b[0m\u001b[0;34m.\u001b[0m\u001b[0mtest\u001b[0m\u001b[0;34m(\u001b[0m\u001b[0;34m)\u001b[0m\u001b[0;34m\u001b[0m\u001b[0;34m\u001b[0m\u001b[0m\n\u001b[0m",
      "\u001b[0;32m~/Desktop/Python/spotify_hist/lyrics.py\u001b[0m in \u001b[0;36mtest\u001b[0;34m()\u001b[0m\n\u001b[1;32m     29\u001b[0m     \u001b[0;34m@\u001b[0m\u001b[0mstaticmethod\u001b[0m\u001b[0;34m\u001b[0m\u001b[0;34m\u001b[0m\u001b[0m\n\u001b[1;32m     30\u001b[0m     \u001b[0;32mdef\u001b[0m \u001b[0mtest\u001b[0m\u001b[0;34m(\u001b[0m\u001b[0;34m)\u001b[0m\u001b[0;34m:\u001b[0m\u001b[0;34m\u001b[0m\u001b[0;34m\u001b[0m\u001b[0m\n\u001b[0;32m---> 31\u001b[0;31m         \u001b[0mprint\u001b[0m\u001b[0;34m(\u001b[0m\u001b[0mfailed_result\u001b[0m\u001b[0;34m)\u001b[0m\u001b[0;34m\u001b[0m\u001b[0;34m\u001b[0m\u001b[0m\n\u001b[0m\u001b[1;32m     32\u001b[0m \u001b[0;34m\u001b[0m\u001b[0m\n\u001b[1;32m     33\u001b[0m \u001b[0;34m\u001b[0m\u001b[0m\n",
      "\u001b[0;31mNameError\u001b[0m: name 'failed_result' is not defined"
     ]
    }
   ],
   "source": [
    "lyrics.Lyrics.test()"
   ]
  },
  {
   "cell_type": "code",
   "execution_count": 841,
   "metadata": {},
   "outputs": [],
   "source": [
    "placeholder = df.index"
   ]
  },
  {
   "cell_type": "code",
   "execution_count": 843,
   "metadata": {},
   "outputs": [
    {
     "ename": "TypeError",
     "evalue": "drop() got an unexpected keyword argument 'index'",
     "output_type": "error",
     "traceback": [
      "\u001b[0;31m---------------------------------------------------------------------------\u001b[0m",
      "\u001b[0;31mTypeError\u001b[0m                                 Traceback (most recent call last)",
      "\u001b[0;32m<ipython-input-843-672b35beeefd>\u001b[0m in \u001b[0;36m<module>\u001b[0;34m\u001b[0m\n\u001b[0;32m----> 1\u001b[0;31m \u001b[0mplaceholder\u001b[0m\u001b[0;34m.\u001b[0m\u001b[0mdrop\u001b[0m\u001b[0;34m(\u001b[0m\u001b[0mindex\u001b[0m \u001b[0;34m=\u001b[0m \u001b[0;34m(\u001b[0m\u001b[0;34m'Drake'\u001b[0m\u001b[0;34m,\u001b[0m \u001b[0;34m'10 Bands'\u001b[0m\u001b[0;34m)\u001b[0m\u001b[0;34m)\u001b[0m\u001b[0;34m\u001b[0m\u001b[0;34m\u001b[0m\u001b[0m\n\u001b[0m",
      "\u001b[0;31mTypeError\u001b[0m: drop() got an unexpected keyword argument 'index'"
     ]
    }
   ],
   "source": [
    "placeholder.drop(index = ('Drake', '10 Bands'))"
   ]
  },
  {
   "cell_type": "code",
   "execution_count": 862,
   "metadata": {},
   "outputs": [],
   "source": [
    "# for i, (index, series) in enumerate(df.itertuples(), 1):\n",
    "#     print(i, index)"
   ]
  },
  {
   "cell_type": "code",
   "execution_count": 866,
   "metadata": {},
   "outputs": [
    {
     "data": {
      "text/html": [
       "<div>\n",
       "<style scoped>\n",
       "    .dataframe tbody tr th:only-of-type {\n",
       "        vertical-align: middle;\n",
       "    }\n",
       "\n",
       "    .dataframe tbody tr th {\n",
       "        vertical-align: top;\n",
       "    }\n",
       "\n",
       "    .dataframe thead th {\n",
       "        text-align: right;\n",
       "    }\n",
       "</style>\n",
       "<table border=\"1\" class=\"dataframe\">\n",
       "  <thead>\n",
       "    <tr style=\"text-align: right;\">\n",
       "      <th></th>\n",
       "      <th></th>\n",
       "      <th>test</th>\n",
       "    </tr>\n",
       "    <tr>\n",
       "      <th>artist</th>\n",
       "      <th>song</th>\n",
       "      <th></th>\n",
       "    </tr>\n",
       "  </thead>\n",
       "  <tbody>\n",
       "    <tr>\n",
       "      <th rowspan=\"5\" valign=\"top\">Madeintyo</th>\n",
       "      <th>2 Flights</th>\n",
       "      <td>NaN</td>\n",
       "    </tr>\n",
       "    <tr>\n",
       "      <th>Chucky Cheese</th>\n",
       "      <td>NaN</td>\n",
       "    </tr>\n",
       "    <tr>\n",
       "      <th>Good Gas</th>\n",
       "      <td>hello</td>\n",
       "    </tr>\n",
       "    <tr>\n",
       "      <th>I Want (feat. 2 Chainz)</th>\n",
       "      <td>NaN</td>\n",
       "    </tr>\n",
       "    <tr>\n",
       "      <th>Mr. Tokyo</th>\n",
       "      <td>NaN</td>\n",
       "    </tr>\n",
       "    <tr>\n",
       "      <th>...</th>\n",
       "      <th>...</th>\n",
       "      <td>...</td>\n",
       "    </tr>\n",
       "    <tr>\n",
       "      <th>yugi boi</th>\n",
       "      <th>The End</th>\n",
       "      <td>NaN</td>\n",
       "    </tr>\n",
       "    <tr>\n",
       "      <th>yuzu blur</th>\n",
       "      <th>Sky Blush</th>\n",
       "      <td>NaN</td>\n",
       "    </tr>\n",
       "    <tr>\n",
       "      <th>ÊMIA</th>\n",
       "      <th>Psychic</th>\n",
       "      <td>NaN</td>\n",
       "    </tr>\n",
       "    <tr>\n",
       "      <th>âme</th>\n",
       "      <th>No War - Rampa Remix</th>\n",
       "      <td>NaN</td>\n",
       "    </tr>\n",
       "    <tr>\n",
       "      <th>aaaa</th>\n",
       "      <th>Chucky</th>\n",
       "      <td>mewghywion</td>\n",
       "    </tr>\n",
       "  </tbody>\n",
       "</table>\n",
       "<p>3001 rows × 1 columns</p>\n",
       "</div>"
      ],
      "text/plain": [
       "                                         test\n",
       "artist    song                               \n",
       "Madeintyo 2 Flights                       NaN\n",
       "          Chucky Cheese                   NaN\n",
       "          Good Gas                      hello\n",
       "          I Want (feat. 2 Chainz)         NaN\n",
       "          Mr. Tokyo                       NaN\n",
       "...                                       ...\n",
       "yugi boi  The End                         NaN\n",
       "yuzu blur Sky Blush                       NaN\n",
       "ÊMIA      Psychic                         NaN\n",
       "âme       No War - Rampa Remix            NaN\n",
       "aaaa      Chucky                   mewghywion\n",
       "\n",
       "[3001 rows x 1 columns]"
      ]
     },
     "execution_count": 866,
     "metadata": {},
     "output_type": "execute_result"
    }
   ],
   "source": [
    "df.drop(('Madeintyo', 'Cashing Out'))"
   ]
  },
  {
   "cell_type": "code",
   "execution_count": 865,
   "metadata": {},
   "outputs": [
    {
     "data": {
      "text/html": [
       "<div>\n",
       "<style scoped>\n",
       "    .dataframe tbody tr th:only-of-type {\n",
       "        vertical-align: middle;\n",
       "    }\n",
       "\n",
       "    .dataframe tbody tr th {\n",
       "        vertical-align: top;\n",
       "    }\n",
       "\n",
       "    .dataframe thead th {\n",
       "        text-align: right;\n",
       "    }\n",
       "</style>\n",
       "<table border=\"1\" class=\"dataframe\">\n",
       "  <thead>\n",
       "    <tr style=\"text-align: right;\">\n",
       "      <th></th>\n",
       "      <th></th>\n",
       "      <th>test</th>\n",
       "    </tr>\n",
       "    <tr>\n",
       "      <th>artist</th>\n",
       "      <th>song</th>\n",
       "      <th></th>\n",
       "    </tr>\n",
       "  </thead>\n",
       "  <tbody>\n",
       "    <tr>\n",
       "      <th rowspan=\"5\" valign=\"top\">Madeintyo</th>\n",
       "      <th>2 Flights</th>\n",
       "      <td>NaN</td>\n",
       "    </tr>\n",
       "    <tr>\n",
       "      <th>Cashing Out</th>\n",
       "      <td>NaN</td>\n",
       "    </tr>\n",
       "    <tr>\n",
       "      <th>Chucky Cheese</th>\n",
       "      <td>NaN</td>\n",
       "    </tr>\n",
       "    <tr>\n",
       "      <th>Good Gas</th>\n",
       "      <td>hello</td>\n",
       "    </tr>\n",
       "    <tr>\n",
       "      <th>I Want (feat. 2 Chainz)</th>\n",
       "      <td>NaN</td>\n",
       "    </tr>\n",
       "    <tr>\n",
       "      <th>...</th>\n",
       "      <th>...</th>\n",
       "      <td>...</td>\n",
       "    </tr>\n",
       "    <tr>\n",
       "      <th>yugi boi</th>\n",
       "      <th>The End</th>\n",
       "      <td>NaN</td>\n",
       "    </tr>\n",
       "    <tr>\n",
       "      <th>yuzu blur</th>\n",
       "      <th>Sky Blush</th>\n",
       "      <td>NaN</td>\n",
       "    </tr>\n",
       "    <tr>\n",
       "      <th>ÊMIA</th>\n",
       "      <th>Psychic</th>\n",
       "      <td>NaN</td>\n",
       "    </tr>\n",
       "    <tr>\n",
       "      <th>âme</th>\n",
       "      <th>No War - Rampa Remix</th>\n",
       "      <td>NaN</td>\n",
       "    </tr>\n",
       "    <tr>\n",
       "      <th>aaaa</th>\n",
       "      <th>Chucky</th>\n",
       "      <td>mewghywion</td>\n",
       "    </tr>\n",
       "  </tbody>\n",
       "</table>\n",
       "<p>3002 rows × 1 columns</p>\n",
       "</div>"
      ],
      "text/plain": [
       "                                         test\n",
       "artist    song                               \n",
       "Madeintyo 2 Flights                       NaN\n",
       "          Cashing Out                     NaN\n",
       "          Chucky Cheese                   NaN\n",
       "          Good Gas                      hello\n",
       "          I Want (feat. 2 Chainz)         NaN\n",
       "...                                       ...\n",
       "yugi boi  The End                         NaN\n",
       "yuzu blur Sky Blush                       NaN\n",
       "ÊMIA      Psychic                         NaN\n",
       "âme       No War - Rampa Remix            NaN\n",
       "aaaa      Chucky                   mewghywion\n",
       "\n",
       "[3002 rows x 1 columns]"
      ]
     },
     "execution_count": 865,
     "metadata": {},
     "output_type": "execute_result"
    }
   ],
   "source": [
    "df"
   ]
  },
  {
   "cell_type": "code",
   "execution_count": 870,
   "metadata": {},
   "outputs": [
    {
     "data": {
      "text/plain": [
       "<module 'uniques' from '/Users/georgeschnaars/Desktop/Python/spotify_hist/uniques.py'>"
      ]
     },
     "execution_count": 870,
     "metadata": {},
     "output_type": "execute_result"
    }
   ],
   "source": [
    "importlib.reload(uniques)"
   ]
  },
  {
   "cell_type": "code",
   "execution_count": 875,
   "metadata": {},
   "outputs": [
    {
     "data": {
      "text/plain": [
       "MultiIndex([(  'PARTYNEXTDOOR',                  'Loyal (feat. Drake)'),\n",
       "            (          'Drake',                              'Jumpman'),\n",
       "            ('Louis The Child',                         'It's strange'),\n",
       "            (          'JAY-Z',                       'Why I Love You'),\n",
       "            (         'Dwilly',                                 'ugh!'),\n",
       "            (      'Giraffage',                                'Hello'),\n",
       "            (          'Drake',            'Put It Down (feat. Drake)'),\n",
       "            (       'A$AP Mob',             'Last Day of Skool (Skit)'),\n",
       "            (          'Drake',                      'Say What's Real'),\n",
       "            (      'Metallica', 'For Whom The Bell Tolls (Remastered)'),\n",
       "            ...\n",
       "            (  'Isaiah Rashad',                          'Cilvia Demo'),\n",
       "            (       'SahBabii',                 'Titanoboa (feat. T3)'),\n",
       "            (         'Maazel',                           'In My Head'),\n",
       "            (       'Lil Baby',              'Heatin Up (feat. Gunna)'),\n",
       "            (     'Young Thug',            'On The Run (feat. Offset)'),\n",
       "            (  'iLoveMakonnen',                             'Want You'),\n",
       "            (  'Vince Staples',                        'Run the Bands'),\n",
       "            (     'Jack Wilby',                            'Illusions'),\n",
       "            (   'Metro Boomin',     '10 Freaky Girls (with 21 Savage)'),\n",
       "            (           'Russ',                       'What They Want')],\n",
       "           length=7092)"
      ]
     },
     "execution_count": 875,
     "metadata": {},
     "output_type": "execute_result"
    }
   ],
   "source": [
    "pd.MultiIndex.from_tuples(uniques.Unique.get_uniques())"
   ]
  },
  {
   "cell_type": "code",
   "execution_count": null,
   "metadata": {},
   "outputs": [],
   "source": []
  }
 ],
 "metadata": {
  "kernelspec": {
   "display_name": "Python 3",
   "language": "python",
   "name": "python3"
  },
  "language_info": {
   "codemirror_mode": {
    "name": "ipython",
    "version": 3
   },
   "file_extension": ".py",
   "mimetype": "text/x-python",
   "name": "python",
   "nbconvert_exporter": "python",
   "pygments_lexer": "ipython3",
   "version": "3.7.4"
  }
 },
 "nbformat": 4,
 "nbformat_minor": 4
}
