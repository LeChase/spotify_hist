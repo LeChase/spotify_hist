{
 "cells": [
  {
   "cell_type": "code",
   "execution_count": 63,
   "metadata": {},
   "outputs": [],
   "source": [
    "import time\n",
    "\n",
    "import os, sys\n",
    "import pandas as pd"
   ]
  },
  {
   "cell_type": "code",
   "execution_count": 7,
   "metadata": {},
   "outputs": [],
   "source": [
    "__scrobbles__ = 'downloads/gps56-2.csv'"
   ]
  },
  {
   "cell_type": "code",
   "execution_count": 8,
   "metadata": {},
   "outputs": [],
   "source": [
    "pd.options.mode.chained_assignment = None"
   ]
  },
  {
   "cell_type": "code",
   "execution_count": 9,
   "metadata": {},
   "outputs": [],
   "source": [
    "weekday_map = {0: 'monday',\n",
    "              1: 'tuesday', \n",
    "              2: 'wednesday',\n",
    "              3: 'thursday', \n",
    "              4: 'friday', \n",
    "              5: 'saturday', \n",
    "              6: 'sunday'}"
   ]
  },
  {
   "cell_type": "code",
   "execution_count": null,
   "metadata": {},
   "outputs": [],
   "source": []
  },
  {
   "cell_type": "code",
   "execution_count": 10,
   "metadata": {},
   "outputs": [],
   "source": [
    "df = pd.read_csv(__scrobbles__, header = None, names = ['artist', 'album', 'song', 'datetime'])"
   ]
  },
  {
   "cell_type": "code",
   "execution_count": 11,
   "metadata": {},
   "outputs": [],
   "source": [
    "# remove where datetime is NaN (negligible)\n",
    "df = df[~df.datetime.isna()]"
   ]
  },
  {
   "cell_type": "code",
   "execution_count": 12,
   "metadata": {},
   "outputs": [],
   "source": [
    "# convert datetime column to acutal datetime objects\n",
    "# subtract 7 hours since original times are UTC\n",
    "df.datetime = pd.to_datetime(df.datetime) - pd.Timedelta(hours = 7)"
   ]
  },
  {
   "cell_type": "code",
   "execution_count": 13,
   "metadata": {},
   "outputs": [
    {
     "data": {
      "text/html": [
       "<div>\n",
       "<style scoped>\n",
       "    .dataframe tbody tr th:only-of-type {\n",
       "        vertical-align: middle;\n",
       "    }\n",
       "\n",
       "    .dataframe tbody tr th {\n",
       "        vertical-align: top;\n",
       "    }\n",
       "\n",
       "    .dataframe thead th {\n",
       "        text-align: right;\n",
       "    }\n",
       "</style>\n",
       "<table border=\"1\" class=\"dataframe\">\n",
       "  <thead>\n",
       "    <tr style=\"text-align: right;\">\n",
       "      <th></th>\n",
       "      <th>artist</th>\n",
       "      <th>album</th>\n",
       "      <th>song</th>\n",
       "      <th>datetime</th>\n",
       "    </tr>\n",
       "  </thead>\n",
       "  <tbody>\n",
       "    <tr>\n",
       "      <th>55538</th>\n",
       "      <td>Getter</td>\n",
       "      <td>Wat The Frick EP</td>\n",
       "      <td>Something New</td>\n",
       "      <td>2017-07-05 06:37:00</td>\n",
       "    </tr>\n",
       "    <tr>\n",
       "      <th>55539</th>\n",
       "      <td>Che Ecru</td>\n",
       "      <td>buries</td>\n",
       "      <td>2 AM</td>\n",
       "      <td>2017-07-05 06:34:00</td>\n",
       "    </tr>\n",
       "    <tr>\n",
       "      <th>55540</th>\n",
       "      <td>Deorro</td>\n",
       "      <td>Good Evening</td>\n",
       "      <td>Guide Me</td>\n",
       "      <td>2017-07-05 06:31:00</td>\n",
       "    </tr>\n",
       "    <tr>\n",
       "      <th>55541</th>\n",
       "      <td>BONJR</td>\n",
       "      <td>Hey Sego</td>\n",
       "      <td>hey sego</td>\n",
       "      <td>2017-07-05 06:28:00</td>\n",
       "    </tr>\n",
       "    <tr>\n",
       "      <th>55542</th>\n",
       "      <td>Oshi</td>\n",
       "      <td>oshi</td>\n",
       "      <td>state of flux</td>\n",
       "      <td>2017-07-05 06:24:00</td>\n",
       "    </tr>\n",
       "    <tr>\n",
       "      <th>55543</th>\n",
       "      <td>Young Thug</td>\n",
       "      <td>Slime Season 3</td>\n",
       "      <td>With Them</td>\n",
       "      <td>2017-07-05 06:20:00</td>\n",
       "    </tr>\n",
       "    <tr>\n",
       "      <th>55544</th>\n",
       "      <td>Hyper Potions</td>\n",
       "      <td>Adventures</td>\n",
       "      <td>Adventures</td>\n",
       "      <td>2017-07-04 20:53:00</td>\n",
       "    </tr>\n",
       "    <tr>\n",
       "      <th>55545</th>\n",
       "      <td>Young Thug</td>\n",
       "      <td>Beautiful Thugger Girls</td>\n",
       "      <td>Daddy's Birthday</td>\n",
       "      <td>2017-07-04 13:05:00</td>\n",
       "    </tr>\n",
       "    <tr>\n",
       "      <th>55546</th>\n",
       "      <td>Young Thug</td>\n",
       "      <td>Slime Season</td>\n",
       "      <td>Again</td>\n",
       "      <td>2017-07-04 13:01:00</td>\n",
       "    </tr>\n",
       "    <tr>\n",
       "      <th>55547</th>\n",
       "      <td>Young Thug</td>\n",
       "      <td>Slime Season</td>\n",
       "      <td>Overdosin</td>\n",
       "      <td>2017-07-04 12:50:00</td>\n",
       "    </tr>\n",
       "    <tr>\n",
       "      <th>55548</th>\n",
       "      <td>Nessly</td>\n",
       "      <td>Solo Boy Band</td>\n",
       "      <td>Catch A Vibe</td>\n",
       "      <td>2017-07-04 12:45:00</td>\n",
       "    </tr>\n",
       "    <tr>\n",
       "      <th>55549</th>\n",
       "      <td>Drake</td>\n",
       "      <td>Future Hip Hop &amp; RnB Hits Vol. 1</td>\n",
       "      <td>How Bout Now</td>\n",
       "      <td>2017-07-04 12:41:00</td>\n",
       "    </tr>\n",
       "    <tr>\n",
       "      <th>55550</th>\n",
       "      <td>Robotaki</td>\n",
       "      <td>Ghostboy (feat. Claire Ridgely)</td>\n",
       "      <td>Ghostboy</td>\n",
       "      <td>2017-07-04 12:36:00</td>\n",
       "    </tr>\n",
       "    <tr>\n",
       "      <th>55551</th>\n",
       "      <td>Che Ecru</td>\n",
       "      <td>buries</td>\n",
       "      <td>2 AM</td>\n",
       "      <td>2017-07-04 12:32:00</td>\n",
       "    </tr>\n",
       "    <tr>\n",
       "      <th>55552</th>\n",
       "      <td>DJ Khaled</td>\n",
       "      <td>Grateful</td>\n",
       "      <td>Iced Out My Arms</td>\n",
       "      <td>2017-07-04 12:28:00</td>\n",
       "    </tr>\n",
       "    <tr>\n",
       "      <th>55553</th>\n",
       "      <td>Madeintyo</td>\n",
       "      <td>Thank You Mr. Tokyo</td>\n",
       "      <td>Time Of Her Life</td>\n",
       "      <td>2017-07-04 12:26:00</td>\n",
       "    </tr>\n",
       "    <tr>\n",
       "      <th>55554</th>\n",
       "      <td>DJ Khaled</td>\n",
       "      <td>Grateful</td>\n",
       "      <td>Iced Out My Arms</td>\n",
       "      <td>2017-07-04 12:23:00</td>\n",
       "    </tr>\n",
       "    <tr>\n",
       "      <th>55555</th>\n",
       "      <td>Young Thug</td>\n",
       "      <td>Beautiful Thugger Girls</td>\n",
       "      <td>Daddy's Birthday</td>\n",
       "      <td>2017-07-01 14:33:00</td>\n",
       "    </tr>\n",
       "    <tr>\n",
       "      <th>55556</th>\n",
       "      <td>Lil Wayne</td>\n",
       "      <td>Tha Carter IV (Deluxe)</td>\n",
       "      <td>How to Love</td>\n",
       "      <td>2017-06-29 20:39:00</td>\n",
       "    </tr>\n",
       "    <tr>\n",
       "      <th>55557</th>\n",
       "      <td>2 Chainz</td>\n",
       "      <td>Pretty Girls Like Trap Music</td>\n",
       "      <td>It's A Vibe</td>\n",
       "      <td>2017-06-29 20:34:00</td>\n",
       "    </tr>\n",
       "  </tbody>\n",
       "</table>\n",
       "</div>"
      ],
      "text/plain": [
       "              artist                             album              song  \\\n",
       "55538         Getter                  Wat The Frick EP     Something New   \n",
       "55539       Che Ecru                            buries              2 AM   \n",
       "55540         Deorro                      Good Evening          Guide Me   \n",
       "55541          BONJR                          Hey Sego          hey sego   \n",
       "55542           Oshi                              oshi     state of flux   \n",
       "55543     Young Thug                    Slime Season 3         With Them   \n",
       "55544  Hyper Potions                        Adventures        Adventures   \n",
       "55545     Young Thug           Beautiful Thugger Girls  Daddy's Birthday   \n",
       "55546     Young Thug                      Slime Season             Again   \n",
       "55547     Young Thug                      Slime Season         Overdosin   \n",
       "55548         Nessly                     Solo Boy Band      Catch A Vibe   \n",
       "55549          Drake  Future Hip Hop & RnB Hits Vol. 1      How Bout Now   \n",
       "55550       Robotaki   Ghostboy (feat. Claire Ridgely)          Ghostboy   \n",
       "55551       Che Ecru                            buries              2 AM   \n",
       "55552      DJ Khaled                          Grateful  Iced Out My Arms   \n",
       "55553      Madeintyo               Thank You Mr. Tokyo  Time Of Her Life   \n",
       "55554      DJ Khaled                          Grateful  Iced Out My Arms   \n",
       "55555     Young Thug           Beautiful Thugger Girls  Daddy's Birthday   \n",
       "55556      Lil Wayne            Tha Carter IV (Deluxe)       How to Love   \n",
       "55557       2 Chainz      Pretty Girls Like Trap Music       It's A Vibe   \n",
       "\n",
       "                 datetime  \n",
       "55538 2017-07-05 06:37:00  \n",
       "55539 2017-07-05 06:34:00  \n",
       "55540 2017-07-05 06:31:00  \n",
       "55541 2017-07-05 06:28:00  \n",
       "55542 2017-07-05 06:24:00  \n",
       "55543 2017-07-05 06:20:00  \n",
       "55544 2017-07-04 20:53:00  \n",
       "55545 2017-07-04 13:05:00  \n",
       "55546 2017-07-04 13:01:00  \n",
       "55547 2017-07-04 12:50:00  \n",
       "55548 2017-07-04 12:45:00  \n",
       "55549 2017-07-04 12:41:00  \n",
       "55550 2017-07-04 12:36:00  \n",
       "55551 2017-07-04 12:32:00  \n",
       "55552 2017-07-04 12:28:00  \n",
       "55553 2017-07-04 12:26:00  \n",
       "55554 2017-07-04 12:23:00  \n",
       "55555 2017-07-01 14:33:00  \n",
       "55556 2017-06-29 20:39:00  \n",
       "55557 2017-06-29 20:34:00  "
      ]
     },
     "execution_count": 13,
     "metadata": {},
     "output_type": "execute_result"
    }
   ],
   "source": [
    "df.tail(20)"
   ]
  },
  {
   "cell_type": "code",
   "execution_count": null,
   "metadata": {},
   "outputs": [],
   "source": []
  },
  {
   "cell_type": "markdown",
   "metadata": {},
   "source": [
    "# Time Analysis"
   ]
  },
  {
   "cell_type": "code",
   "execution_count": 32,
   "metadata": {},
   "outputs": [
    {
     "data": {
      "text/plain": [
       "1       2020-05-04 17:34:00\n",
       "2       2020-05-04 15:07:00\n",
       "3       2020-05-04 15:05:00\n",
       "4       2020-05-04 15:05:00\n",
       "5       2020-05-04 14:58:00\n",
       "                ...        \n",
       "55553   2017-07-04 12:26:00\n",
       "55554   2017-07-04 12:23:00\n",
       "55555   2017-07-01 14:33:00\n",
       "55556   2017-06-29 20:39:00\n",
       "55557   2017-06-29 20:34:00\n",
       "Name: datetime, Length: 55281, dtype: datetime64[ns]"
      ]
     },
     "execution_count": 32,
     "metadata": {},
     "output_type": "execute_result"
    }
   ],
   "source": [
    "df.datetime"
   ]
  },
  {
   "cell_type": "code",
   "execution_count": 42,
   "metadata": {},
   "outputs": [
    {
     "data": {
      "text/plain": [
       "thursday     9829\n",
       "friday       9606\n",
       "tuesday      9445\n",
       "wednesday    7775\n",
       "monday       7201\n",
       "saturday     7029\n",
       "sunday       4396\n",
       "Name: datetime, dtype: int64"
      ]
     },
     "execution_count": 42,
     "metadata": {},
     "output_type": "execute_result"
    }
   ],
   "source": [
    "df.datetime.dt.weekday.map(weekday_map).value_counts()"
   ]
  },
  {
   "cell_type": "code",
   "execution_count": null,
   "metadata": {},
   "outputs": [],
   "source": []
  },
  {
   "cell_type": "code",
   "execution_count": null,
   "metadata": {},
   "outputs": [],
   "source": []
  },
  {
   "cell_type": "markdown",
   "metadata": {},
   "source": [
    "# Lyric Sentiment Analysis"
   ]
  },
  {
   "cell_type": "code",
   "execution_count": 44,
   "metadata": {},
   "outputs": [],
   "source": [
    "# for genius API\n",
    "# name           pysent\n",
    "# URL            https://github.com/LeChase/spotify_hist\n",
    "# client ID      lT9Ki6NGuPJC8bVLWtmNn0F2J5kYPiL0E7i9pHN8jHot6pnYb_x7rlFlbYAZepEV\n",
    "# client secret  bElRrQIVRVRZRA3h3iPvUm2iSk6mpeQzYU8H_GPMsMAAJWgSHgSF2j_sigwjJVrvhdJ8d-StiZISXxNKD5cbog\n",
    "# access token   UgvKlj9wHavgvBZScdTzfIKL2DKiIatIwPVV0M6JpEqm8YgIC_eJiQsYcsnmU2G-"
   ]
  },
  {
   "cell_type": "code",
   "execution_count": 14,
   "metadata": {},
   "outputs": [],
   "source": [
    "import lyricsgenius, json"
   ]
  },
  {
   "cell_type": "code",
   "execution_count": 15,
   "metadata": {},
   "outputs": [],
   "source": [
    "genius = lyricsgenius.Genius(\"UgvKlj9wHavgvBZScdTzfIKL2DKiIatIwPVV0M6JpEqm8YgIC_eJiQsYcsnmU2G-\")"
   ]
  },
  {
   "cell_type": "code",
   "execution_count": 61,
   "metadata": {},
   "outputs": [],
   "source": [
    "genius.verbose = False"
   ]
  },
  {
   "cell_type": "code",
   "execution_count": 17,
   "metadata": {},
   "outputs": [],
   "source": [
    "# artist = genius.search_artist(\"Drake\", max_songs=2,)"
   ]
  },
  {
   "cell_type": "code",
   "execution_count": null,
   "metadata": {},
   "outputs": [],
   "source": []
  },
  {
   "cell_type": "code",
   "execution_count": null,
   "metadata": {},
   "outputs": [],
   "source": []
  },
  {
   "cell_type": "code",
   "execution_count": 18,
   "metadata": {},
   "outputs": [],
   "source": [
    "# artist.save_lyrics()"
   ]
  },
  {
   "cell_type": "code",
   "execution_count": null,
   "metadata": {},
   "outputs": [],
   "source": []
  },
  {
   "cell_type": "code",
   "execution_count": 19,
   "metadata": {},
   "outputs": [],
   "source": [
    "# # Reading the json as a dict\n",
    "# with open('Lyrics_Drake.json') as json_data:\n",
    "#     data = json.load(json_data)"
   ]
  },
  {
   "cell_type": "code",
   "execution_count": 20,
   "metadata": {},
   "outputs": [],
   "source": [
    "# len(data['songs'])"
   ]
  },
  {
   "cell_type": "code",
   "execution_count": 22,
   "metadata": {},
   "outputs": [],
   "source": [
    "# song = genius.search_song(\"somethign new getter\")"
   ]
  },
  {
   "cell_type": "code",
   "execution_count": null,
   "metadata": {},
   "outputs": [],
   "source": []
  },
  {
   "cell_type": "code",
   "execution_count": null,
   "metadata": {},
   "outputs": [],
   "source": []
  },
  {
   "cell_type": "code",
   "execution_count": null,
   "metadata": {},
   "outputs": [],
   "source": []
  },
  {
   "cell_type": "code",
   "execution_count": 56,
   "metadata": {},
   "outputs": [],
   "source": [
    "def get_lyrics(row):\n",
    "    try:\n",
    "        song = genius.search_song(' - '.join((row.artist, row.song)))\n",
    "        return song.lyrics\n",
    "    except AttributeError:\n",
    "        return 'NOT FOUND'"
   ]
  },
  {
   "cell_type": "code",
   "execution_count": 26,
   "metadata": {},
   "outputs": [],
   "source": [
    "test = df.sample(20)"
   ]
  },
  {
   "cell_type": "code",
   "execution_count": 116,
   "metadata": {},
   "outputs": [
    {
     "name": "stdout",
     "output_type": "stream",
     "text": [
      "Searching for \"Still Here Drake\"...\n",
      "Done.\n",
      "Searching for \"Life is Good (feat. Drake) Future\"...\n",
      "Done.\n",
      "Searching for \"Big Amount 2 Chainz\"...\n",
      "Done.\n",
      "Searching for \"Fuck That Check Up (feat. Lil Uzi Vert) Meek Mill\"...\n",
      "Done.\n",
      "Searching for \"Shelter Porter Robinson\"...\n",
      "Done.\n",
      "Searching for \"Rebound aftertheparty\"...\n",
      "Done.\n",
      "Searching for \"Check the Rhime A Tribe Called Quest\"...\n",
      "Done.\n",
      "Searching for \"No Time (feat. Gunna) Playboi Carti\"...\n",
      "Done.\n",
      "Searching for \"Find My Way DaBaby\"...\n",
      "Done.\n",
      "Searching for \"Paramedic! SOB x RBE\"...\n",
      "Done.\n",
      "Searching for \"Pursuit of Happiness (Nightmare) Kid Cudi\"...\n",
      "Done.\n",
      "Searching for \"200 Future\"...\n",
      "Done.\n",
      "Searching for \"Armed and Dangerous Juice WRLD\"...\n",
      "Done.\n",
      "Searching for \"South Galimatias\"...\n",
      "Done.\n",
      "Searching for \"No Role Modelz J. Cole\"...\n",
      "Done.\n",
      "Searching for \"BoomTrap Protocol Logic\"...\n",
      "Done.\n",
      "Searching for \"No Heart 21 Savage\"...\n",
      "Done.\n",
      "Searching for \"Feed Me Dope Future\"...\n",
      "Done.\n",
      "Searching for \"Lil Arrogant (feat. Joey Bada$$ & Russ) IDK\"...\n",
      "Done.\n",
      "Searching for \"Starman - 2012 Remaster David Bowie\"...\n",
      "No results found for: 'Starman - 2012 Remaster David Bowie'\n"
     ]
    },
    {
     "name": "stderr",
     "output_type": "stream",
     "text": [
      "/Users/georgeschnaars/Desktop/Python/spotify_hist/test_env/lib/python3.7/site-packages/ipykernel_launcher.py:1: UserWarning: Pandas doesn't allow columns to be created via a new attribute name - see https://pandas.pydata.org/pandas-docs/stable/indexing.html#attribute-access\n",
      "  \"\"\"Entry point for launching an IPython kernel.\n"
     ]
    }
   ],
   "source": [
    "test.lyrics = test.apply(get_lyrics, axis = 1)"
   ]
  },
  {
   "cell_type": "code",
   "execution_count": 118,
   "metadata": {},
   "outputs": [
    {
     "data": {
      "text/plain": [
       "30513    [Intro]\\nDoin' well dog\\nYeah, me and all my\\n...\n",
       "7776     [Перевод песни \"Future - Life Is Good (feat. D...\n",
       "14649    [Intro: 2 Chainz]\\nI'ma tell you, I'ma tell yo...\n",
       "54424    [Intro: Meek Mill]\\nLil' fish, yeah\\nIf you ca...\n",
       "7591     [Intro: Amy Millan]\\nAyy, I will, ayy\\nAyy, I ...\n",
       "53000    [Pre-Chorus]\\nBaby I know you want someone\\nTo...\n",
       "16181    [Intro]\\nUh, uh, uh, uh\\nUh, uh, uh, check the...\n",
       "26555    [Intro: Playboi Carti]\\nCheck it out\\nWake up ...\n",
       "551      [Intro]\\nWait a minute, who are you? (Ayy, yo,...\n",
       "36624    [Intro: Zacari & Kendrick Lamar]\\nI am Killmon...\n",
       "14215    [Intro: Kid Cudi]\\nMmmm, ay-oh\\nHey...\\nRatata...\n",
       "6283     [Intro: Young Thug]\\nEverything right\\nEveryth...\n",
       "21353              \\n            Lyrics for this song h...\n",
       "41499    [Verse 1]\\nLook me in the eye I'ma take it slo...\n",
       "48604    [Produced by Phonix Beats and J. Cole]\\n\\n[Ver...\n",
       "44165    [Verse 1]\\nLet me get up in this bitch, like, ...\n",
       "45620    [Intro]\\nSouthside, Southside on the, Southsid...\n",
       "2700     [Intro]\\nReady for whatever\\nClever as it get\\...\n",
       "38946    [Verse 1: IDK]\\nThis is what you all been wait...\n",
       "8968                                             NOT FOUND\n",
       "dtype: object"
      ]
     },
     "execution_count": 118,
     "metadata": {},
     "output_type": "execute_result"
    }
   ],
   "source": [
    "test.lyrics"
   ]
  },
  {
   "cell_type": "code",
   "execution_count": 121,
   "metadata": {},
   "outputs": [],
   "source": [
    "test['lyrics'] = test.lyrics"
   ]
  },
  {
   "cell_type": "code",
   "execution_count": 122,
   "metadata": {},
   "outputs": [
    {
     "data": {
      "text/html": [
       "<div>\n",
       "<style scoped>\n",
       "    .dataframe tbody tr th:only-of-type {\n",
       "        vertical-align: middle;\n",
       "    }\n",
       "\n",
       "    .dataframe tbody tr th {\n",
       "        vertical-align: top;\n",
       "    }\n",
       "\n",
       "    .dataframe thead th {\n",
       "        text-align: right;\n",
       "    }\n",
       "</style>\n",
       "<table border=\"1\" class=\"dataframe\">\n",
       "  <thead>\n",
       "    <tr style=\"text-align: right;\">\n",
       "      <th></th>\n",
       "      <th>artist</th>\n",
       "      <th>album</th>\n",
       "      <th>song</th>\n",
       "      <th>datetime</th>\n",
       "      <th>lyrics</th>\n",
       "    </tr>\n",
       "  </thead>\n",
       "  <tbody>\n",
       "    <tr>\n",
       "      <th>30513</th>\n",
       "      <td>Drake</td>\n",
       "      <td>Views</td>\n",
       "      <td>Still Here</td>\n",
       "      <td>2019-01-29 00:58:00</td>\n",
       "      <td>[Intro]\\nDoin' well dog\\nYeah, me and all my\\n...</td>\n",
       "    </tr>\n",
       "    <tr>\n",
       "      <th>7776</th>\n",
       "      <td>Future</td>\n",
       "      <td>Life Is Good (feat. Drake)</td>\n",
       "      <td>Life is Good (feat. Drake)</td>\n",
       "      <td>2020-01-10 04:00:00</td>\n",
       "      <td>[Перевод песни \"Future - Life Is Good (feat. D...</td>\n",
       "    </tr>\n",
       "    <tr>\n",
       "      <th>14649</th>\n",
       "      <td>2 Chainz</td>\n",
       "      <td>Pretty Girls Like Trap Music</td>\n",
       "      <td>Big Amount</td>\n",
       "      <td>2019-10-10 13:41:00</td>\n",
       "      <td>[Intro: 2 Chainz]\\nI'ma tell you, I'ma tell yo...</td>\n",
       "    </tr>\n",
       "    <tr>\n",
       "      <th>54424</th>\n",
       "      <td>Meek Mill</td>\n",
       "      <td>Wins &amp; Losses</td>\n",
       "      <td>Fuck That Check Up (feat. Lil Uzi Vert)</td>\n",
       "      <td>2017-07-25 05:29:00</td>\n",
       "      <td>[Intro: Meek Mill]\\nLil' fish, yeah\\nIf you ca...</td>\n",
       "    </tr>\n",
       "    <tr>\n",
       "      <th>7591</th>\n",
       "      <td>Porter Robinson</td>\n",
       "      <td>Shelter</td>\n",
       "      <td>Shelter</td>\n",
       "      <td>2020-01-13 06:15:00</td>\n",
       "      <td>[Intro: Amy Millan]\\nAyy, I will, ayy\\nAyy, I ...</td>\n",
       "    </tr>\n",
       "    <tr>\n",
       "      <th>53000</th>\n",
       "      <td>aftertheparty</td>\n",
       "      <td>?!</td>\n",
       "      <td>Rebound</td>\n",
       "      <td>2017-08-14 07:50:00</td>\n",
       "      <td>[Pre-Chorus]\\nBaby I know you want someone\\nTo...</td>\n",
       "    </tr>\n",
       "    <tr>\n",
       "      <th>16181</th>\n",
       "      <td>A Tribe Called Quest</td>\n",
       "      <td>The Low End Theory</td>\n",
       "      <td>Check the Rhime</td>\n",
       "      <td>2019-09-21 13:16:00</td>\n",
       "      <td>[Intro]\\nUh, uh, uh, uh\\nUh, uh, uh, check the...</td>\n",
       "    </tr>\n",
       "    <tr>\n",
       "      <th>26555</th>\n",
       "      <td>Playboi Carti</td>\n",
       "      <td>Die Lit</td>\n",
       "      <td>No Time (feat. Gunna)</td>\n",
       "      <td>2019-03-29 13:57:00</td>\n",
       "      <td>[Intro: Playboi Carti]\\nCheck it out\\nWake up ...</td>\n",
       "    </tr>\n",
       "    <tr>\n",
       "      <th>551</th>\n",
       "      <td>DaBaby</td>\n",
       "      <td>Find My Way</td>\n",
       "      <td>Find My Way</td>\n",
       "      <td>2020-04-24 04:53:00</td>\n",
       "      <td>[Intro]\\nWait a minute, who are you? (Ayy, yo,...</td>\n",
       "    </tr>\n",
       "    <tr>\n",
       "      <th>36624</th>\n",
       "      <td>SOB x RBE</td>\n",
       "      <td>Black Panther the Album Music From and Inspire...</td>\n",
       "      <td>Paramedic!</td>\n",
       "      <td>2018-10-04 08:30:00</td>\n",
       "      <td>[Intro: Zacari &amp; Kendrick Lamar]\\nI am Killmon...</td>\n",
       "    </tr>\n",
       "    <tr>\n",
       "      <th>14215</th>\n",
       "      <td>Kid Cudi</td>\n",
       "      <td>Man on the Moon: The End of Day</td>\n",
       "      <td>Pursuit of Happiness (Nightmare)</td>\n",
       "      <td>2019-10-15 14:32:00</td>\n",
       "      <td>[Intro: Kid Cudi]\\nMmmm, ay-oh\\nHey...\\nRatata...</td>\n",
       "    </tr>\n",
       "    <tr>\n",
       "      <th>6283</th>\n",
       "      <td>Future</td>\n",
       "      <td>SUPER SLIMEY</td>\n",
       "      <td>200</td>\n",
       "      <td>2020-01-31 17:37:00</td>\n",
       "      <td>[Intro: Young Thug]\\nEverything right\\nEveryth...</td>\n",
       "    </tr>\n",
       "    <tr>\n",
       "      <th>21353</th>\n",
       "      <td>Juice WRLD</td>\n",
       "      <td>Goodbye &amp; Good Riddance</td>\n",
       "      <td>Armed and Dangerous</td>\n",
       "      <td>2019-07-03 09:03:00</td>\n",
       "      <td>\\n            Lyrics for this song h...</td>\n",
       "    </tr>\n",
       "    <tr>\n",
       "      <th>41499</th>\n",
       "      <td>Galimatias</td>\n",
       "      <td>South</td>\n",
       "      <td>South</td>\n",
       "      <td>2018-06-17 23:46:00</td>\n",
       "      <td>[Verse 1]\\nLook me in the eye I'ma take it slo...</td>\n",
       "    </tr>\n",
       "    <tr>\n",
       "      <th>48604</th>\n",
       "      <td>J. Cole</td>\n",
       "      <td>2014 Forest Hills Drive</td>\n",
       "      <td>No Role Modelz</td>\n",
       "      <td>2017-11-10 21:11:00</td>\n",
       "      <td>[Produced by Phonix Beats and J. Cole]\\n\\n[Ver...</td>\n",
       "    </tr>\n",
       "    <tr>\n",
       "      <th>44165</th>\n",
       "      <td>Logic</td>\n",
       "      <td>Bobby Tarantino II</td>\n",
       "      <td>BoomTrap Protocol</td>\n",
       "      <td>2018-03-09 05:18:00</td>\n",
       "      <td>[Verse 1]\\nLet me get up in this bitch, like, ...</td>\n",
       "    </tr>\n",
       "    <tr>\n",
       "      <th>45620</th>\n",
       "      <td>21 Savage</td>\n",
       "      <td>Savage Mode</td>\n",
       "      <td>No Heart</td>\n",
       "      <td>2018-01-31 16:54:00</td>\n",
       "      <td>[Intro]\\nSouthside, Southside on the, Southsid...</td>\n",
       "    </tr>\n",
       "    <tr>\n",
       "      <th>2700</th>\n",
       "      <td>Future</td>\n",
       "      <td>SUPER SLIMEY</td>\n",
       "      <td>Feed Me Dope</td>\n",
       "      <td>2020-03-19 13:03:00</td>\n",
       "      <td>[Intro]\\nReady for whatever\\nClever as it get\\...</td>\n",
       "    </tr>\n",
       "    <tr>\n",
       "      <th>38946</th>\n",
       "      <td>IDK</td>\n",
       "      <td>Lil Arrogant (feat. Joey Bada$$ &amp; Russ)</td>\n",
       "      <td>Lil Arrogant (feat. Joey Bada$$ &amp; Russ)</td>\n",
       "      <td>2018-08-16 08:24:00</td>\n",
       "      <td>[Verse 1: IDK]\\nThis is what you all been wait...</td>\n",
       "    </tr>\n",
       "    <tr>\n",
       "      <th>8968</th>\n",
       "      <td>David Bowie</td>\n",
       "      <td>The Rise And Fall Of Ziggy Stardust And The Sp...</td>\n",
       "      <td>Starman - 2012 Remaster</td>\n",
       "      <td>2019-12-20 13:49:00</td>\n",
       "      <td>NOT FOUND</td>\n",
       "    </tr>\n",
       "  </tbody>\n",
       "</table>\n",
       "</div>"
      ],
      "text/plain": [
       "                     artist  \\\n",
       "30513                 Drake   \n",
       "7776                 Future   \n",
       "14649              2 Chainz   \n",
       "54424             Meek Mill   \n",
       "7591        Porter Robinson   \n",
       "53000         aftertheparty   \n",
       "16181  A Tribe Called Quest   \n",
       "26555         Playboi Carti   \n",
       "551                  DaBaby   \n",
       "36624             SOB x RBE   \n",
       "14215              Kid Cudi   \n",
       "6283                 Future   \n",
       "21353            Juice WRLD   \n",
       "41499            Galimatias   \n",
       "48604               J. Cole   \n",
       "44165                 Logic   \n",
       "45620             21 Savage   \n",
       "2700                 Future   \n",
       "38946                   IDK   \n",
       "8968            David Bowie   \n",
       "\n",
       "                                                   album  \\\n",
       "30513                                              Views   \n",
       "7776                          Life Is Good (feat. Drake)   \n",
       "14649                       Pretty Girls Like Trap Music   \n",
       "54424                                      Wins & Losses   \n",
       "7591                                             Shelter   \n",
       "53000                                                 ?!   \n",
       "16181                                 The Low End Theory   \n",
       "26555                                            Die Lit   \n",
       "551                                          Find My Way   \n",
       "36624  Black Panther the Album Music From and Inspire...   \n",
       "14215                    Man on the Moon: The End of Day   \n",
       "6283                                        SUPER SLIMEY   \n",
       "21353                            Goodbye & Good Riddance   \n",
       "41499                                              South   \n",
       "48604                            2014 Forest Hills Drive   \n",
       "44165                                 Bobby Tarantino II   \n",
       "45620                                        Savage Mode   \n",
       "2700                                        SUPER SLIMEY   \n",
       "38946            Lil Arrogant (feat. Joey Bada$$ & Russ)   \n",
       "8968   The Rise And Fall Of Ziggy Stardust And The Sp...   \n",
       "\n",
       "                                          song            datetime  \\\n",
       "30513                               Still Here 2019-01-29 00:58:00   \n",
       "7776                Life is Good (feat. Drake) 2020-01-10 04:00:00   \n",
       "14649                               Big Amount 2019-10-10 13:41:00   \n",
       "54424  Fuck That Check Up (feat. Lil Uzi Vert) 2017-07-25 05:29:00   \n",
       "7591                                   Shelter 2020-01-13 06:15:00   \n",
       "53000                                  Rebound 2017-08-14 07:50:00   \n",
       "16181                          Check the Rhime 2019-09-21 13:16:00   \n",
       "26555                    No Time (feat. Gunna) 2019-03-29 13:57:00   \n",
       "551                                Find My Way 2020-04-24 04:53:00   \n",
       "36624                               Paramedic! 2018-10-04 08:30:00   \n",
       "14215         Pursuit of Happiness (Nightmare) 2019-10-15 14:32:00   \n",
       "6283                                       200 2020-01-31 17:37:00   \n",
       "21353                      Armed and Dangerous 2019-07-03 09:03:00   \n",
       "41499                                    South 2018-06-17 23:46:00   \n",
       "48604                           No Role Modelz 2017-11-10 21:11:00   \n",
       "44165                        BoomTrap Protocol 2018-03-09 05:18:00   \n",
       "45620                                 No Heart 2018-01-31 16:54:00   \n",
       "2700                              Feed Me Dope 2020-03-19 13:03:00   \n",
       "38946  Lil Arrogant (feat. Joey Bada$$ & Russ) 2018-08-16 08:24:00   \n",
       "8968                   Starman - 2012 Remaster 2019-12-20 13:49:00   \n",
       "\n",
       "                                                  lyrics  \n",
       "30513  [Intro]\\nDoin' well dog\\nYeah, me and all my\\n...  \n",
       "7776   [Перевод песни \"Future - Life Is Good (feat. D...  \n",
       "14649  [Intro: 2 Chainz]\\nI'ma tell you, I'ma tell yo...  \n",
       "54424  [Intro: Meek Mill]\\nLil' fish, yeah\\nIf you ca...  \n",
       "7591   [Intro: Amy Millan]\\nAyy, I will, ayy\\nAyy, I ...  \n",
       "53000  [Pre-Chorus]\\nBaby I know you want someone\\nTo...  \n",
       "16181  [Intro]\\nUh, uh, uh, uh\\nUh, uh, uh, check the...  \n",
       "26555  [Intro: Playboi Carti]\\nCheck it out\\nWake up ...  \n",
       "551    [Intro]\\nWait a minute, who are you? (Ayy, yo,...  \n",
       "36624  [Intro: Zacari & Kendrick Lamar]\\nI am Killmon...  \n",
       "14215  [Intro: Kid Cudi]\\nMmmm, ay-oh\\nHey...\\nRatata...  \n",
       "6283   [Intro: Young Thug]\\nEverything right\\nEveryth...  \n",
       "21353            \\n            Lyrics for this song h...  \n",
       "41499  [Verse 1]\\nLook me in the eye I'ma take it slo...  \n",
       "48604  [Produced by Phonix Beats and J. Cole]\\n\\n[Ver...  \n",
       "44165  [Verse 1]\\nLet me get up in this bitch, like, ...  \n",
       "45620  [Intro]\\nSouthside, Southside on the, Southsid...  \n",
       "2700   [Intro]\\nReady for whatever\\nClever as it get\\...  \n",
       "38946  [Verse 1: IDK]\\nThis is what you all been wait...  \n",
       "8968                                           NOT FOUND  "
      ]
     },
     "execution_count": 122,
     "metadata": {},
     "output_type": "execute_result"
    }
   ],
   "source": [
    "test"
   ]
  },
  {
   "cell_type": "code",
   "execution_count": 157,
   "metadata": {},
   "outputs": [
    {
     "name": "stdout",
     "output_type": "stream",
     "text": [
      "Searching for \"Drake Still Here\"...\n",
      "Done.\n",
      "Searching for \"Drake Still Here\"...\n",
      "Done.\n",
      "2.1 s ± 0 ns per loop (mean ± std. dev. of 1 run, 1 loop each)\n"
     ]
    }
   ],
   "source": [
    "%%timeit -r1\n",
    "get_lyrics(test.iloc[0])"
   ]
  },
  {
   "cell_type": "code",
   "execution_count": null,
   "metadata": {},
   "outputs": [],
   "source": []
  },
  {
   "cell_type": "code",
   "execution_count": 34,
   "metadata": {},
   "outputs": [],
   "source": [
    "test_lyrics = get_lyrics(test.iloc[0])"
   ]
  },
  {
   "cell_type": "code",
   "execution_count": 35,
   "metadata": {},
   "outputs": [
    {
     "data": {
      "text/plain": [
       "3966"
      ]
     },
     "execution_count": 35,
     "metadata": {},
     "output_type": "execute_result"
    }
   ],
   "source": [
    "len(test_lyrics)"
   ]
  },
  {
   "cell_type": "code",
   "execution_count": null,
   "metadata": {},
   "outputs": [],
   "source": []
  },
  {
   "cell_type": "code",
   "execution_count": 167,
   "metadata": {},
   "outputs": [
    {
     "data": {
      "text/plain": [
       "4180"
      ]
     },
     "execution_count": 167,
     "metadata": {},
     "output_type": "execute_result"
    }
   ],
   "source": [
    "sys.getsizeof(test_lyrics)"
   ]
  },
  {
   "cell_type": "code",
   "execution_count": 169,
   "metadata": {},
   "outputs": [],
   "source": [
    "test['bytes'] = test.lyrics.apply(sys.getsizeof)"
   ]
  },
  {
   "cell_type": "code",
   "execution_count": 174,
   "metadata": {},
   "outputs": [
    {
     "name": "stdout",
     "output_type": "stream",
     "text": [
      "28.959085599999998 MB total\n"
     ]
    }
   ],
   "source": [
    "print(test.bytes.mean()*len(dupes)/1000000, 'MB total')"
   ]
  },
  {
   "cell_type": "code",
   "execution_count": 178,
   "metadata": {},
   "outputs": [
    {
     "name": "stdout",
     "output_type": "stream",
     "text": [
      "4.6096111111111115 hrs to scrape\n"
     ]
    }
   ],
   "source": [
    "print(2.2 * len(dupes)/60/60, 'hrs to scrape')"
   ]
  },
  {
   "cell_type": "code",
   "execution_count": 1,
   "metadata": {},
   "outputs": [],
   "source": [
    "import util"
   ]
  },
  {
   "cell_type": "code",
   "execution_count": 2,
   "metadata": {},
   "outputs": [
    {
     "name": "stdout",
     "output_type": "stream",
     "text": [
      "Help on module util:\n",
      "\n",
      "NAME\n",
      "    util - util module\n",
      "\n",
      "FUNCTIONS\n",
      "    suppress_stdout(func)\n",
      "        decorator to redirect print output to null\n",
      "\n",
      "FILE\n",
      "    /Users/georgeschnaars/Desktop/Python/spotify_hist/util.py\n",
      "\n",
      "\n"
     ]
    }
   ],
   "source": [
    "help(util)"
   ]
  },
  {
   "cell_type": "code",
   "execution_count": 3,
   "metadata": {},
   "outputs": [
    {
     "name": "stdout",
     "output_type": "stream",
     "text": [
      "Help on function suppress_stdout in module util:\n",
      "\n",
      "suppress_stdout(func)\n",
      "    decorator to redirect print output to null\n",
      "\n"
     ]
    }
   ],
   "source": [
    "help(util.suppress_stdout)"
   ]
  },
  {
   "cell_type": "code",
   "execution_count": 189,
   "metadata": {},
   "outputs": [],
   "source": []
  },
  {
   "cell_type": "code",
   "execution_count": 44,
   "metadata": {},
   "outputs": [],
   "source": [
    "uniques = df.drop_duplicates(['artist', 'song'])[['artist', 'song']]"
   ]
  },
  {
   "cell_type": "code",
   "execution_count": null,
   "metadata": {},
   "outputs": [
    {
     "name": "stdout",
     "output_type": "stream",
     "text": [
      "starting: Mon May  4 21:21:33 2020\n"
     ]
    }
   ],
   "source": [
    "print('starting:', time.ctime())\n",
    "uniques['lyrics'] = uniques.apply(get_lyrics, axis = 1)\n",
    "print('ending:', time.ctime())"
   ]
  },
  {
   "cell_type": "code",
   "execution_count": null,
   "metadata": {},
   "outputs": [],
   "source": []
  },
  {
   "cell_type": "code",
   "execution_count": null,
   "metadata": {},
   "outputs": [],
   "source": []
  },
  {
   "cell_type": "code",
   "execution_count": null,
   "metadata": {},
   "outputs": [],
   "source": []
  }
 ],
 "metadata": {
  "kernelspec": {
   "display_name": "Python 3",
   "language": "python",
   "name": "python3"
  },
  "language_info": {
   "codemirror_mode": {
    "name": "ipython",
    "version": 3
   },
   "file_extension": ".py",
   "mimetype": "text/x-python",
   "name": "python",
   "nbconvert_exporter": "python",
   "pygments_lexer": "ipython3",
   "version": "3.7.4"
  }
 },
 "nbformat": 4,
 "nbformat_minor": 4
}
