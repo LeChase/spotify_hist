{
 "cells": [
  {
   "cell_type": "code",
   "execution_count": 247,
   "metadata": {},
   "outputs": [],
   "source": [
    "import time\n",
    "\n",
    "import os, sys\n",
    "import pandas as pd, numpy as np\n",
    "\n",
    "import datetime"
   ]
  },
  {
   "cell_type": "code",
   "execution_count": 2,
   "metadata": {},
   "outputs": [],
   "source": [
    "__scrobbles__ = 'downloads/gps56-2.csv'"
   ]
  },
  {
   "cell_type": "code",
   "execution_count": 3,
   "metadata": {},
   "outputs": [],
   "source": [
    "pd.options.mode.chained_assignment = None"
   ]
  },
  {
   "cell_type": "code",
   "execution_count": 4,
   "metadata": {},
   "outputs": [],
   "source": [
    "weekday_map = {0: 'monday',\n",
    "              1: 'tuesday', \n",
    "              2: 'wednesday',\n",
    "              3: 'thursday', \n",
    "              4: 'friday', \n",
    "              5: 'saturday', \n",
    "              6: 'sunday'}"
   ]
  },
  {
   "cell_type": "code",
   "execution_count": null,
   "metadata": {},
   "outputs": [],
   "source": []
  },
  {
   "cell_type": "code",
   "execution_count": 5,
   "metadata": {},
   "outputs": [],
   "source": [
    "df = pd.read_csv(__scrobbles__, header = None, names = ['artist', 'album', 'song', 'datetime'])"
   ]
  },
  {
   "cell_type": "code",
   "execution_count": 6,
   "metadata": {},
   "outputs": [],
   "source": [
    "# remove where datetime is NaN (negligible)\n",
    "df = df[~df.datetime.isna()]"
   ]
  },
  {
   "cell_type": "code",
   "execution_count": 7,
   "metadata": {},
   "outputs": [],
   "source": [
    "# convert datetime column to acutal datetime objects\n",
    "# subtract 7 hours since original times are UTC\n",
    "df.datetime = pd.to_datetime(df.datetime) - pd.Timedelta(hours = 7)"
   ]
  },
  {
   "cell_type": "code",
   "execution_count": 8,
   "metadata": {},
   "outputs": [
    {
     "output_type": "execute_result",
     "data": {
      "text/plain": "        artist                 album                                   song  \\\n1        Drake  Dark Lane Demo Tapes         Pain 1993 (with Playboi Carti)   \n2   Juice WRLD   Death Race For Love                                  Empty   \n3   Juice WRLD   Death Race For Love                                  Rider   \n4   Juice WRLD   Death Race For Love                           Make Believe   \n5   Juice WRLD   Death Race For Love                          She’s The One   \n6   Juice WRLD   Death Race For Love                                10 Feet   \n7   Juice WRLD   Death Race For Love  Ring Ring (with Rvssian feat. Clever)   \n8   Juice WRLD   Death Race For Love                                   Maze   \n9   Juice WRLD   Death Race For Love                                  Empty   \n10  Juice WRLD   Death Race For Love                           Make Believe   \n\n              datetime  \n1  2020-05-04 17:34:00  \n2  2020-05-04 15:07:00  \n3  2020-05-04 15:05:00  \n4  2020-05-04 15:05:00  \n5  2020-05-04 14:58:00  \n6  2020-05-04 14:56:00  \n7  2020-05-04 14:53:00  \n8  2020-05-04 14:50:00  \n9  2020-05-04 14:46:00  \n10 2020-05-04 14:44:00  ",
      "text/html": "<div>\n<style scoped>\n    .dataframe tbody tr th:only-of-type {\n        vertical-align: middle;\n    }\n\n    .dataframe tbody tr th {\n        vertical-align: top;\n    }\n\n    .dataframe thead th {\n        text-align: right;\n    }\n</style>\n<table border=\"1\" class=\"dataframe\">\n  <thead>\n    <tr style=\"text-align: right;\">\n      <th></th>\n      <th>artist</th>\n      <th>album</th>\n      <th>song</th>\n      <th>datetime</th>\n    </tr>\n  </thead>\n  <tbody>\n    <tr>\n      <th>1</th>\n      <td>Drake</td>\n      <td>Dark Lane Demo Tapes</td>\n      <td>Pain 1993 (with Playboi Carti)</td>\n      <td>2020-05-04 17:34:00</td>\n    </tr>\n    <tr>\n      <th>2</th>\n      <td>Juice WRLD</td>\n      <td>Death Race For Love</td>\n      <td>Empty</td>\n      <td>2020-05-04 15:07:00</td>\n    </tr>\n    <tr>\n      <th>3</th>\n      <td>Juice WRLD</td>\n      <td>Death Race For Love</td>\n      <td>Rider</td>\n      <td>2020-05-04 15:05:00</td>\n    </tr>\n    <tr>\n      <th>4</th>\n      <td>Juice WRLD</td>\n      <td>Death Race For Love</td>\n      <td>Make Believe</td>\n      <td>2020-05-04 15:05:00</td>\n    </tr>\n    <tr>\n      <th>5</th>\n      <td>Juice WRLD</td>\n      <td>Death Race For Love</td>\n      <td>She’s The One</td>\n      <td>2020-05-04 14:58:00</td>\n    </tr>\n    <tr>\n      <th>6</th>\n      <td>Juice WRLD</td>\n      <td>Death Race For Love</td>\n      <td>10 Feet</td>\n      <td>2020-05-04 14:56:00</td>\n    </tr>\n    <tr>\n      <th>7</th>\n      <td>Juice WRLD</td>\n      <td>Death Race For Love</td>\n      <td>Ring Ring (with Rvssian feat. Clever)</td>\n      <td>2020-05-04 14:53:00</td>\n    </tr>\n    <tr>\n      <th>8</th>\n      <td>Juice WRLD</td>\n      <td>Death Race For Love</td>\n      <td>Maze</td>\n      <td>2020-05-04 14:50:00</td>\n    </tr>\n    <tr>\n      <th>9</th>\n      <td>Juice WRLD</td>\n      <td>Death Race For Love</td>\n      <td>Empty</td>\n      <td>2020-05-04 14:46:00</td>\n    </tr>\n    <tr>\n      <th>10</th>\n      <td>Juice WRLD</td>\n      <td>Death Race For Love</td>\n      <td>Make Believe</td>\n      <td>2020-05-04 14:44:00</td>\n    </tr>\n  </tbody>\n</table>\n</div>"
     },
     "metadata": {},
     "execution_count": 8
    }
   ],
   "source": [
    "df.head(10)"
   ]
  },
  {
   "cell_type": "markdown",
   "metadata": {},
   "source": [
    "# Lyric Sentiment Analysis"
   ]
  },
  {
   "cell_type": "code",
   "execution_count": 65,
   "metadata": {},
   "outputs": [],
   "source": [
    "import nltk\n",
    "from nltk.corpus import stopwords\n",
    "# nltk.download()\n",
    "import re"
   ]
  },
  {
   "cell_type": "code",
   "execution_count": 292,
   "metadata": {},
   "outputs": [],
   "source": [
    "df_lyrics = pd.read_json(r\"scraping/output/lyrics/completed.json\", orient = 'table')"
   ]
  },
  {
   "cell_type": "code",
   "execution_count": 13,
   "metadata": {},
   "outputs": [],
   "source": [
    "test_lyrics = df_lyrics.loc[('Drake', '10 Bands')].lyrics"
   ]
  },
  {
   "cell_type": "code",
   "execution_count": 339,
   "metadata": {},
   "outputs": [],
   "source": [
    "stop_words = [item.replace(\"\"\"'\"\"\", '') for item in stopwords.words('english')]\n",
    "stop_words.extend(['im', 'like', 'yeah', 'get', 'oh', 'aint', 'got', 'wanna', 'want', 'ooh', 'ay', 'ayy', 'uh', 'cant', 'mhm', 'hm'])\n",
    "stop_words.extend(['intro', 'verse', 'outro', 'verse', 'chorus'])\n",
    "re_compiled = re.compile(r'[^a-zA-Z0-9- ]')\n",
    ""
   ]
  },
  {
   "cell_type": "code",
   "execution_count": 325,
   "metadata": {},
   "outputs": [],
   "source": [
    "def clean_lyrics(lyrics):\n",
    "    # make all lower \n",
    "    lyrics = lyrics.lower()\n",
    "    # remove newline characters with a space\n",
    "    lyrics = lyrics.replace('\\n', ' ')\n",
    "    # replace $ with s\n",
    "    lyrics = lyrics.replace('$', 's')\n",
    "    # remove chorus designations\n",
    "    lyrics = lyrics.replace('chorus', '')\n",
    "    # remove verse designations\n",
    "    lyrics = lyrics.replace('verse', '')\n",
    "    lyrics = re.sub(re_compiled, '', lyrics)\n",
    "    lyrics = ' '.join(item for item in lyrics.split() if item not in stop_words)\n",
    "    # return [item for item in lyrics.split() if item not in stop_words]\n",
    "    return lyrics"
   ]
  },
  {
   "cell_type": "code",
   "execution_count": 287,
   "metadata": {},
   "outputs": [],
   "source": [
    "def get_most_common(lyrics, n):\n",
    "    try:\n",
    "        tokens = lyrics.split()\n",
    "        freq = nltk.FreqDist(tokens)\n",
    "        n_most_common = [item[0] for item in freq.most_common(n)]\n",
    "        return n_most_common\n",
    "    except IndexError:\n",
    "        return []"
   ]
  },
  {
   "cell_type": "code",
   "execution_count": 326,
   "metadata": {},
   "outputs": [],
   "source": [
    "df_lyrics['clean_lyrics'] = df_lyrics.lyrics.apply(clean_lyrics)"
   ]
  },
  {
   "cell_type": "code",
   "execution_count": 177,
   "metadata": {},
   "outputs": [],
   "source": [
    "df_lyrics['n_most_common'] = df_lyrics.lyrics.apply(lambda x: get_most_common(x, 5))"
   ]
  },
  {
   "cell_type": "code",
   "execution_count": 327,
   "metadata": {},
   "outputs": [
    {
     "output_type": "execute_result",
     "data": {
      "text/plain": "artist       song                      \n!!!          Even When the Water's Cold    friends told better bottom river bed said try ...\n$uicideboy$  #1 STUNNA                     yung mutt suicide 1 yung mutt marble martyr fu...\n             2ND HAND                      soulja rag murder grey59 see scrubs face mean ...\n             AM / PM                       1 lil half cut windows frown ash jeans eatin b...\n             Champion Of Death             yung plague chump change boy gotta hate boy pu...\n                                                                 ...                        \nwalk.        seagull.                      yeahhh ends large big big man ting rag lets 1 ...\nwasiu        Cigarettes & Poutine          - wasiu still ridin metro listenin kenlo funki...\nyugi boi     No Problem                    21 felix sandman - boys emotions garzi - calif...\n             The End                       reedukay reedukay reedukay beatz boi reedukay ...\nÊMIA         Psychic                       1 right beginning give impression see coming d...\nName: clean_lyrics, Length: 6437, dtype: object"
     },
     "metadata": {},
     "execution_count": 327
    }
   ],
   "source": [
    "df_lyrics.clean_lyrics"
   ]
  },
  {
   "cell_type": "code",
   "execution_count": 192,
   "metadata": {},
   "outputs": [],
   "source": [
    "top_lyrics = df_lyrics.n_most_common.apply(pd.Series)"
   ]
  },
  {
   "cell_type": "code",
   "execution_count": 197,
   "metadata": {},
   "outputs": [],
   "source": [
    "top_lyrics.columns = ['lyric_{}'.format(i+1) for i in top_lyrics.columns]"
   ]
  },
  {
   "cell_type": "code",
   "execution_count": 198,
   "metadata": {},
   "outputs": [
    {
     "output_type": "execute_result",
     "data": {
      "text/plain": "                                        lyric_1 lyric_2        lyric_3  \\\nartist      song                                                         \n!!!         Even When the Water's Cold  friends    know           even   \n$uicideboy$ #1 STUNNA                       one     let           keys   \n            2ND HAND                       fuck  rollin            ima   \n            AM / PM                       outta  people           dead   \n            Champion Of Death               boy    pull  motherfucking   \n...                                         ...     ...            ...   \nwalk.       seagull.                       move     man           fuck   \nwasiu       Cigarettes & Poutine          ridin   still        poutine   \nyugi boi    No Problem                        -      ft            lil   \n            The End                        beat     pig         wilbur   \nÊMIA        Psychic                        know   could         better   \n\n                                          lyric_4 lyric_5  \nartist      song                                           \n!!!         Even When the Water's Cold     waters    cold  \n$uicideboy$ #1 STUNNA                       rover   truck  \n            2ND HAND                      fucking  shawty  \n            AM / PM                           put  drivin  \n            Champion Of Death               shoot      em  \n...                                           ...     ...  \nwalk.       seagull.                          one     big  \nwasiu       Cigarettes & Poutine        funkiness   bring  \nyugi boi    No Problem                       love   remix  \n            The End                      reedukay    real  \nÊMIA        Psychic                           let   night  \n\n[6437 rows x 5 columns]",
      "text/html": "<div>\n<style scoped>\n    .dataframe tbody tr th:only-of-type {\n        vertical-align: middle;\n    }\n\n    .dataframe tbody tr th {\n        vertical-align: top;\n    }\n\n    .dataframe thead th {\n        text-align: right;\n    }\n</style>\n<table border=\"1\" class=\"dataframe\">\n  <thead>\n    <tr style=\"text-align: right;\">\n      <th></th>\n      <th></th>\n      <th>lyric_1</th>\n      <th>lyric_2</th>\n      <th>lyric_3</th>\n      <th>lyric_4</th>\n      <th>lyric_5</th>\n    </tr>\n    <tr>\n      <th>artist</th>\n      <th>song</th>\n      <th></th>\n      <th></th>\n      <th></th>\n      <th></th>\n      <th></th>\n    </tr>\n  </thead>\n  <tbody>\n    <tr>\n      <th>!!!</th>\n      <th>Even When the Water's Cold</th>\n      <td>friends</td>\n      <td>know</td>\n      <td>even</td>\n      <td>waters</td>\n      <td>cold</td>\n    </tr>\n    <tr>\n      <th rowspan=\"4\" valign=\"top\">$uicideboy$</th>\n      <th>#1 STUNNA</th>\n      <td>one</td>\n      <td>let</td>\n      <td>keys</td>\n      <td>rover</td>\n      <td>truck</td>\n    </tr>\n    <tr>\n      <th>2ND HAND</th>\n      <td>fuck</td>\n      <td>rollin</td>\n      <td>ima</td>\n      <td>fucking</td>\n      <td>shawty</td>\n    </tr>\n    <tr>\n      <th>AM / PM</th>\n      <td>outta</td>\n      <td>people</td>\n      <td>dead</td>\n      <td>put</td>\n      <td>drivin</td>\n    </tr>\n    <tr>\n      <th>Champion Of Death</th>\n      <td>boy</td>\n      <td>pull</td>\n      <td>motherfucking</td>\n      <td>shoot</td>\n      <td>em</td>\n    </tr>\n    <tr>\n      <th>...</th>\n      <th>...</th>\n      <td>...</td>\n      <td>...</td>\n      <td>...</td>\n      <td>...</td>\n      <td>...</td>\n    </tr>\n    <tr>\n      <th>walk.</th>\n      <th>seagull.</th>\n      <td>move</td>\n      <td>man</td>\n      <td>fuck</td>\n      <td>one</td>\n      <td>big</td>\n    </tr>\n    <tr>\n      <th>wasiu</th>\n      <th>Cigarettes &amp; Poutine</th>\n      <td>ridin</td>\n      <td>still</td>\n      <td>poutine</td>\n      <td>funkiness</td>\n      <td>bring</td>\n    </tr>\n    <tr>\n      <th rowspan=\"2\" valign=\"top\">yugi boi</th>\n      <th>No Problem</th>\n      <td>-</td>\n      <td>ft</td>\n      <td>lil</td>\n      <td>love</td>\n      <td>remix</td>\n    </tr>\n    <tr>\n      <th>The End</th>\n      <td>beat</td>\n      <td>pig</td>\n      <td>wilbur</td>\n      <td>reedukay</td>\n      <td>real</td>\n    </tr>\n    <tr>\n      <th>ÊMIA</th>\n      <th>Psychic</th>\n      <td>know</td>\n      <td>could</td>\n      <td>better</td>\n      <td>let</td>\n      <td>night</td>\n    </tr>\n  </tbody>\n</table>\n<p>6437 rows × 5 columns</p>\n</div>"
     },
     "metadata": {},
     "execution_count": 198
    }
   ],
   "source": [
    "top_lyrics"
   ]
  },
  {
   "cell_type": "code",
   "execution_count": 328,
   "metadata": {},
   "outputs": [],
   "source": [
    "df_merged = df.merge(df_lyrics.clean_lyrics, how = 'left', left_on = ['artist', 'song'], right_index = True)"
   ]
  },
  {
   "cell_type": "code",
   "execution_count": 329,
   "metadata": {},
   "outputs": [
    {
     "output_type": "execute_result",
     "data": {
      "text/plain": "           artist                         album  \\\n1           Drake          Dark Lane Demo Tapes   \n2      Juice WRLD           Death Race For Love   \n3      Juice WRLD           Death Race For Love   \n4      Juice WRLD           Death Race For Love   \n5      Juice WRLD           Death Race For Love   \n...           ...                           ...   \n55553   Madeintyo           Thank You Mr. Tokyo   \n55554   DJ Khaled                      Grateful   \n55555  Young Thug       Beautiful Thugger Girls   \n55556   Lil Wayne        Tha Carter IV (Deluxe)   \n55557    2 Chainz  Pretty Girls Like Trap Music   \n\n                                 song            datetime  \\\n1      Pain 1993 (with Playboi Carti) 2020-05-04 17:34:00   \n2                               Empty 2020-05-04 15:07:00   \n3                               Rider 2020-05-04 15:05:00   \n4                        Make Believe 2020-05-04 15:05:00   \n5                       She’s The One 2020-05-04 14:58:00   \n...                               ...                 ...   \n55553                Time Of Her Life 2017-07-04 12:26:00   \n55554                Iced Out My Arms 2017-07-04 12:23:00   \n55555                Daddy's Birthday 2017-07-01 14:33:00   \n55556                     How to Love 2017-06-29 20:39:00   \n55557                     It's A Vibe 2017-06-29 20:34:00   \n\n                                            clean_lyrics  \n1      drake - pain 1993 playboi carti marshmello - k...  \n2      unknown ran away think coming back home whoa-w...  \n3      wha- lets see rider lets see rider sounds clea...  \n4      figured gonna break heart regardless regardles...  \n5      da-la la-la-la-la la-la ooh-ooh wake dream eve...  \n...                                                  ...  \n55553  hey hook time life dick one night grab dick mi...  \n55554  future dj khaled diamonds fingers southside yo...  \n55555  typical day new york know sayin high fuck diam...  \n55556  lil wayne cut music little louder lil wayne lo...  \n55557  2 chainz hahaha m-m-m-murda yah 2 chainz trey ...  \n\n[55281 rows x 5 columns]",
      "text/html": "<div>\n<style scoped>\n    .dataframe tbody tr th:only-of-type {\n        vertical-align: middle;\n    }\n\n    .dataframe tbody tr th {\n        vertical-align: top;\n    }\n\n    .dataframe thead th {\n        text-align: right;\n    }\n</style>\n<table border=\"1\" class=\"dataframe\">\n  <thead>\n    <tr style=\"text-align: right;\">\n      <th></th>\n      <th>artist</th>\n      <th>album</th>\n      <th>song</th>\n      <th>datetime</th>\n      <th>clean_lyrics</th>\n    </tr>\n  </thead>\n  <tbody>\n    <tr>\n      <th>1</th>\n      <td>Drake</td>\n      <td>Dark Lane Demo Tapes</td>\n      <td>Pain 1993 (with Playboi Carti)</td>\n      <td>2020-05-04 17:34:00</td>\n      <td>drake - pain 1993 playboi carti marshmello - k...</td>\n    </tr>\n    <tr>\n      <th>2</th>\n      <td>Juice WRLD</td>\n      <td>Death Race For Love</td>\n      <td>Empty</td>\n      <td>2020-05-04 15:07:00</td>\n      <td>unknown ran away think coming back home whoa-w...</td>\n    </tr>\n    <tr>\n      <th>3</th>\n      <td>Juice WRLD</td>\n      <td>Death Race For Love</td>\n      <td>Rider</td>\n      <td>2020-05-04 15:05:00</td>\n      <td>wha- lets see rider lets see rider sounds clea...</td>\n    </tr>\n    <tr>\n      <th>4</th>\n      <td>Juice WRLD</td>\n      <td>Death Race For Love</td>\n      <td>Make Believe</td>\n      <td>2020-05-04 15:05:00</td>\n      <td>figured gonna break heart regardless regardles...</td>\n    </tr>\n    <tr>\n      <th>5</th>\n      <td>Juice WRLD</td>\n      <td>Death Race For Love</td>\n      <td>She’s The One</td>\n      <td>2020-05-04 14:58:00</td>\n      <td>da-la la-la-la-la la-la ooh-ooh wake dream eve...</td>\n    </tr>\n    <tr>\n      <th>...</th>\n      <td>...</td>\n      <td>...</td>\n      <td>...</td>\n      <td>...</td>\n      <td>...</td>\n    </tr>\n    <tr>\n      <th>55553</th>\n      <td>Madeintyo</td>\n      <td>Thank You Mr. Tokyo</td>\n      <td>Time Of Her Life</td>\n      <td>2017-07-04 12:26:00</td>\n      <td>hey hook time life dick one night grab dick mi...</td>\n    </tr>\n    <tr>\n      <th>55554</th>\n      <td>DJ Khaled</td>\n      <td>Grateful</td>\n      <td>Iced Out My Arms</td>\n      <td>2017-07-04 12:23:00</td>\n      <td>future dj khaled diamonds fingers southside yo...</td>\n    </tr>\n    <tr>\n      <th>55555</th>\n      <td>Young Thug</td>\n      <td>Beautiful Thugger Girls</td>\n      <td>Daddy's Birthday</td>\n      <td>2017-07-01 14:33:00</td>\n      <td>typical day new york know sayin high fuck diam...</td>\n    </tr>\n    <tr>\n      <th>55556</th>\n      <td>Lil Wayne</td>\n      <td>Tha Carter IV (Deluxe)</td>\n      <td>How to Love</td>\n      <td>2017-06-29 20:39:00</td>\n      <td>lil wayne cut music little louder lil wayne lo...</td>\n    </tr>\n    <tr>\n      <th>55557</th>\n      <td>2 Chainz</td>\n      <td>Pretty Girls Like Trap Music</td>\n      <td>It's A Vibe</td>\n      <td>2017-06-29 20:34:00</td>\n      <td>2 chainz hahaha m-m-m-murda yah 2 chainz trey ...</td>\n    </tr>\n  </tbody>\n</table>\n<p>55281 rows × 5 columns</p>\n</div>"
     },
     "metadata": {},
     "execution_count": 329
    }
   ],
   "source": [
    "df_merged"
   ]
  },
  {
   "cell_type": "code",
   "execution_count": 330,
   "metadata": {},
   "outputs": [],
   "source": [
    "df_merged.clean_lyrics = df_merged.clean_lyrics.fillna('')"
   ]
  },
  {
   "cell_type": "code",
   "execution_count": 331,
   "metadata": {},
   "outputs": [],
   "source": [
    "concat_lyrics = df_merged.groupby(df_merged.datetime.dt.date)['clean_lyrics'].agg(' '.join)"
   ]
  },
  {
   "cell_type": "code",
   "execution_count": 334,
   "metadata": {},
   "outputs": [],
   "source": [
    "days_top5 = concat_lyrics.apply(lambda x: get_most_common(x, 5))"
   ]
  },
  {
   "cell_type": "code",
   "execution_count": 338,
   "metadata": {},
   "outputs": [
    {
     "output_type": "execute_result",
     "data": {
      "text/plain": "datetime\n2020-04-14                 [-, feat, know, lil, love]\n2020-04-15           [bitch, nigga, know, love, fuck]\n2020-04-16          [shit, bout, pussy, talk, niggas]\n2020-04-17          [bitch, niggas, boom, shit, fuck]\n2020-04-18           [mhm, know, bitch, back, niggas]\n2020-04-19           [footnote, may, one, first, see]\n2020-04-20                  [2018, -, one, de, would]\n2020-04-21                    [-, de, one, would, la]\n2020-04-22                  [2018, -, de, one, would]\n2020-04-23               [2018, says, tony, go, know]\n2020-04-24                  [de, la, one, men, would]\n2020-04-26                 [-, lil, feat, shit, know]\n2020-04-27                 [2018, feat, 2017, -, man]\n2020-04-28             [one, would, men, great, know]\n2020-04-29               [2018, man, know, feat, one]\n2020-04-30                [2018, -, feat, 2017, love]\n2020-05-01                [-, love, back, baby, know]\n2020-05-02                [-, love, baby, back, feat]\n2020-05-03    [labour, production, -, capital, value]\n2020-05-04                  [2018, -, feat, 2017, ik]\nName: clean_lyrics, dtype: object"
     },
     "metadata": {},
     "execution_count": 338
    }
   ],
   "source": [
    "days_top5.tail(20)"
   ]
  },
  {
   "cell_type": "code",
   "execution_count": 335,
   "metadata": {},
   "outputs": [
    {
     "output_type": "execute_result",
     "data": {
      "text/plain": "              artist                             album              song  \\\n55538         Getter                  Wat The Frick EP     Something New   \n55539       Che Ecru                            buries              2 AM   \n55540         Deorro                      Good Evening          Guide Me   \n55541          BONJR                          Hey Sego          hey sego   \n55542           Oshi                              oshi     state of flux   \n55543     Young Thug                    Slime Season 3         With Them   \n55544  Hyper Potions                        Adventures        Adventures   \n55545     Young Thug           Beautiful Thugger Girls  Daddy's Birthday   \n55546     Young Thug                      Slime Season             Again   \n55547     Young Thug                      Slime Season         Overdosin   \n55548         Nessly                     Solo Boy Band      Catch A Vibe   \n55549          Drake  Future Hip Hop & RnB Hits Vol. 1      How Bout Now   \n55550       Robotaki   Ghostboy (feat. Claire Ridgely)          Ghostboy   \n55551       Che Ecru                            buries              2 AM   \n55552      DJ Khaled                          Grateful  Iced Out My Arms   \n55553      Madeintyo               Thank You Mr. Tokyo  Time Of Her Life   \n55554      DJ Khaled                          Grateful  Iced Out My Arms   \n55555     Young Thug           Beautiful Thugger Girls  Daddy's Birthday   \n55556      Lil Wayne            Tha Carter IV (Deluxe)       How to Love   \n55557       2 Chainz      Pretty Girls Like Trap Music       It's A Vibe   \n\n                 datetime                                       clean_lyrics  \\\n55538 2017-07-05 06:37:00                                       instrumental   \n55539 2017-07-05 06:34:00  1 ropes trynna hit road maybe go roll play rol...   \n55540 2017-07-05 06:31:00  1 alright feel end ill right til instrumental ...   \n55541 2017-07-05 06:28:00  give give give juice give give give give juice...   \n55542 2017-07-05 06:24:00                                       instrumental   \n55543 2017-07-05 06:20:00  thugger thugger baby fuck lets lil shawty say ...   \n55544 2017-07-04 20:53:00                                       instrumental   \n55545 2017-07-04 13:05:00  typical day new york know sayin high fuck diam...   \n55546 2017-07-04 13:01:00  gucci mane young thug nigga turn guwop trap ho...   \n55547 2017-07-04 12:50:00  thugger thugger rock water fuckin whale drug e...   \n55548 2017-07-04 12:45:00  hook oooh hop inside catch vibe quick replies ...   \n55549 2017-07-04 12:41:00  thats shit talking bout though changed even fu...   \n55550 2017-07-04 12:36:00  claire ridgely swear fell love ghost boy know ...   \n55551 2017-07-04 12:32:00  1 ropes trynna hit road maybe go roll play rol...   \n55552 2017-07-04 12:28:00  future dj khaled diamonds fingers southside yo...   \n55553 2017-07-04 12:26:00  hey hook time life dick one night grab dick mi...   \n55554 2017-07-04 12:23:00  future dj khaled diamonds fingers southside yo...   \n55555 2017-07-01 14:33:00  typical day new york know sayin high fuck diam...   \n55556 2017-06-29 20:39:00  lil wayne cut music little louder lil wayne lo...   \n55557 2017-06-29 20:34:00  2 chainz hahaha m-m-m-murda yah 2 chainz trey ...   \n\n                      clean_lyrics_concat  \n55538          [thou, na, know, thy, one]  \n55539          [thou, na, know, thy, one]  \n55540          [thou, na, know, thy, one]  \n55541          [thou, na, know, thy, one]  \n55542          [thou, na, know, thy, one]  \n55543          [thou, na, know, thy, one]  \n55544       [arms, patek, ice, put, know]  \n55545       [arms, patek, ice, put, know]  \n55546       [arms, patek, ice, put, know]  \n55547       [arms, patek, ice, put, know]  \n55548       [arms, patek, ice, put, know]  \n55549       [arms, patek, ice, put, know]  \n55550       [arms, patek, ice, put, know]  \n55551       [arms, patek, ice, put, know]  \n55552       [arms, patek, ice, put, know]  \n55553       [arms, patek, ice, put, know]  \n55554       [arms, patek, ice, put, know]  \n55555  [new, vintage, clean, fuck, brand]  \n55556     [vibe, thats, love, never, lot]  \n55557     [vibe, thats, love, never, lot]  ",
      "text/html": "<div>\n<style scoped>\n    .dataframe tbody tr th:only-of-type {\n        vertical-align: middle;\n    }\n\n    .dataframe tbody tr th {\n        vertical-align: top;\n    }\n\n    .dataframe thead th {\n        text-align: right;\n    }\n</style>\n<table border=\"1\" class=\"dataframe\">\n  <thead>\n    <tr style=\"text-align: right;\">\n      <th></th>\n      <th>artist</th>\n      <th>album</th>\n      <th>song</th>\n      <th>datetime</th>\n      <th>clean_lyrics</th>\n      <th>clean_lyrics_concat</th>\n    </tr>\n  </thead>\n  <tbody>\n    <tr>\n      <th>55538</th>\n      <td>Getter</td>\n      <td>Wat The Frick EP</td>\n      <td>Something New</td>\n      <td>2017-07-05 06:37:00</td>\n      <td>instrumental</td>\n      <td>[thou, na, know, thy, one]</td>\n    </tr>\n    <tr>\n      <th>55539</th>\n      <td>Che Ecru</td>\n      <td>buries</td>\n      <td>2 AM</td>\n      <td>2017-07-05 06:34:00</td>\n      <td>1 ropes trynna hit road maybe go roll play rol...</td>\n      <td>[thou, na, know, thy, one]</td>\n    </tr>\n    <tr>\n      <th>55540</th>\n      <td>Deorro</td>\n      <td>Good Evening</td>\n      <td>Guide Me</td>\n      <td>2017-07-05 06:31:00</td>\n      <td>1 alright feel end ill right til instrumental ...</td>\n      <td>[thou, na, know, thy, one]</td>\n    </tr>\n    <tr>\n      <th>55541</th>\n      <td>BONJR</td>\n      <td>Hey Sego</td>\n      <td>hey sego</td>\n      <td>2017-07-05 06:28:00</td>\n      <td>give give give juice give give give give juice...</td>\n      <td>[thou, na, know, thy, one]</td>\n    </tr>\n    <tr>\n      <th>55542</th>\n      <td>Oshi</td>\n      <td>oshi</td>\n      <td>state of flux</td>\n      <td>2017-07-05 06:24:00</td>\n      <td>instrumental</td>\n      <td>[thou, na, know, thy, one]</td>\n    </tr>\n    <tr>\n      <th>55543</th>\n      <td>Young Thug</td>\n      <td>Slime Season 3</td>\n      <td>With Them</td>\n      <td>2017-07-05 06:20:00</td>\n      <td>thugger thugger baby fuck lets lil shawty say ...</td>\n      <td>[thou, na, know, thy, one]</td>\n    </tr>\n    <tr>\n      <th>55544</th>\n      <td>Hyper Potions</td>\n      <td>Adventures</td>\n      <td>Adventures</td>\n      <td>2017-07-04 20:53:00</td>\n      <td>instrumental</td>\n      <td>[arms, patek, ice, put, know]</td>\n    </tr>\n    <tr>\n      <th>55545</th>\n      <td>Young Thug</td>\n      <td>Beautiful Thugger Girls</td>\n      <td>Daddy's Birthday</td>\n      <td>2017-07-04 13:05:00</td>\n      <td>typical day new york know sayin high fuck diam...</td>\n      <td>[arms, patek, ice, put, know]</td>\n    </tr>\n    <tr>\n      <th>55546</th>\n      <td>Young Thug</td>\n      <td>Slime Season</td>\n      <td>Again</td>\n      <td>2017-07-04 13:01:00</td>\n      <td>gucci mane young thug nigga turn guwop trap ho...</td>\n      <td>[arms, patek, ice, put, know]</td>\n    </tr>\n    <tr>\n      <th>55547</th>\n      <td>Young Thug</td>\n      <td>Slime Season</td>\n      <td>Overdosin</td>\n      <td>2017-07-04 12:50:00</td>\n      <td>thugger thugger rock water fuckin whale drug e...</td>\n      <td>[arms, patek, ice, put, know]</td>\n    </tr>\n    <tr>\n      <th>55548</th>\n      <td>Nessly</td>\n      <td>Solo Boy Band</td>\n      <td>Catch A Vibe</td>\n      <td>2017-07-04 12:45:00</td>\n      <td>hook oooh hop inside catch vibe quick replies ...</td>\n      <td>[arms, patek, ice, put, know]</td>\n    </tr>\n    <tr>\n      <th>55549</th>\n      <td>Drake</td>\n      <td>Future Hip Hop &amp; RnB Hits Vol. 1</td>\n      <td>How Bout Now</td>\n      <td>2017-07-04 12:41:00</td>\n      <td>thats shit talking bout though changed even fu...</td>\n      <td>[arms, patek, ice, put, know]</td>\n    </tr>\n    <tr>\n      <th>55550</th>\n      <td>Robotaki</td>\n      <td>Ghostboy (feat. Claire Ridgely)</td>\n      <td>Ghostboy</td>\n      <td>2017-07-04 12:36:00</td>\n      <td>claire ridgely swear fell love ghost boy know ...</td>\n      <td>[arms, patek, ice, put, know]</td>\n    </tr>\n    <tr>\n      <th>55551</th>\n      <td>Che Ecru</td>\n      <td>buries</td>\n      <td>2 AM</td>\n      <td>2017-07-04 12:32:00</td>\n      <td>1 ropes trynna hit road maybe go roll play rol...</td>\n      <td>[arms, patek, ice, put, know]</td>\n    </tr>\n    <tr>\n      <th>55552</th>\n      <td>DJ Khaled</td>\n      <td>Grateful</td>\n      <td>Iced Out My Arms</td>\n      <td>2017-07-04 12:28:00</td>\n      <td>future dj khaled diamonds fingers southside yo...</td>\n      <td>[arms, patek, ice, put, know]</td>\n    </tr>\n    <tr>\n      <th>55553</th>\n      <td>Madeintyo</td>\n      <td>Thank You Mr. Tokyo</td>\n      <td>Time Of Her Life</td>\n      <td>2017-07-04 12:26:00</td>\n      <td>hey hook time life dick one night grab dick mi...</td>\n      <td>[arms, patek, ice, put, know]</td>\n    </tr>\n    <tr>\n      <th>55554</th>\n      <td>DJ Khaled</td>\n      <td>Grateful</td>\n      <td>Iced Out My Arms</td>\n      <td>2017-07-04 12:23:00</td>\n      <td>future dj khaled diamonds fingers southside yo...</td>\n      <td>[arms, patek, ice, put, know]</td>\n    </tr>\n    <tr>\n      <th>55555</th>\n      <td>Young Thug</td>\n      <td>Beautiful Thugger Girls</td>\n      <td>Daddy's Birthday</td>\n      <td>2017-07-01 14:33:00</td>\n      <td>typical day new york know sayin high fuck diam...</td>\n      <td>[new, vintage, clean, fuck, brand]</td>\n    </tr>\n    <tr>\n      <th>55556</th>\n      <td>Lil Wayne</td>\n      <td>Tha Carter IV (Deluxe)</td>\n      <td>How to Love</td>\n      <td>2017-06-29 20:39:00</td>\n      <td>lil wayne cut music little louder lil wayne lo...</td>\n      <td>[vibe, thats, love, never, lot]</td>\n    </tr>\n    <tr>\n      <th>55557</th>\n      <td>2 Chainz</td>\n      <td>Pretty Girls Like Trap Music</td>\n      <td>It's A Vibe</td>\n      <td>2017-06-29 20:34:00</td>\n      <td>2 chainz hahaha m-m-m-murda yah 2 chainz trey ...</td>\n      <td>[vibe, thats, love, never, lot]</td>\n    </tr>\n  </tbody>\n</table>\n</div>"
     },
     "metadata": {},
     "execution_count": 335
    }
   ],
   "source": [
    "df_merged.join(days_top5, on = df_merged.datetime.dt.date, rsuffix = '_concat').tail(20)"
   ]
  },
  {
   "cell_type": "code",
   "execution_count": 268,
   "metadata": {},
   "outputs": [],
   "source": [
    "single_day = df_merged[df_merged.datetime.dt.date == datetime.date(2017, 7, 11)]"
   ]
  },
  {
   "cell_type": "code",
   "execution_count": 281,
   "metadata": {},
   "outputs": [],
   "source": [
    "# single_day[single_day.lyrics.str.contains('to vend and to velnerate')].loc[55212].lyrics"
   ]
  },
  {
   "cell_type": "code",
   "execution_count": 283,
   "metadata": {},
   "outputs": [
    {
     "output_type": "execute_result",
     "data": {
      "text/plain": "datetime\n2017-06-29    [Intro: 2 Chainz]\\nYeah, hahaha\\nYeah, ooh\\nM-...\n2017-07-01    [Intro]\\nJust a typical day in New York, you k...\n2017-07-04    [Verse 1]\\nI been on the ropes with you\\nSo I'...\n2017-07-05    [Verse 1]\\nI been on the ropes with you\\nSo I'...\n2017-07-06    [Verse 1]\\nI'ma handle business\\nS600 big body...\n                                    ...                        \n2020-04-30    Drake - Pain 1993 (with Playboi Carti)\\nMarshm...\n2020-05-01    Drake - Pain 1993 (with Playboi Carti)\\nMarshm...\n2020-05-02    Drake - Pain 1993 (with Playboi Carti)\\nMarshm...\n2020-05-03    Drake - Pain 1993 (with Playboi Carti)\\nMarshm...\n2020-05-04    Drake - Pain 1993 (with Playboi Carti)\\nMarshm...\nName: lyrics, Length: 969, dtype: object"
     },
     "metadata": {},
     "execution_count": 283
    }
   ],
   "source": [
    "concat_lyrics"
   ]
  },
  {
   "cell_type": "code",
   "execution_count": null,
   "metadata": {},
   "outputs": [],
   "source": []
  }
 ],
 "metadata": {
  "kernelspec": {
   "display_name": "Python 3.7.4 64-bit ('test_env': virtualenv)",
   "language": "python",
   "name": "python37464bittestenvvirtualenv5b61050c1bb74f058b32546d0da2bbe9"
  },
  "language_info": {
   "codemirror_mode": {
    "name": "ipython",
    "version": 3
   },
   "file_extension": ".py",
   "mimetype": "text/x-python",
   "name": "python",
   "nbconvert_exporter": "python",
   "pygments_lexer": "ipython3",
   "version": "3.7.4-final"
  }
 },
 "nbformat": 4,
 "nbformat_minor": 4
}