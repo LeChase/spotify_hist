{
 "cells": [
  {
   "cell_type": "code",
   "execution_count": 15,
   "metadata": {},
   "outputs": [
    {
     "name": "stdout",
     "output_type": "stream",
     "text": [
      "env: SPOTIPY_CLIENT_ID=68be2578e21e439a92f5fcc00f9cfb6a\n",
      "env: SPOTIPY_CLIENT_SECRET=45c1b5c64c8e4cbebc3d37c963e04bf9\n"
     ]
    }
   ],
   "source": [
    "# setting env var in jupyter\n",
    "%env SPOTIPY_CLIENT_ID = 68be2578e21e439a92f5fcc00f9cfb6a\n",
    "%env SPOTIPY_CLIENT_SECRET = 45c1b5c64c8e4cbebc3d37c963e04bf9\n"
   ]
  },
  {
   "cell_type": "code",
   "execution_count": 16,
   "metadata": {},
   "outputs": [],
   "source": [
    "# # setting env var in python\n",
    "# import os\n",
    "# os.environ['SPOTIPY_CLIENT_ID'] = '68be2578e21e439a92f5fcc00f9cfb6a'\n",
    "# os.environ['SPOTIPY_CLIENT_SECRET'] = '45c1b5c64c8e4cbebc3d37c963e04bf9'"
   ]
  },
  {
   "cell_type": "code",
   "execution_count": 11,
   "metadata": {},
   "outputs": [],
   "source": [
    "import spotipy"
   ]
  },
  {
   "cell_type": "code",
   "execution_count": 12,
   "metadata": {},
   "outputs": [],
   "source": [
    "from spotipy.oauth2 import SpotifyClientCredentials"
   ]
  },
  {
   "cell_type": "code",
   "execution_count": 17,
   "metadata": {},
   "outputs": [],
   "source": [
    "spotify = spotipy.Spotify(client_credentials_manager=SpotifyClientCredentials())"
   ]
  },
  {
   "cell_type": "code",
   "execution_count": 18,
   "metadata": {},
   "outputs": [
    {
     "data": {
      "text/plain": [
       "<spotipy.client.Spotify at 0x11598abd0>"
      ]
     },
     "execution_count": 18,
     "metadata": {},
     "output_type": "execute_result"
    }
   ],
   "source": [
    "spotify"
   ]
  },
  {
   "cell_type": "code",
   "execution_count": null,
   "metadata": {},
   "outputs": [],
   "source": []
  },
  {
   "cell_type": "code",
   "execution_count": 38,
   "metadata": {},
   "outputs": [],
   "source": [
    "result = spotify.search(q = 'artist: Tobi Lou track: Waterboy',  type = 'track')"
   ]
  },
  {
   "cell_type": "code",
   "execution_count": 74,
   "metadata": {},
   "outputs": [
    {
     "data": {
      "text/plain": [
       "dict_keys(['album', 'artists', 'available_markets', 'disc_number', 'duration_ms', 'explicit', 'external_ids', 'external_urls', 'href', 'id', 'is_local', 'name', 'popularity', 'preview_url', 'track_number', 'type', 'uri'])"
      ]
     },
     "execution_count": 74,
     "metadata": {},
     "output_type": "execute_result"
    }
   ],
   "source": [
    "result['tracks']['items'][0].keys()"
   ]
  },
  {
   "cell_type": "code",
   "execution_count": 86,
   "metadata": {},
   "outputs": [
    {
     "data": {
      "text/plain": [
       "'1zEbNKskIXJrLnuw5riAYO'"
      ]
     },
     "execution_count": 86,
     "metadata": {},
     "output_type": "execute_result"
    }
   ],
   "source": [
    "result['tracks']['items'][0]['id']"
   ]
  },
  {
   "cell_type": "code",
   "execution_count": null,
   "metadata": {},
   "outputs": [],
   "source": []
  },
  {
   "cell_type": "code",
   "execution_count": null,
   "metadata": {},
   "outputs": [],
   "source": []
  },
  {
   "cell_type": "code",
   "execution_count": null,
   "metadata": {},
   "outputs": [],
   "source": []
  },
  {
   "cell_type": "code",
   "execution_count": 77,
   "metadata": {},
   "outputs": [],
   "source": [
    "uri = '1zEbNKskIXJrLnuw5riAYO'"
   ]
  },
  {
   "cell_type": "code",
   "execution_count": 78,
   "metadata": {},
   "outputs": [],
   "source": [
    "track = spotify.track(uri)"
   ]
  },
  {
   "cell_type": "code",
   "execution_count": 79,
   "metadata": {},
   "outputs": [],
   "source": [
    "features = spotify.audio_features([uri])"
   ]
  },
  {
   "cell_type": "code",
   "execution_count": 80,
   "metadata": {},
   "outputs": [
    {
     "data": {
      "text/plain": [
       "[{'danceability': 0.781,\n",
       "  'energy': 0.679,\n",
       "  'key': 1,\n",
       "  'loudness': -6.459,\n",
       "  'mode': 1,\n",
       "  'speechiness': 0.0447,\n",
       "  'acousticness': 0.0854,\n",
       "  'instrumentalness': 0,\n",
       "  'liveness': 0.138,\n",
       "  'valence': 0.511,\n",
       "  'tempo': 129.98,\n",
       "  'type': 'audio_features',\n",
       "  'id': '1zEbNKskIXJrLnuw5riAYO',\n",
       "  'uri': 'spotify:track:1zEbNKskIXJrLnuw5riAYO',\n",
       "  'track_href': 'https://api.spotify.com/v1/tracks/1zEbNKskIXJrLnuw5riAYO',\n",
       "  'analysis_url': 'https://api.spotify.com/v1/audio-analysis/1zEbNKskIXJrLnuw5riAYO',\n",
       "  'duration_ms': 191883,\n",
       "  'time_signature': 4}]"
      ]
     },
     "execution_count": 80,
     "metadata": {},
     "output_type": "execute_result"
    }
   ],
   "source": [
    "features"
   ]
  },
  {
   "cell_type": "code",
   "execution_count": 63,
   "metadata": {},
   "outputs": [],
   "source": [
    "# spotify.track(uri)"
   ]
  },
  {
   "cell_type": "code",
   "execution_count": 112,
   "metadata": {},
   "outputs": [],
   "source": [
    "def get_track_id(artist, song):\n",
    "    try:\n",
    "        result = spotify.search(q = 'artist: {} track: {}'.format(artist, song),  type = 'track')\n",
    "        return result['tracks']['items'][0]['id']\n",
    "    except IndexError:\n",
    "        return ''"
   ]
  },
  {
   "cell_type": "code",
   "execution_count": 121,
   "metadata": {},
   "outputs": [
    {
     "data": {
      "text/plain": [
       "'6G8kHiVZ1jW7vHMPVRNZU0'"
      ]
     },
     "execution_count": 121,
     "metadata": {},
     "output_type": "execute_result"
    }
   ],
   "source": [
    "ID = get_track_id('Drake', 'Don’t Matter To Me (with Michael Jackson)')\n",
    "ID\n"
   ]
  },
  {
   "cell_type": "code",
   "execution_count": 122,
   "metadata": {},
   "outputs": [
    {
     "data": {
      "text/plain": [
       "[{'danceability': 0.826,\n",
       "  'energy': 0.318,\n",
       "  'key': 10,\n",
       "  'loudness': -12.391,\n",
       "  'mode': 1,\n",
       "  'speechiness': 0.0574,\n",
       "  'acousticness': 0.493,\n",
       "  'instrumentalness': 0.0131,\n",
       "  'liveness': 0.11,\n",
       "  'valence': 0.138,\n",
       "  'tempo': 103.002,\n",
       "  'type': 'audio_features',\n",
       "  'id': '6G8kHiVZ1jW7vHMPVRNZU0',\n",
       "  'uri': 'spotify:track:6G8kHiVZ1jW7vHMPVRNZU0',\n",
       "  'track_href': 'https://api.spotify.com/v1/tracks/6G8kHiVZ1jW7vHMPVRNZU0',\n",
       "  'analysis_url': 'https://api.spotify.com/v1/audio-analysis/6G8kHiVZ1jW7vHMPVRNZU0',\n",
       "  'duration_ms': 245787,\n",
       "  'time_signature': 4}]"
      ]
     },
     "execution_count": 122,
     "metadata": {},
     "output_type": "execute_result"
    }
   ],
   "source": [
    "spotify.audio_features(ID)\n",
    "\n",
    "\n"
   ]
  },
  {
   "cell_type": "code",
   "execution_count": null,
   "metadata": {},
   "outputs": [],
   "source": []
  },
  {
   "cell_type": "code",
   "execution_count": null,
   "metadata": {},
   "outputs": [],
   "source": []
  }
 ],
 "metadata": {
  "kernelspec": {
   "display_name": "Python 3",
   "language": "python",
   "name": "python3"
  },
  "language_info": {
   "codemirror_mode": {
    "name": "ipython",
    "version": 3
   },
   "file_extension": ".py",
   "mimetype": "text/x-python",
   "name": "python",
   "nbconvert_exporter": "python",
   "pygments_lexer": "ipython3",
   "version": "3.7.4"
  }
 },
 "nbformat": 4,
 "nbformat_minor": 4
}
